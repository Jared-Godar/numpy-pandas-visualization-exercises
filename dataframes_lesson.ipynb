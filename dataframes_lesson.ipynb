{
 "cells": [
  {
   "cell_type": "markdown",
   "id": "7d6f7b6e",
   "metadata": {},
   "source": [
    "# Dataframes\n",
    "- Represent tabulat, 2-dimensional data\n",
    "- Made of pandas series\n",
    "- Additional functionality"
   ]
  },
  {
   "cell_type": "code",
   "execution_count": 1,
   "id": "653f2f71",
   "metadata": {},
   "outputs": [],
   "source": [
    "import pandas as pd"
   ]
  },
  {
   "cell_type": "code",
   "execution_count": 2,
   "id": "bdc540ce",
   "metadata": {},
   "outputs": [],
   "source": [
    "books = [\n",
    "    {\n",
    "        \"title\": \"Genetic Algorithms and Machine Learning for Programmers\",\n",
    "        \"price\": 36.99,\n",
    "        \"author\": \"Frances Buontempo\"\n",
    "    },\n",
    "    {\n",
    "        \"title\": \"The Visual Display of Quantitative Information\",\n",
    "        \"price\": 38.00,\n",
    "        \"author\": \"Edward Tufte\"\n",
    "    },\n",
    "    {\n",
    "        \"title\": \"Practical Object-Oriented Design\",\n",
    "        \"author\": \"Sandi Metz\",\n",
    "        \"price\": 30.47\n",
    "    },\n",
    "    {\n",
    "        \"title\": \"Weapons of Math Destruction\",\n",
    "        \"author\": \"Cathy O'Neil\",\n",
    "        \"price\": 17.44\n",
    "    }\n",
    "]"
   ]
  },
  {
   "cell_type": "code",
   "execution_count": 4,
   "id": "839b9aff",
   "metadata": {},
   "outputs": [
    {
     "data": {
      "text/html": [
       "<div>\n",
       "<style scoped>\n",
       "    .dataframe tbody tr th:only-of-type {\n",
       "        vertical-align: middle;\n",
       "    }\n",
       "\n",
       "    .dataframe tbody tr th {\n",
       "        vertical-align: top;\n",
       "    }\n",
       "\n",
       "    .dataframe thead th {\n",
       "        text-align: right;\n",
       "    }\n",
       "</style>\n",
       "<table border=\"1\" class=\"dataframe\">\n",
       "  <thead>\n",
       "    <tr style=\"text-align: right;\">\n",
       "      <th></th>\n",
       "      <th>title</th>\n",
       "      <th>price</th>\n",
       "      <th>author</th>\n",
       "    </tr>\n",
       "  </thead>\n",
       "  <tbody>\n",
       "    <tr>\n",
       "      <th>0</th>\n",
       "      <td>Genetic Algorithms and Machine Learning for Pr...</td>\n",
       "      <td>36.99</td>\n",
       "      <td>Frances Buontempo</td>\n",
       "    </tr>\n",
       "    <tr>\n",
       "      <th>1</th>\n",
       "      <td>The Visual Display of Quantitative Information</td>\n",
       "      <td>38.00</td>\n",
       "      <td>Edward Tufte</td>\n",
       "    </tr>\n",
       "    <tr>\n",
       "      <th>2</th>\n",
       "      <td>Practical Object-Oriented Design</td>\n",
       "      <td>30.47</td>\n",
       "      <td>Sandi Metz</td>\n",
       "    </tr>\n",
       "    <tr>\n",
       "      <th>3</th>\n",
       "      <td>Weapons of Math Destruction</td>\n",
       "      <td>17.44</td>\n",
       "      <td>Cathy O'Neil</td>\n",
       "    </tr>\n",
       "  </tbody>\n",
       "</table>\n",
       "</div>"
      ],
      "text/plain": [
       "                                               title  price             author\n",
       "0  Genetic Algorithms and Machine Learning for Pr...  36.99  Frances Buontempo\n",
       "1     The Visual Display of Quantitative Information  38.00       Edward Tufte\n",
       "2                   Practical Object-Oriented Design  30.47         Sandi Metz\n",
       "3                        Weapons of Math Destruction  17.44       Cathy O'Neil"
      ]
     },
     "execution_count": 4,
     "metadata": {},
     "output_type": "execute_result"
    }
   ],
   "source": [
    "books = pd.DataFrame(books)\n",
    "books"
   ]
  },
  {
   "cell_type": "code",
   "execution_count": 5,
   "id": "09f98c4c",
   "metadata": {},
   "outputs": [
    {
     "data": {
      "text/plain": [
       "4"
      ]
     },
     "execution_count": 5,
     "metadata": {},
     "output_type": "execute_result"
    }
   ],
   "source": [
    "len(books)"
   ]
  },
  {
   "cell_type": "code",
   "execution_count": 6,
   "id": "e40c7fbf",
   "metadata": {},
   "outputs": [
    {
     "data": {
      "text/plain": [
       "(4, 3)"
      ]
     },
     "execution_count": 6,
     "metadata": {},
     "output_type": "execute_result"
    }
   ],
   "source": [
    "#Shape method returns tuple of row and column\n",
    "books.shape"
   ]
  },
  {
   "cell_type": "code",
   "execution_count": null,
   "id": "0d0333e7",
   "metadata": {},
   "outputs": [],
   "source": [
    "# .something = method\n",
    "# something() = function"
   ]
  },
  {
   "cell_type": "code",
   "execution_count": 7,
   "id": "7246b9f6",
   "metadata": {},
   "outputs": [
    {
     "data": {
      "text/plain": [
       "12"
      ]
     },
     "execution_count": 7,
     "metadata": {},
     "output_type": "execute_result"
    }
   ],
   "source": [
    "# .size returns the number of cells: rows x columns - counts null values\n",
    "books.size\n"
   ]
  },
  {
   "cell_type": "code",
   "execution_count": 8,
   "id": "6e3ffca9",
   "metadata": {},
   "outputs": [
    {
     "data": {
      "text/plain": [
       "122.9"
      ]
     },
     "execution_count": 8,
     "metadata": {},
     "output_type": "execute_result"
    }
   ],
   "source": [
    "books.price.sum()"
   ]
  },
  {
   "cell_type": "code",
   "execution_count": 9,
   "id": "7c9e5aac",
   "metadata": {},
   "outputs": [
    {
     "data": {
      "text/plain": [
       "0    36.99\n",
       "1    38.00\n",
       "2    30.47\n",
       "3    17.44\n",
       "Name: price, dtype: float64"
      ]
     },
     "execution_count": 9,
     "metadata": {},
     "output_type": "execute_result"
    }
   ],
   "source": [
    "books.price"
   ]
  },
  {
   "cell_type": "code",
   "execution_count": 11,
   "id": "23c2703d",
   "metadata": {},
   "outputs": [
    {
     "data": {
      "text/plain": [
       "pandas.core.series.Series"
      ]
     },
     "execution_count": 11,
     "metadata": {},
     "output_type": "execute_result"
    }
   ],
   "source": [
    "type(books.price)"
   ]
  },
  {
   "cell_type": "code",
   "execution_count": 13,
   "id": "6c4c5def",
   "metadata": {},
   "outputs": [
    {
     "data": {
      "text/plain": [
       "122.9"
      ]
     },
     "execution_count": 13,
     "metadata": {},
     "output_type": "execute_result"
    }
   ],
   "source": [
    "#Bracket notation\n",
    "#Works if there is a space in the column name\n",
    "#Best to use snake case - lowercase_with_underscores\n",
    "books[\"price\"].sum()"
   ]
  },
  {
   "cell_type": "code",
   "execution_count": 14,
   "id": "b4dc2bd6",
   "metadata": {},
   "outputs": [
    {
     "data": {
      "text/plain": [
       "30.725"
      ]
     },
     "execution_count": 14,
     "metadata": {},
     "output_type": "execute_result"
    }
   ],
   "source": [
    "books.price.mean()"
   ]
  },
  {
   "cell_type": "code",
   "execution_count": 15,
   "id": "be1efe74",
   "metadata": {},
   "outputs": [
    {
     "data": {
      "text/plain": [
       "count     4.000000\n",
       "mean     30.725000\n",
       "std       9.464532\n",
       "min      17.440000\n",
       "25%      27.212500\n",
       "50%      33.730000\n",
       "75%      37.242500\n",
       "max      38.000000\n",
       "Name: price, dtype: float64"
      ]
     },
     "execution_count": 15,
     "metadata": {},
     "output_type": "execute_result"
    }
   ],
   "source": [
    "books.price.describe()"
   ]
  },
  {
   "cell_type": "code",
   "execution_count": 16,
   "id": "5477fe24",
   "metadata": {},
   "outputs": [
    {
     "data": {
      "text/html": [
       "<div>\n",
       "<style scoped>\n",
       "    .dataframe tbody tr th:only-of-type {\n",
       "        vertical-align: middle;\n",
       "    }\n",
       "\n",
       "    .dataframe tbody tr th {\n",
       "        vertical-align: top;\n",
       "    }\n",
       "\n",
       "    .dataframe thead th {\n",
       "        text-align: right;\n",
       "    }\n",
       "</style>\n",
       "<table border=\"1\" class=\"dataframe\">\n",
       "  <thead>\n",
       "    <tr style=\"text-align: right;\">\n",
       "      <th></th>\n",
       "      <th>title</th>\n",
       "      <th>price</th>\n",
       "      <th>author</th>\n",
       "    </tr>\n",
       "  </thead>\n",
       "  <tbody>\n",
       "    <tr>\n",
       "      <th>0</th>\n",
       "      <td>Genetic Algorithms and Machine Learning for Pr...</td>\n",
       "      <td>36.99</td>\n",
       "      <td>Frances Buontempo</td>\n",
       "    </tr>\n",
       "  </tbody>\n",
       "</table>\n",
       "</div>"
      ],
      "text/plain": [
       "                                               title  price             author\n",
       "0  Genetic Algorithms and Machine Learning for Pr...  36.99  Frances Buontempo"
      ]
     },
     "execution_count": 16,
     "metadata": {},
     "output_type": "execute_result"
    }
   ],
   "source": [
    "#boolean mask to return first row\n",
    "books[books.index == 0]"
   ]
  },
  {
   "cell_type": "code",
   "execution_count": 18,
   "id": "29bd81b9",
   "metadata": {},
   "outputs": [
    {
     "data": {
      "text/plain": [
       "0    36.99\n",
       "Name: price, dtype: float64"
      ]
     },
     "execution_count": 18,
     "metadata": {},
     "output_type": "execute_result"
    }
   ],
   "source": [
    "books['price'][books.index ==0]"
   ]
  },
  {
   "cell_type": "code",
   "execution_count": 19,
   "id": "1bf3d887",
   "metadata": {},
   "outputs": [
    {
     "data": {
      "text/plain": [
       "title     Genetic Algorithms and Machine Learning for Pr...\n",
       "price                                                 36.99\n",
       "author                                    Frances Buontempo\n",
       "Name: 0, dtype: object"
      ]
     },
     "execution_count": 19,
     "metadata": {},
     "output_type": "execute_result"
    }
   ],
   "source": [
    "#pull specufuc record\n",
    "books.iloc[0]"
   ]
  },
  {
   "cell_type": "code",
   "execution_count": 20,
   "id": "cce189a9",
   "metadata": {},
   "outputs": [
    {
     "data": {
      "text/plain": [
       "1"
      ]
     },
     "execution_count": 20,
     "metadata": {},
     "output_type": "execute_result"
    }
   ],
   "source": [
    "books.price.idxmax()\n"
   ]
  },
  {
   "cell_type": "code",
   "execution_count": 23,
   "id": "f39bc18f",
   "metadata": {},
   "outputs": [
    {
     "data": {
      "text/html": [
       "<div>\n",
       "<style scoped>\n",
       "    .dataframe tbody tr th:only-of-type {\n",
       "        vertical-align: middle;\n",
       "    }\n",
       "\n",
       "    .dataframe tbody tr th {\n",
       "        vertical-align: top;\n",
       "    }\n",
       "\n",
       "    .dataframe thead th {\n",
       "        text-align: right;\n",
       "    }\n",
       "</style>\n",
       "<table border=\"1\" class=\"dataframe\">\n",
       "  <thead>\n",
       "    <tr style=\"text-align: right;\">\n",
       "      <th></th>\n",
       "      <th>title</th>\n",
       "      <th>price</th>\n",
       "      <th>author</th>\n",
       "    </tr>\n",
       "  </thead>\n",
       "  <tbody>\n",
       "    <tr>\n",
       "      <th>1</th>\n",
       "      <td>The Visual Display of Quantitative Information</td>\n",
       "      <td>38.0</td>\n",
       "      <td>Edward Tufte</td>\n",
       "    </tr>\n",
       "  </tbody>\n",
       "</table>\n",
       "</div>"
      ],
      "text/plain": [
       "                                            title  price        author\n",
       "1  The Visual Display of Quantitative Information   38.0  Edward Tufte"
      ]
     },
     "execution_count": 23,
     "metadata": {},
     "output_type": "execute_result"
    }
   ],
   "source": [
    "books[books.index == books.price.idxmax()]\n"
   ]
  },
  {
   "cell_type": "code",
   "execution_count": 24,
   "id": "bb859472",
   "metadata": {},
   "outputs": [],
   "source": [
    "# useful piece of info - save as variable\n",
    "\n",
    "highest_price_index = books.price.idxmax()\n"
   ]
  },
  {
   "cell_type": "code",
   "execution_count": 25,
   "id": "d27a38e1",
   "metadata": {},
   "outputs": [
    {
     "data": {
      "text/plain": [
       "title     The Visual Display of Quantitative Information\n",
       "price                                               38.0\n",
       "author                                      Edward Tufte\n",
       "Name: 1, dtype: object"
      ]
     },
     "execution_count": 25,
     "metadata": {},
     "output_type": "execute_result"
    }
   ],
   "source": [
    "books.iloc[highest_price_index]"
   ]
  },
  {
   "cell_type": "code",
   "execution_count": 26,
   "id": "d29c40df",
   "metadata": {},
   "outputs": [
    {
     "data": {
      "text/html": [
       "<div>\n",
       "<style scoped>\n",
       "    .dataframe tbody tr th:only-of-type {\n",
       "        vertical-align: middle;\n",
       "    }\n",
       "\n",
       "    .dataframe tbody tr th {\n",
       "        vertical-align: top;\n",
       "    }\n",
       "\n",
       "    .dataframe thead th {\n",
       "        text-align: right;\n",
       "    }\n",
       "</style>\n",
       "<table border=\"1\" class=\"dataframe\">\n",
       "  <thead>\n",
       "    <tr style=\"text-align: right;\">\n",
       "      <th></th>\n",
       "      <th>title</th>\n",
       "      <th>price</th>\n",
       "      <th>author</th>\n",
       "    </tr>\n",
       "  </thead>\n",
       "  <tbody>\n",
       "    <tr>\n",
       "      <th>3</th>\n",
       "      <td>Weapons of Math Destruction</td>\n",
       "      <td>17.44</td>\n",
       "      <td>Cathy O'Neil</td>\n",
       "    </tr>\n",
       "  </tbody>\n",
       "</table>\n",
       "</div>"
      ],
      "text/plain": [
       "                         title  price        author\n",
       "3  Weapons of Math Destruction  17.44  Cathy O'Neil"
      ]
     },
     "execution_count": 26,
     "metadata": {},
     "output_type": "execute_result"
    }
   ],
   "source": [
    "books[books.index == books.price.idxmin()]"
   ]
  },
  {
   "cell_type": "code",
   "execution_count": 28,
   "id": "fd38439b",
   "metadata": {},
   "outputs": [
    {
     "data": {
      "text/html": [
       "<div>\n",
       "<style scoped>\n",
       "    .dataframe tbody tr th:only-of-type {\n",
       "        vertical-align: middle;\n",
       "    }\n",
       "\n",
       "    .dataframe tbody tr th {\n",
       "        vertical-align: top;\n",
       "    }\n",
       "\n",
       "    .dataframe thead th {\n",
       "        text-align: right;\n",
       "    }\n",
       "</style>\n",
       "<table border=\"1\" class=\"dataframe\">\n",
       "  <thead>\n",
       "    <tr style=\"text-align: right;\">\n",
       "      <th></th>\n",
       "      <th>title</th>\n",
       "      <th>price</th>\n",
       "      <th>author</th>\n",
       "    </tr>\n",
       "  </thead>\n",
       "  <tbody>\n",
       "    <tr>\n",
       "      <th>2</th>\n",
       "      <td>Practical Object-Oriented Design</td>\n",
       "      <td>30.47</td>\n",
       "      <td>Sandi Metz</td>\n",
       "    </tr>\n",
       "    <tr>\n",
       "      <th>3</th>\n",
       "      <td>Weapons of Math Destruction</td>\n",
       "      <td>17.44</td>\n",
       "      <td>Cathy O'Neil</td>\n",
       "    </tr>\n",
       "  </tbody>\n",
       "</table>\n",
       "</div>"
      ],
      "text/plain": [
       "                              title  price        author\n",
       "2  Practical Object-Oriented Design  30.47    Sandi Metz\n",
       "3       Weapons of Math Destruction  17.44  Cathy O'Neil"
      ]
     },
     "execution_count": 28,
     "metadata": {},
     "output_type": "execute_result"
    }
   ],
   "source": [
    "books[books.index >= 2]"
   ]
  },
  {
   "cell_type": "code",
   "execution_count": 29,
   "id": "5c6f4f2d",
   "metadata": {},
   "outputs": [
    {
     "data": {
      "text/html": [
       "<div>\n",
       "<style scoped>\n",
       "    .dataframe tbody tr th:only-of-type {\n",
       "        vertical-align: middle;\n",
       "    }\n",
       "\n",
       "    .dataframe tbody tr th {\n",
       "        vertical-align: top;\n",
       "    }\n",
       "\n",
       "    .dataframe thead th {\n",
       "        text-align: right;\n",
       "    }\n",
       "</style>\n",
       "<table border=\"1\" class=\"dataframe\">\n",
       "  <thead>\n",
       "    <tr style=\"text-align: right;\">\n",
       "      <th></th>\n",
       "      <th>title</th>\n",
       "      <th>price</th>\n",
       "      <th>author</th>\n",
       "    </tr>\n",
       "  </thead>\n",
       "  <tbody>\n",
       "    <tr>\n",
       "      <th>2</th>\n",
       "      <td>Practical Object-Oriented Design</td>\n",
       "      <td>30.47</td>\n",
       "      <td>Sandi Metz</td>\n",
       "    </tr>\n",
       "  </tbody>\n",
       "</table>\n",
       "</div>"
      ],
      "text/plain": [
       "                              title  price      author\n",
       "2  Practical Object-Oriented Design  30.47  Sandi Metz"
      ]
     },
     "execution_count": 29,
     "metadata": {},
     "output_type": "execute_result"
    }
   ],
   "source": [
    "books[books.author == 'Sandi Metz']"
   ]
  },
  {
   "cell_type": "code",
   "execution_count": 31,
   "id": "d2885358",
   "metadata": {},
   "outputs": [
    {
     "data": {
      "text/html": [
       "<div>\n",
       "<style scoped>\n",
       "    .dataframe tbody tr th:only-of-type {\n",
       "        vertical-align: middle;\n",
       "    }\n",
       "\n",
       "    .dataframe tbody tr th {\n",
       "        vertical-align: top;\n",
       "    }\n",
       "\n",
       "    .dataframe thead th {\n",
       "        text-align: right;\n",
       "    }\n",
       "</style>\n",
       "<table border=\"1\" class=\"dataframe\">\n",
       "  <thead>\n",
       "    <tr style=\"text-align: right;\">\n",
       "      <th></th>\n",
       "      <th>title</th>\n",
       "      <th>price</th>\n",
       "      <th>author</th>\n",
       "    </tr>\n",
       "  </thead>\n",
       "  <tbody>\n",
       "    <tr>\n",
       "      <th>2</th>\n",
       "      <td>Practical Object-Oriented Design</td>\n",
       "      <td>30.47</td>\n",
       "      <td>Sandi Metz</td>\n",
       "    </tr>\n",
       "  </tbody>\n",
       "</table>\n",
       "</div>"
      ],
      "text/plain": [
       "                              title  price      author\n",
       "2  Practical Object-Oriented Design  30.47  Sandi Metz"
      ]
     },
     "execution_count": 31,
     "metadata": {},
     "output_type": "execute_result"
    }
   ],
   "source": [
    "books[books.author.str.contains(\"San\")]"
   ]
  },
  {
   "cell_type": "code",
   "execution_count": 32,
   "id": "147d9e20",
   "metadata": {},
   "outputs": [
    {
     "data": {
      "text/plain": [
       "0    False\n",
       "1    False\n",
       "2    False\n",
       "3    False\n",
       "4     True\n",
       "5     True\n",
       "6     True\n",
       "7     True\n",
       "8     True\n",
       "9     True\n",
       "dtype: bool"
      ]
     },
     "execution_count": 32,
     "metadata": {},
     "output_type": "execute_result"
    }
   ],
   "source": [
    "x = pd.Series(range(1,11))\n",
    "x >=5"
   ]
  },
  {
   "cell_type": "code",
   "execution_count": 33,
   "id": "3f8820ed",
   "metadata": {},
   "outputs": [
    {
     "data": {
      "text/plain": [
       "5     6\n",
       "6     7\n",
       "7     8\n",
       "8     9\n",
       "9    10\n",
       "dtype: int64"
      ]
     },
     "execution_count": 33,
     "metadata": {},
     "output_type": "execute_result"
    }
   ],
   "source": [
    "x[x>5]"
   ]
  },
  {
   "cell_type": "code",
   "execution_count": 34,
   "id": "f4807600",
   "metadata": {},
   "outputs": [
    {
     "data": {
      "text/plain": [
       "pandas.core.frame.DataFrame"
      ]
     },
     "execution_count": 34,
     "metadata": {},
     "output_type": "execute_result"
    }
   ],
   "source": [
    "import pandas as pd\n",
    "import numpy as np\n",
    "\n",
    "np.random.seed(123)\n",
    "\n",
    "students = ['Sally', 'Jane', 'Suzie', 'Billy', 'Ada', 'John', 'Thomas',\n",
    "            'Marie', 'Albert', 'Richard', 'Isaac', 'Alan']\n",
    "\n",
    "# randomly generate scores for each student for each subject\n",
    "# note that all the values need to have the same length here\n",
    "math_grades = np.random.randint(low=60, high=100, size=len(students))\n",
    "english_grades = np.random.randint(low=60, high=100, size=len(students))\n",
    "reading_grades = np.random.randint(low=60, high=100, size=len(students))\n",
    "\n",
    "df = pd.DataFrame({'name': students,\n",
    "                   'math': math_grades,\n",
    "                   'english': english_grades,\n",
    "                   'reading': reading_grades})\n",
    "\n",
    "type(df)"
   ]
  },
  {
   "cell_type": "code",
   "execution_count": 35,
   "id": "5becd29b",
   "metadata": {},
   "outputs": [
    {
     "name": "stdout",
     "output_type": "stream",
     "text": [
      "       name  math  english  reading\n",
      "0     Sally    62       85       80\n",
      "1      Jane    88       79       67\n",
      "2     Suzie    94       74       95\n",
      "3     Billy    98       96       88\n",
      "4       Ada    77       92       98\n",
      "5      John    79       76       93\n",
      "6    Thomas    82       64       81\n",
      "7     Marie    93       63       90\n",
      "8    Albert    92       62       87\n",
      "9   Richard    69       80       94\n",
      "10    Isaac    92       99       93\n",
      "11     Alan    92       62       72\n"
     ]
    }
   ],
   "source": [
    "print(df)"
   ]
  },
  {
   "cell_type": "code",
   "execution_count": 36,
   "id": "3b3b86ad",
   "metadata": {},
   "outputs": [
    {
     "data": {
      "text/html": [
       "<div>\n",
       "<style scoped>\n",
       "    .dataframe tbody tr th:only-of-type {\n",
       "        vertical-align: middle;\n",
       "    }\n",
       "\n",
       "    .dataframe tbody tr th {\n",
       "        vertical-align: top;\n",
       "    }\n",
       "\n",
       "    .dataframe thead th {\n",
       "        text-align: right;\n",
       "    }\n",
       "</style>\n",
       "<table border=\"1\" class=\"dataframe\">\n",
       "  <thead>\n",
       "    <tr style=\"text-align: right;\">\n",
       "      <th></th>\n",
       "      <th>name</th>\n",
       "      <th>math</th>\n",
       "      <th>english</th>\n",
       "      <th>reading</th>\n",
       "    </tr>\n",
       "  </thead>\n",
       "  <tbody>\n",
       "    <tr>\n",
       "      <th>0</th>\n",
       "      <td>Sally</td>\n",
       "      <td>62</td>\n",
       "      <td>85</td>\n",
       "      <td>80</td>\n",
       "    </tr>\n",
       "    <tr>\n",
       "      <th>1</th>\n",
       "      <td>Jane</td>\n",
       "      <td>88</td>\n",
       "      <td>79</td>\n",
       "      <td>67</td>\n",
       "    </tr>\n",
       "    <tr>\n",
       "      <th>2</th>\n",
       "      <td>Suzie</td>\n",
       "      <td>94</td>\n",
       "      <td>74</td>\n",
       "      <td>95</td>\n",
       "    </tr>\n",
       "    <tr>\n",
       "      <th>3</th>\n",
       "      <td>Billy</td>\n",
       "      <td>98</td>\n",
       "      <td>96</td>\n",
       "      <td>88</td>\n",
       "    </tr>\n",
       "    <tr>\n",
       "      <th>4</th>\n",
       "      <td>Ada</td>\n",
       "      <td>77</td>\n",
       "      <td>92</td>\n",
       "      <td>98</td>\n",
       "    </tr>\n",
       "    <tr>\n",
       "      <th>5</th>\n",
       "      <td>John</td>\n",
       "      <td>79</td>\n",
       "      <td>76</td>\n",
       "      <td>93</td>\n",
       "    </tr>\n",
       "    <tr>\n",
       "      <th>6</th>\n",
       "      <td>Thomas</td>\n",
       "      <td>82</td>\n",
       "      <td>64</td>\n",
       "      <td>81</td>\n",
       "    </tr>\n",
       "    <tr>\n",
       "      <th>7</th>\n",
       "      <td>Marie</td>\n",
       "      <td>93</td>\n",
       "      <td>63</td>\n",
       "      <td>90</td>\n",
       "    </tr>\n",
       "    <tr>\n",
       "      <th>8</th>\n",
       "      <td>Albert</td>\n",
       "      <td>92</td>\n",
       "      <td>62</td>\n",
       "      <td>87</td>\n",
       "    </tr>\n",
       "    <tr>\n",
       "      <th>9</th>\n",
       "      <td>Richard</td>\n",
       "      <td>69</td>\n",
       "      <td>80</td>\n",
       "      <td>94</td>\n",
       "    </tr>\n",
       "    <tr>\n",
       "      <th>10</th>\n",
       "      <td>Isaac</td>\n",
       "      <td>92</td>\n",
       "      <td>99</td>\n",
       "      <td>93</td>\n",
       "    </tr>\n",
       "    <tr>\n",
       "      <th>11</th>\n",
       "      <td>Alan</td>\n",
       "      <td>92</td>\n",
       "      <td>62</td>\n",
       "      <td>72</td>\n",
       "    </tr>\n",
       "  </tbody>\n",
       "</table>\n",
       "</div>"
      ],
      "text/plain": [
       "       name  math  english  reading\n",
       "0     Sally    62       85       80\n",
       "1      Jane    88       79       67\n",
       "2     Suzie    94       74       95\n",
       "3     Billy    98       96       88\n",
       "4       Ada    77       92       98\n",
       "5      John    79       76       93\n",
       "6    Thomas    82       64       81\n",
       "7     Marie    93       63       90\n",
       "8    Albert    92       62       87\n",
       "9   Richard    69       80       94\n",
       "10    Isaac    92       99       93\n",
       "11     Alan    92       62       72"
      ]
     },
     "execution_count": 36,
     "metadata": {},
     "output_type": "execute_result"
    }
   ],
   "source": [
    "df"
   ]
  },
  {
   "cell_type": "code",
   "execution_count": 37,
   "id": "fcefae51",
   "metadata": {},
   "outputs": [
    {
     "data": {
      "text/html": [
       "<div>\n",
       "<style scoped>\n",
       "    .dataframe tbody tr th:only-of-type {\n",
       "        vertical-align: middle;\n",
       "    }\n",
       "\n",
       "    .dataframe tbody tr th {\n",
       "        vertical-align: top;\n",
       "    }\n",
       "\n",
       "    .dataframe thead th {\n",
       "        text-align: right;\n",
       "    }\n",
       "</style>\n",
       "<table border=\"1\" class=\"dataframe\">\n",
       "  <thead>\n",
       "    <tr style=\"text-align: right;\">\n",
       "      <th></th>\n",
       "      <th>name</th>\n",
       "      <th>math</th>\n",
       "      <th>english</th>\n",
       "      <th>reading</th>\n",
       "    </tr>\n",
       "  </thead>\n",
       "  <tbody>\n",
       "    <tr>\n",
       "      <th>1</th>\n",
       "      <td>Jane</td>\n",
       "      <td>88</td>\n",
       "      <td>79</td>\n",
       "      <td>67</td>\n",
       "    </tr>\n",
       "  </tbody>\n",
       "</table>\n",
       "</div>"
      ],
      "text/plain": [
       "   name  math  english  reading\n",
       "1  Jane    88       79       67"
      ]
     },
     "execution_count": 37,
     "metadata": {},
     "output_type": "execute_result"
    }
   ],
   "source": [
    "df[df.name == \"Jane\"]"
   ]
  },
  {
   "cell_type": "code",
   "execution_count": 38,
   "id": "1692196e",
   "metadata": {},
   "outputs": [
    {
     "data": {
      "text/plain": [
       "8    92\n",
       "Name: math, dtype: int64"
      ]
     },
     "execution_count": 38,
     "metadata": {},
     "output_type": "execute_result"
    }
   ],
   "source": [
    "df[df.name == \"Albert\"].math"
   ]
  },
  {
   "cell_type": "markdown",
   "id": "bb9c17e3",
   "metadata": {},
   "source": [
    "## Summarizing Dataframes"
   ]
  },
  {
   "cell_type": "code",
   "execution_count": 40,
   "id": "f58301cf",
   "metadata": {},
   "outputs": [
    {
     "name": "stdout",
     "output_type": "stream",
     "text": [
      "<class 'pandas.core.frame.DataFrame'>\n",
      "RangeIndex: 12 entries, 0 to 11\n",
      "Data columns (total 4 columns):\n",
      " #   Column   Non-Null Count  Dtype \n",
      "---  ------   --------------  ----- \n",
      " 0   name     12 non-null     object\n",
      " 1   math     12 non-null     int64 \n",
      " 2   english  12 non-null     int64 \n",
      " 3   reading  12 non-null     int64 \n",
      "dtypes: int64(3), object(1)\n",
      "memory usage: 512.0+ bytes\n"
     ]
    }
   ],
   "source": [
    "df.info()"
   ]
  },
  {
   "cell_type": "code",
   "execution_count": 41,
   "id": "44d7f822",
   "metadata": {},
   "outputs": [
    {
     "data": {
      "text/html": [
       "<div>\n",
       "<style scoped>\n",
       "    .dataframe tbody tr th:only-of-type {\n",
       "        vertical-align: middle;\n",
       "    }\n",
       "\n",
       "    .dataframe tbody tr th {\n",
       "        vertical-align: top;\n",
       "    }\n",
       "\n",
       "    .dataframe thead th {\n",
       "        text-align: right;\n",
       "    }\n",
       "</style>\n",
       "<table border=\"1\" class=\"dataframe\">\n",
       "  <thead>\n",
       "    <tr style=\"text-align: right;\">\n",
       "      <th></th>\n",
       "      <th>math</th>\n",
       "      <th>english</th>\n",
       "      <th>reading</th>\n",
       "    </tr>\n",
       "  </thead>\n",
       "  <tbody>\n",
       "    <tr>\n",
       "      <th>count</th>\n",
       "      <td>12.000000</td>\n",
       "      <td>12.000000</td>\n",
       "      <td>12.000000</td>\n",
       "    </tr>\n",
       "    <tr>\n",
       "      <th>mean</th>\n",
       "      <td>84.833333</td>\n",
       "      <td>77.666667</td>\n",
       "      <td>86.500000</td>\n",
       "    </tr>\n",
       "    <tr>\n",
       "      <th>std</th>\n",
       "      <td>11.134168</td>\n",
       "      <td>13.371158</td>\n",
       "      <td>9.643651</td>\n",
       "    </tr>\n",
       "    <tr>\n",
       "      <th>min</th>\n",
       "      <td>62.000000</td>\n",
       "      <td>62.000000</td>\n",
       "      <td>67.000000</td>\n",
       "    </tr>\n",
       "    <tr>\n",
       "      <th>25%</th>\n",
       "      <td>78.500000</td>\n",
       "      <td>63.750000</td>\n",
       "      <td>80.750000</td>\n",
       "    </tr>\n",
       "    <tr>\n",
       "      <th>50%</th>\n",
       "      <td>90.000000</td>\n",
       "      <td>77.500000</td>\n",
       "      <td>89.000000</td>\n",
       "    </tr>\n",
       "    <tr>\n",
       "      <th>75%</th>\n",
       "      <td>92.250000</td>\n",
       "      <td>86.750000</td>\n",
       "      <td>93.250000</td>\n",
       "    </tr>\n",
       "    <tr>\n",
       "      <th>max</th>\n",
       "      <td>98.000000</td>\n",
       "      <td>99.000000</td>\n",
       "      <td>98.000000</td>\n",
       "    </tr>\n",
       "  </tbody>\n",
       "</table>\n",
       "</div>"
      ],
      "text/plain": [
       "            math    english    reading\n",
       "count  12.000000  12.000000  12.000000\n",
       "mean   84.833333  77.666667  86.500000\n",
       "std    11.134168  13.371158   9.643651\n",
       "min    62.000000  62.000000  67.000000\n",
       "25%    78.500000  63.750000  80.750000\n",
       "50%    90.000000  77.500000  89.000000\n",
       "75%    92.250000  86.750000  93.250000\n",
       "max    98.000000  99.000000  98.000000"
      ]
     },
     "execution_count": 41,
     "metadata": {},
     "output_type": "execute_result"
    }
   ],
   "source": [
    "df.describe()"
   ]
  },
  {
   "cell_type": "code",
   "execution_count": 42,
   "id": "a85ab8f9",
   "metadata": {},
   "outputs": [
    {
     "data": {
      "text/plain": [
       "Index(['count', 'mean', 'std', 'min', '25%', '50%', '75%', 'max'], dtype='object')"
      ]
     },
     "execution_count": 42,
     "metadata": {},
     "output_type": "execute_result"
    }
   ],
   "source": [
    "df.describe().index"
   ]
  },
  {
   "cell_type": "markdown",
   "id": "cff6c4a2",
   "metadata": {},
   "source": [
    "## Dataframe Attributes\n",
    "\n",
    "- `dtype` How values stored in memory. Certain functions work with certain types\n",
    "- `shape` rows and columns\n",
    "- `columns` list of column names\n",
    "- `index` labels for each row"
   ]
  },
  {
   "cell_type": "code",
   "execution_count": 44,
   "id": "b664233c",
   "metadata": {},
   "outputs": [
    {
     "data": {
      "text/plain": [
       "name       object\n",
       "math        int64\n",
       "english     int64\n",
       "reading     int64\n",
       "dtype: object"
      ]
     },
     "execution_count": 44,
     "metadata": {},
     "output_type": "execute_result"
    }
   ],
   "source": [
    "df.dtypes\n"
   ]
  },
  {
   "cell_type": "code",
   "execution_count": 45,
   "id": "c7119ae7",
   "metadata": {},
   "outputs": [
    {
     "data": {
      "text/plain": [
       "(12, 4)"
      ]
     },
     "execution_count": 45,
     "metadata": {},
     "output_type": "execute_result"
    }
   ],
   "source": [
    "df.shape"
   ]
  },
  {
   "cell_type": "code",
   "execution_count": 46,
   "id": "ab76e883",
   "metadata": {},
   "outputs": [
    {
     "data": {
      "text/plain": [
       "12"
      ]
     },
     "execution_count": 46,
     "metadata": {},
     "output_type": "execute_result"
    }
   ],
   "source": [
    "df.shape[0]"
   ]
  },
  {
   "cell_type": "code",
   "execution_count": 47,
   "id": "9f152d6e",
   "metadata": {},
   "outputs": [
    {
     "data": {
      "text/plain": [
       "4"
      ]
     },
     "execution_count": 47,
     "metadata": {},
     "output_type": "execute_result"
    }
   ],
   "source": [
    "df.shape[1]"
   ]
  },
  {
   "cell_type": "code",
   "execution_count": 48,
   "id": "349cf95e",
   "metadata": {},
   "outputs": [
    {
     "data": {
      "text/plain": [
       "Index(['name', 'math', 'english', 'reading'], dtype='object')"
      ]
     },
     "execution_count": 48,
     "metadata": {},
     "output_type": "execute_result"
    }
   ],
   "source": [
    "df.columns"
   ]
  },
  {
   "cell_type": "code",
   "execution_count": 49,
   "id": "8766d36e",
   "metadata": {},
   "outputs": [
    {
     "data": {
      "text/plain": [
       "RangeIndex(start=0, stop=12, step=1)"
      ]
     },
     "execution_count": 49,
     "metadata": {},
     "output_type": "execute_result"
    }
   ],
   "source": [
    "df.index"
   ]
  },
  {
   "cell_type": "code",
   "execution_count": 50,
   "id": "d0a93bd9",
   "metadata": {},
   "outputs": [],
   "source": [
    "#can change\n",
    "df.columns = [col.upper() for col in df.columns]"
   ]
  },
  {
   "cell_type": "code",
   "execution_count": 51,
   "id": "cbc16d4e",
   "metadata": {},
   "outputs": [
    {
     "data": {
      "text/html": [
       "<div>\n",
       "<style scoped>\n",
       "    .dataframe tbody tr th:only-of-type {\n",
       "        vertical-align: middle;\n",
       "    }\n",
       "\n",
       "    .dataframe tbody tr th {\n",
       "        vertical-align: top;\n",
       "    }\n",
       "\n",
       "    .dataframe thead th {\n",
       "        text-align: right;\n",
       "    }\n",
       "</style>\n",
       "<table border=\"1\" class=\"dataframe\">\n",
       "  <thead>\n",
       "    <tr style=\"text-align: right;\">\n",
       "      <th></th>\n",
       "      <th>NAME</th>\n",
       "      <th>MATH</th>\n",
       "      <th>ENGLISH</th>\n",
       "      <th>READING</th>\n",
       "    </tr>\n",
       "  </thead>\n",
       "  <tbody>\n",
       "    <tr>\n",
       "      <th>0</th>\n",
       "      <td>Sally</td>\n",
       "      <td>62</td>\n",
       "      <td>85</td>\n",
       "      <td>80</td>\n",
       "    </tr>\n",
       "    <tr>\n",
       "      <th>1</th>\n",
       "      <td>Jane</td>\n",
       "      <td>88</td>\n",
       "      <td>79</td>\n",
       "      <td>67</td>\n",
       "    </tr>\n",
       "    <tr>\n",
       "      <th>2</th>\n",
       "      <td>Suzie</td>\n",
       "      <td>94</td>\n",
       "      <td>74</td>\n",
       "      <td>95</td>\n",
       "    </tr>\n",
       "    <tr>\n",
       "      <th>3</th>\n",
       "      <td>Billy</td>\n",
       "      <td>98</td>\n",
       "      <td>96</td>\n",
       "      <td>88</td>\n",
       "    </tr>\n",
       "    <tr>\n",
       "      <th>4</th>\n",
       "      <td>Ada</td>\n",
       "      <td>77</td>\n",
       "      <td>92</td>\n",
       "      <td>98</td>\n",
       "    </tr>\n",
       "    <tr>\n",
       "      <th>5</th>\n",
       "      <td>John</td>\n",
       "      <td>79</td>\n",
       "      <td>76</td>\n",
       "      <td>93</td>\n",
       "    </tr>\n",
       "    <tr>\n",
       "      <th>6</th>\n",
       "      <td>Thomas</td>\n",
       "      <td>82</td>\n",
       "      <td>64</td>\n",
       "      <td>81</td>\n",
       "    </tr>\n",
       "    <tr>\n",
       "      <th>7</th>\n",
       "      <td>Marie</td>\n",
       "      <td>93</td>\n",
       "      <td>63</td>\n",
       "      <td>90</td>\n",
       "    </tr>\n",
       "    <tr>\n",
       "      <th>8</th>\n",
       "      <td>Albert</td>\n",
       "      <td>92</td>\n",
       "      <td>62</td>\n",
       "      <td>87</td>\n",
       "    </tr>\n",
       "    <tr>\n",
       "      <th>9</th>\n",
       "      <td>Richard</td>\n",
       "      <td>69</td>\n",
       "      <td>80</td>\n",
       "      <td>94</td>\n",
       "    </tr>\n",
       "    <tr>\n",
       "      <th>10</th>\n",
       "      <td>Isaac</td>\n",
       "      <td>92</td>\n",
       "      <td>99</td>\n",
       "      <td>93</td>\n",
       "    </tr>\n",
       "    <tr>\n",
       "      <th>11</th>\n",
       "      <td>Alan</td>\n",
       "      <td>92</td>\n",
       "      <td>62</td>\n",
       "      <td>72</td>\n",
       "    </tr>\n",
       "  </tbody>\n",
       "</table>\n",
       "</div>"
      ],
      "text/plain": [
       "       NAME  MATH  ENGLISH  READING\n",
       "0     Sally    62       85       80\n",
       "1      Jane    88       79       67\n",
       "2     Suzie    94       74       95\n",
       "3     Billy    98       96       88\n",
       "4       Ada    77       92       98\n",
       "5      John    79       76       93\n",
       "6    Thomas    82       64       81\n",
       "7     Marie    93       63       90\n",
       "8    Albert    92       62       87\n",
       "9   Richard    69       80       94\n",
       "10    Isaac    92       99       93\n",
       "11     Alan    92       62       72"
      ]
     },
     "execution_count": 51,
     "metadata": {},
     "output_type": "execute_result"
    }
   ],
   "source": [
    "df"
   ]
  },
  {
   "cell_type": "markdown",
   "id": "e0fbd405",
   "metadata": {},
   "source": [
    "## Subsetting DataFrame\n",
    "- Number or ways to access certain subsets - like a query"
   ]
  },
  {
   "cell_type": "markdown",
   "id": "9101bc74",
   "metadata": {},
   "source": [
    "### Accessing Multiple Columns\n",
    "- Can see multiple columns with list of strings"
   ]
  },
  {
   "cell_type": "code",
   "execution_count": 53,
   "id": "a3c32b12",
   "metadata": {},
   "outputs": [
    {
     "data": {
      "text/html": [
       "<div>\n",
       "<style scoped>\n",
       "    .dataframe tbody tr th:only-of-type {\n",
       "        vertical-align: middle;\n",
       "    }\n",
       "\n",
       "    .dataframe tbody tr th {\n",
       "        vertical-align: top;\n",
       "    }\n",
       "\n",
       "    .dataframe thead th {\n",
       "        text-align: right;\n",
       "    }\n",
       "</style>\n",
       "<table border=\"1\" class=\"dataframe\">\n",
       "  <thead>\n",
       "    <tr style=\"text-align: right;\">\n",
       "      <th></th>\n",
       "      <th>NAME</th>\n",
       "      <th>MATH</th>\n",
       "    </tr>\n",
       "  </thead>\n",
       "  <tbody>\n",
       "    <tr>\n",
       "      <th>0</th>\n",
       "      <td>Sally</td>\n",
       "      <td>62</td>\n",
       "    </tr>\n",
       "    <tr>\n",
       "      <th>1</th>\n",
       "      <td>Jane</td>\n",
       "      <td>88</td>\n",
       "    </tr>\n",
       "    <tr>\n",
       "      <th>2</th>\n",
       "      <td>Suzie</td>\n",
       "      <td>94</td>\n",
       "    </tr>\n",
       "    <tr>\n",
       "      <th>3</th>\n",
       "      <td>Billy</td>\n",
       "      <td>98</td>\n",
       "    </tr>\n",
       "    <tr>\n",
       "      <th>4</th>\n",
       "      <td>Ada</td>\n",
       "      <td>77</td>\n",
       "    </tr>\n",
       "    <tr>\n",
       "      <th>5</th>\n",
       "      <td>John</td>\n",
       "      <td>79</td>\n",
       "    </tr>\n",
       "    <tr>\n",
       "      <th>6</th>\n",
       "      <td>Thomas</td>\n",
       "      <td>82</td>\n",
       "    </tr>\n",
       "    <tr>\n",
       "      <th>7</th>\n",
       "      <td>Marie</td>\n",
       "      <td>93</td>\n",
       "    </tr>\n",
       "    <tr>\n",
       "      <th>8</th>\n",
       "      <td>Albert</td>\n",
       "      <td>92</td>\n",
       "    </tr>\n",
       "    <tr>\n",
       "      <th>9</th>\n",
       "      <td>Richard</td>\n",
       "      <td>69</td>\n",
       "    </tr>\n",
       "    <tr>\n",
       "      <th>10</th>\n",
       "      <td>Isaac</td>\n",
       "      <td>92</td>\n",
       "    </tr>\n",
       "    <tr>\n",
       "      <th>11</th>\n",
       "      <td>Alan</td>\n",
       "      <td>92</td>\n",
       "    </tr>\n",
       "  </tbody>\n",
       "</table>\n",
       "</div>"
      ],
      "text/plain": [
       "       NAME  MATH\n",
       "0     Sally    62\n",
       "1      Jane    88\n",
       "2     Suzie    94\n",
       "3     Billy    98\n",
       "4       Ada    77\n",
       "5      John    79\n",
       "6    Thomas    82\n",
       "7     Marie    93\n",
       "8    Albert    92\n",
       "9   Richard    69\n",
       "10    Isaac    92\n",
       "11     Alan    92"
      ]
     },
     "execution_count": 53,
     "metadata": {},
     "output_type": "execute_result"
    }
   ],
   "source": [
    "# Double square brackets or df[list_variable]\n",
    "# Returns only columns specified\n",
    "df[['NAME', 'MATH']]"
   ]
  },
  {
   "cell_type": "code",
   "execution_count": 54,
   "id": "b3c99b10",
   "metadata": {},
   "outputs": [
    {
     "data": {
      "text/html": [
       "<div>\n",
       "<style scoped>\n",
       "    .dataframe tbody tr th:only-of-type {\n",
       "        vertical-align: middle;\n",
       "    }\n",
       "\n",
       "    .dataframe tbody tr th {\n",
       "        vertical-align: top;\n",
       "    }\n",
       "\n",
       "    .dataframe thead th {\n",
       "        text-align: right;\n",
       "    }\n",
       "</style>\n",
       "<table border=\"1\" class=\"dataframe\">\n",
       "  <thead>\n",
       "    <tr style=\"text-align: right;\">\n",
       "      <th></th>\n",
       "      <th>NAME</th>\n",
       "      <th>MATH</th>\n",
       "    </tr>\n",
       "  </thead>\n",
       "  <tbody>\n",
       "    <tr>\n",
       "      <th>0</th>\n",
       "      <td>Sally</td>\n",
       "      <td>62</td>\n",
       "    </tr>\n",
       "    <tr>\n",
       "      <th>1</th>\n",
       "      <td>Jane</td>\n",
       "      <td>88</td>\n",
       "    </tr>\n",
       "    <tr>\n",
       "      <th>2</th>\n",
       "      <td>Suzie</td>\n",
       "      <td>94</td>\n",
       "    </tr>\n",
       "    <tr>\n",
       "      <th>3</th>\n",
       "      <td>Billy</td>\n",
       "      <td>98</td>\n",
       "    </tr>\n",
       "    <tr>\n",
       "      <th>4</th>\n",
       "      <td>Ada</td>\n",
       "      <td>77</td>\n",
       "    </tr>\n",
       "    <tr>\n",
       "      <th>5</th>\n",
       "      <td>John</td>\n",
       "      <td>79</td>\n",
       "    </tr>\n",
       "    <tr>\n",
       "      <th>6</th>\n",
       "      <td>Thomas</td>\n",
       "      <td>82</td>\n",
       "    </tr>\n",
       "    <tr>\n",
       "      <th>7</th>\n",
       "      <td>Marie</td>\n",
       "      <td>93</td>\n",
       "    </tr>\n",
       "    <tr>\n",
       "      <th>8</th>\n",
       "      <td>Albert</td>\n",
       "      <td>92</td>\n",
       "    </tr>\n",
       "    <tr>\n",
       "      <th>9</th>\n",
       "      <td>Richard</td>\n",
       "      <td>69</td>\n",
       "    </tr>\n",
       "    <tr>\n",
       "      <th>10</th>\n",
       "      <td>Isaac</td>\n",
       "      <td>92</td>\n",
       "    </tr>\n",
       "    <tr>\n",
       "      <th>11</th>\n",
       "      <td>Alan</td>\n",
       "      <td>92</td>\n",
       "    </tr>\n",
       "  </tbody>\n",
       "</table>\n",
       "</div>"
      ],
      "text/plain": [
       "       NAME  MATH\n",
       "0     Sally    62\n",
       "1      Jane    88\n",
       "2     Suzie    94\n",
       "3     Billy    98\n",
       "4       Ada    77\n",
       "5      John    79\n",
       "6    Thomas    82\n",
       "7     Marie    93\n",
       "8    Albert    92\n",
       "9   Richard    69\n",
       "10    Isaac    92\n",
       "11     Alan    92"
      ]
     },
     "execution_count": 54,
     "metadata": {},
     "output_type": "execute_result"
    }
   ],
   "source": [
    "name_math_cols =['NAME','MATH']\n",
    "df[name_math_cols]"
   ]
  },
  {
   "cell_type": "code",
   "execution_count": 55,
   "id": "50b37515",
   "metadata": {},
   "outputs": [
    {
     "data": {
      "text/html": [
       "<div>\n",
       "<style scoped>\n",
       "    .dataframe tbody tr th:only-of-type {\n",
       "        vertical-align: middle;\n",
       "    }\n",
       "\n",
       "    .dataframe tbody tr th {\n",
       "        vertical-align: top;\n",
       "    }\n",
       "\n",
       "    .dataframe thead th {\n",
       "        text-align: right;\n",
       "    }\n",
       "</style>\n",
       "<table border=\"1\" class=\"dataframe\">\n",
       "  <thead>\n",
       "    <tr style=\"text-align: right;\">\n",
       "      <th></th>\n",
       "      <th>NAME</th>\n",
       "      <th>MATH</th>\n",
       "      <th>ENGLISH</th>\n",
       "      <th>READING</th>\n",
       "    </tr>\n",
       "  </thead>\n",
       "  <tbody>\n",
       "    <tr>\n",
       "      <th>0</th>\n",
       "      <td>Sally</td>\n",
       "      <td>62</td>\n",
       "      <td>85</td>\n",
       "      <td>80</td>\n",
       "    </tr>\n",
       "    <tr>\n",
       "      <th>1</th>\n",
       "      <td>Jane</td>\n",
       "      <td>88</td>\n",
       "      <td>79</td>\n",
       "      <td>67</td>\n",
       "    </tr>\n",
       "    <tr>\n",
       "      <th>2</th>\n",
       "      <td>Suzie</td>\n",
       "      <td>94</td>\n",
       "      <td>74</td>\n",
       "      <td>95</td>\n",
       "    </tr>\n",
       "    <tr>\n",
       "      <th>3</th>\n",
       "      <td>Billy</td>\n",
       "      <td>98</td>\n",
       "      <td>96</td>\n",
       "      <td>88</td>\n",
       "    </tr>\n",
       "    <tr>\n",
       "      <th>4</th>\n",
       "      <td>Ada</td>\n",
       "      <td>77</td>\n",
       "      <td>92</td>\n",
       "      <td>98</td>\n",
       "    </tr>\n",
       "  </tbody>\n",
       "</table>\n",
       "</div>"
      ],
      "text/plain": [
       "    NAME  MATH  ENGLISH  READING\n",
       "0  Sally    62       85       80\n",
       "1   Jane    88       79       67\n",
       "2  Suzie    94       74       95\n",
       "3  Billy    98       96       88\n",
       "4    Ada    77       92       98"
      ]
     },
     "execution_count": 55,
     "metadata": {},
     "output_type": "execute_result"
    }
   ],
   "source": [
    "df.head()"
   ]
  },
  {
   "cell_type": "code",
   "execution_count": 56,
   "id": "70c46cc7",
   "metadata": {},
   "outputs": [],
   "source": [
    "math_df=df[name_math_cols]"
   ]
  },
  {
   "cell_type": "code",
   "execution_count": 57,
   "id": "af880cdf",
   "metadata": {},
   "outputs": [
    {
     "data": {
      "text/html": [
       "<div>\n",
       "<style scoped>\n",
       "    .dataframe tbody tr th:only-of-type {\n",
       "        vertical-align: middle;\n",
       "    }\n",
       "\n",
       "    .dataframe tbody tr th {\n",
       "        vertical-align: top;\n",
       "    }\n",
       "\n",
       "    .dataframe thead th {\n",
       "        text-align: right;\n",
       "    }\n",
       "</style>\n",
       "<table border=\"1\" class=\"dataframe\">\n",
       "  <thead>\n",
       "    <tr style=\"text-align: right;\">\n",
       "      <th></th>\n",
       "      <th>NAME</th>\n",
       "      <th>MATH</th>\n",
       "    </tr>\n",
       "  </thead>\n",
       "  <tbody>\n",
       "    <tr>\n",
       "      <th>0</th>\n",
       "      <td>Sally</td>\n",
       "      <td>62</td>\n",
       "    </tr>\n",
       "    <tr>\n",
       "      <th>1</th>\n",
       "      <td>Jane</td>\n",
       "      <td>88</td>\n",
       "    </tr>\n",
       "    <tr>\n",
       "      <th>2</th>\n",
       "      <td>Suzie</td>\n",
       "      <td>94</td>\n",
       "    </tr>\n",
       "  </tbody>\n",
       "</table>\n",
       "</div>"
      ],
      "text/plain": [
       "    NAME  MATH\n",
       "0  Sally    62\n",
       "1   Jane    88\n",
       "2  Suzie    94"
      ]
     },
     "execution_count": 57,
     "metadata": {},
     "output_type": "execute_result"
    }
   ],
   "source": [
    "math_df.head(3)"
   ]
  },
  {
   "cell_type": "code",
   "execution_count": 59,
   "id": "98d01858",
   "metadata": {},
   "outputs": [
    {
     "data": {
      "text/plain": [
       "0     62\n",
       "1     88\n",
       "2     94\n",
       "3     98\n",
       "4     77\n",
       "5     79\n",
       "6     82\n",
       "7     93\n",
       "8     92\n",
       "9     69\n",
       "10    92\n",
       "11    92\n",
       "Name: MATH, dtype: int64"
      ]
     },
     "execution_count": 59,
     "metadata": {},
     "output_type": "execute_result"
    }
   ],
   "source": [
    "df.MATH"
   ]
  },
  {
   "cell_type": "code",
   "execution_count": 60,
   "id": "c72d078d",
   "metadata": {},
   "outputs": [
    {
     "data": {
      "text/plain": [
       "0     62\n",
       "1     88\n",
       "2     94\n",
       "3     98\n",
       "4     77\n",
       "5     79\n",
       "6     82\n",
       "7     93\n",
       "8     92\n",
       "9     69\n",
       "10    92\n",
       "11    92\n",
       "Name: MATH, dtype: int64"
      ]
     },
     "execution_count": 60,
     "metadata": {},
     "output_type": "execute_result"
    }
   ],
   "source": [
    "df['MATH']"
   ]
  },
  {
   "cell_type": "markdown",
   "id": "3d3f76a3",
   "metadata": {},
   "source": [
    "### Accessing Row Subsets\n",
    "- Pandas provides several ways \n",
    "    - `.head()`\n",
    "    - `.tail()`\n",
    "    - `.sample()`"
   ]
  },
  {
   "cell_type": "code",
   "execution_count": 61,
   "id": "76989487",
   "metadata": {},
   "outputs": [
    {
     "data": {
      "text/html": [
       "<div>\n",
       "<style scoped>\n",
       "    .dataframe tbody tr th:only-of-type {\n",
       "        vertical-align: middle;\n",
       "    }\n",
       "\n",
       "    .dataframe tbody tr th {\n",
       "        vertical-align: top;\n",
       "    }\n",
       "\n",
       "    .dataframe thead th {\n",
       "        text-align: right;\n",
       "    }\n",
       "</style>\n",
       "<table border=\"1\" class=\"dataframe\">\n",
       "  <thead>\n",
       "    <tr style=\"text-align: right;\">\n",
       "      <th></th>\n",
       "      <th>NAME</th>\n",
       "      <th>MATH</th>\n",
       "      <th>ENGLISH</th>\n",
       "      <th>READING</th>\n",
       "    </tr>\n",
       "  </thead>\n",
       "  <tbody>\n",
       "    <tr>\n",
       "      <th>9</th>\n",
       "      <td>Richard</td>\n",
       "      <td>69</td>\n",
       "      <td>80</td>\n",
       "      <td>94</td>\n",
       "    </tr>\n",
       "    <tr>\n",
       "      <th>10</th>\n",
       "      <td>Isaac</td>\n",
       "      <td>92</td>\n",
       "      <td>99</td>\n",
       "      <td>93</td>\n",
       "    </tr>\n",
       "    <tr>\n",
       "      <th>11</th>\n",
       "      <td>Alan</td>\n",
       "      <td>92</td>\n",
       "      <td>62</td>\n",
       "      <td>72</td>\n",
       "    </tr>\n",
       "  </tbody>\n",
       "</table>\n",
       "</div>"
      ],
      "text/plain": [
       "       NAME  MATH  ENGLISH  READING\n",
       "9   Richard    69       80       94\n",
       "10    Isaac    92       99       93\n",
       "11     Alan    92       62       72"
      ]
     },
     "execution_count": 61,
     "metadata": {},
     "output_type": "execute_result"
    }
   ],
   "source": [
    "df.tail(3)"
   ]
  },
  {
   "cell_type": "code",
   "execution_count": 62,
   "id": "b1650f41",
   "metadata": {},
   "outputs": [
    {
     "data": {
      "text/html": [
       "<div>\n",
       "<style scoped>\n",
       "    .dataframe tbody tr th:only-of-type {\n",
       "        vertical-align: middle;\n",
       "    }\n",
       "\n",
       "    .dataframe tbody tr th {\n",
       "        vertical-align: top;\n",
       "    }\n",
       "\n",
       "    .dataframe thead th {\n",
       "        text-align: right;\n",
       "    }\n",
       "</style>\n",
       "<table border=\"1\" class=\"dataframe\">\n",
       "  <thead>\n",
       "    <tr style=\"text-align: right;\">\n",
       "      <th></th>\n",
       "      <th>NAME</th>\n",
       "      <th>MATH</th>\n",
       "      <th>ENGLISH</th>\n",
       "      <th>READING</th>\n",
       "    </tr>\n",
       "  </thead>\n",
       "  <tbody>\n",
       "    <tr>\n",
       "      <th>7</th>\n",
       "      <td>Marie</td>\n",
       "      <td>93</td>\n",
       "      <td>63</td>\n",
       "      <td>90</td>\n",
       "    </tr>\n",
       "    <tr>\n",
       "      <th>11</th>\n",
       "      <td>Alan</td>\n",
       "      <td>92</td>\n",
       "      <td>62</td>\n",
       "      <td>72</td>\n",
       "    </tr>\n",
       "    <tr>\n",
       "      <th>1</th>\n",
       "      <td>Jane</td>\n",
       "      <td>88</td>\n",
       "      <td>79</td>\n",
       "      <td>67</td>\n",
       "    </tr>\n",
       "    <tr>\n",
       "      <th>4</th>\n",
       "      <td>Ada</td>\n",
       "      <td>77</td>\n",
       "      <td>92</td>\n",
       "      <td>98</td>\n",
       "    </tr>\n",
       "  </tbody>\n",
       "</table>\n",
       "</div>"
      ],
      "text/plain": [
       "     NAME  MATH  ENGLISH  READING\n",
       "7   Marie    93       63       90\n",
       "11   Alan    92       62       72\n",
       "1    Jane    88       79       67\n",
       "4     Ada    77       92       98"
      ]
     },
     "execution_count": 62,
     "metadata": {},
     "output_type": "execute_result"
    }
   ],
   "source": [
    "df.sample(4)"
   ]
  },
  {
   "cell_type": "markdown",
   "id": "1a5492f9",
   "metadata": {},
   "source": [
    "Dataframes can be indexed into with a bookean series"
   ]
  },
  {
   "cell_type": "code",
   "execution_count": 64,
   "id": "b83bdd7e",
   "metadata": {},
   "outputs": [
    {
     "data": {
      "text/html": [
       "<div>\n",
       "<style scoped>\n",
       "    .dataframe tbody tr th:only-of-type {\n",
       "        vertical-align: middle;\n",
       "    }\n",
       "\n",
       "    .dataframe tbody tr th {\n",
       "        vertical-align: top;\n",
       "    }\n",
       "\n",
       "    .dataframe thead th {\n",
       "        text-align: right;\n",
       "    }\n",
       "</style>\n",
       "<table border=\"1\" class=\"dataframe\">\n",
       "  <thead>\n",
       "    <tr style=\"text-align: right;\">\n",
       "      <th></th>\n",
       "      <th>NAME</th>\n",
       "      <th>MATH</th>\n",
       "      <th>ENGLISH</th>\n",
       "      <th>READING</th>\n",
       "    </tr>\n",
       "  </thead>\n",
       "  <tbody>\n",
       "    <tr>\n",
       "      <th>0</th>\n",
       "      <td>Sally</td>\n",
       "      <td>62</td>\n",
       "      <td>85</td>\n",
       "      <td>80</td>\n",
       "    </tr>\n",
       "    <tr>\n",
       "      <th>4</th>\n",
       "      <td>Ada</td>\n",
       "      <td>77</td>\n",
       "      <td>92</td>\n",
       "      <td>98</td>\n",
       "    </tr>\n",
       "    <tr>\n",
       "      <th>5</th>\n",
       "      <td>John</td>\n",
       "      <td>79</td>\n",
       "      <td>76</td>\n",
       "      <td>93</td>\n",
       "    </tr>\n",
       "    <tr>\n",
       "      <th>9</th>\n",
       "      <td>Richard</td>\n",
       "      <td>69</td>\n",
       "      <td>80</td>\n",
       "      <td>94</td>\n",
       "    </tr>\n",
       "  </tbody>\n",
       "</table>\n",
       "</div>"
      ],
      "text/plain": [
       "      NAME  MATH  ENGLISH  READING\n",
       "0    Sally    62       85       80\n",
       "4      Ada    77       92       98\n",
       "5     John    79       76       93\n",
       "9  Richard    69       80       94"
      ]
     },
     "execution_count": 64,
     "metadata": {},
     "output_type": "execute_result"
    }
   ],
   "source": [
    "df[df.MATH <80]"
   ]
  },
  {
   "cell_type": "code",
   "execution_count": 65,
   "id": "5495550d",
   "metadata": {},
   "outputs": [
    {
     "data": {
      "text/html": [
       "<div>\n",
       "<style scoped>\n",
       "    .dataframe tbody tr th:only-of-type {\n",
       "        vertical-align: middle;\n",
       "    }\n",
       "\n",
       "    .dataframe tbody tr th {\n",
       "        vertical-align: top;\n",
       "    }\n",
       "\n",
       "    .dataframe thead th {\n",
       "        text-align: right;\n",
       "    }\n",
       "</style>\n",
       "<table border=\"1\" class=\"dataframe\">\n",
       "  <thead>\n",
       "    <tr style=\"text-align: right;\">\n",
       "      <th></th>\n",
       "      <th>NAME</th>\n",
       "      <th>MATH</th>\n",
       "      <th>ENGLISH</th>\n",
       "      <th>READING</th>\n",
       "    </tr>\n",
       "  </thead>\n",
       "  <tbody>\n",
       "    <tr>\n",
       "      <th>0</th>\n",
       "      <td>Sally</td>\n",
       "      <td>62</td>\n",
       "      <td>85</td>\n",
       "      <td>80</td>\n",
       "    </tr>\n",
       "    <tr>\n",
       "      <th>2</th>\n",
       "      <td>Suzie</td>\n",
       "      <td>94</td>\n",
       "      <td>74</td>\n",
       "      <td>95</td>\n",
       "    </tr>\n",
       "    <tr>\n",
       "      <th>4</th>\n",
       "      <td>Ada</td>\n",
       "      <td>77</td>\n",
       "      <td>92</td>\n",
       "      <td>98</td>\n",
       "    </tr>\n",
       "    <tr>\n",
       "      <th>5</th>\n",
       "      <td>John</td>\n",
       "      <td>79</td>\n",
       "      <td>76</td>\n",
       "      <td>93</td>\n",
       "    </tr>\n",
       "    <tr>\n",
       "      <th>9</th>\n",
       "      <td>Richard</td>\n",
       "      <td>69</td>\n",
       "      <td>80</td>\n",
       "      <td>94</td>\n",
       "    </tr>\n",
       "    <tr>\n",
       "      <th>10</th>\n",
       "      <td>Isaac</td>\n",
       "      <td>92</td>\n",
       "      <td>99</td>\n",
       "      <td>93</td>\n",
       "    </tr>\n",
       "  </tbody>\n",
       "</table>\n",
       "</div>"
      ],
      "text/plain": [
       "       NAME  MATH  ENGLISH  READING\n",
       "0     Sally    62       85       80\n",
       "2     Suzie    94       74       95\n",
       "4       Ada    77       92       98\n",
       "5      John    79       76       93\n",
       "9   Richard    69       80       94\n",
       "10    Isaac    92       99       93"
      ]
     },
     "execution_count": 65,
     "metadata": {},
     "output_type": "execute_result"
    }
   ],
   "source": [
    "# Pipe for OR |\n",
    "#df[(mask1) | (mask2)]\n",
    "\n",
    "df[(df.MATH <80)| (df.READING >90)]"
   ]
  },
  {
   "cell_type": "code",
   "execution_count": 66,
   "id": "c43e2dce",
   "metadata": {},
   "outputs": [
    {
     "data": {
      "text/html": [
       "<div>\n",
       "<style scoped>\n",
       "    .dataframe tbody tr th:only-of-type {\n",
       "        vertical-align: middle;\n",
       "    }\n",
       "\n",
       "    .dataframe tbody tr th {\n",
       "        vertical-align: top;\n",
       "    }\n",
       "\n",
       "    .dataframe thead th {\n",
       "        text-align: right;\n",
       "    }\n",
       "</style>\n",
       "<table border=\"1\" class=\"dataframe\">\n",
       "  <thead>\n",
       "    <tr style=\"text-align: right;\">\n",
       "      <th></th>\n",
       "      <th>NAME</th>\n",
       "      <th>MATH</th>\n",
       "      <th>ENGLISH</th>\n",
       "      <th>READING</th>\n",
       "    </tr>\n",
       "  </thead>\n",
       "  <tbody>\n",
       "    <tr>\n",
       "      <th>4</th>\n",
       "      <td>Ada</td>\n",
       "      <td>77</td>\n",
       "      <td>92</td>\n",
       "      <td>98</td>\n",
       "    </tr>\n",
       "    <tr>\n",
       "      <th>5</th>\n",
       "      <td>John</td>\n",
       "      <td>79</td>\n",
       "      <td>76</td>\n",
       "      <td>93</td>\n",
       "    </tr>\n",
       "    <tr>\n",
       "      <th>9</th>\n",
       "      <td>Richard</td>\n",
       "      <td>69</td>\n",
       "      <td>80</td>\n",
       "      <td>94</td>\n",
       "    </tr>\n",
       "  </tbody>\n",
       "</table>\n",
       "</div>"
      ],
      "text/plain": [
       "      NAME  MATH  ENGLISH  READING\n",
       "4      Ada    77       92       98\n",
       "5     John    79       76       93\n",
       "9  Richard    69       80       94"
      ]
     },
     "execution_count": 66,
     "metadata": {},
     "output_type": "execute_result"
    }
   ],
   "source": [
    "# & for AND\n",
    "#df[(mask1) & (mask2)]\n",
    "df[(df.MATH < 80) & (df.READING > 90)]"
   ]
  },
  {
   "cell_type": "code",
   "execution_count": 67,
   "id": "57ef226a",
   "metadata": {},
   "outputs": [
    {
     "data": {
      "text/html": [
       "<div>\n",
       "<style scoped>\n",
       "    .dataframe tbody tr th:only-of-type {\n",
       "        vertical-align: middle;\n",
       "    }\n",
       "\n",
       "    .dataframe tbody tr th {\n",
       "        vertical-align: top;\n",
       "    }\n",
       "\n",
       "    .dataframe thead th {\n",
       "        text-align: right;\n",
       "    }\n",
       "</style>\n",
       "<table border=\"1\" class=\"dataframe\">\n",
       "  <thead>\n",
       "    <tr style=\"text-align: right;\">\n",
       "      <th></th>\n",
       "      <th>NAME</th>\n",
       "      <th>MATH</th>\n",
       "      <th>ENGLISH</th>\n",
       "      <th>READING</th>\n",
       "    </tr>\n",
       "  </thead>\n",
       "  <tbody>\n",
       "    <tr>\n",
       "      <th>4</th>\n",
       "      <td>Ada</td>\n",
       "      <td>77</td>\n",
       "      <td>92</td>\n",
       "      <td>98</td>\n",
       "    </tr>\n",
       "    <tr>\n",
       "      <th>5</th>\n",
       "      <td>John</td>\n",
       "      <td>79</td>\n",
       "      <td>76</td>\n",
       "      <td>93</td>\n",
       "    </tr>\n",
       "    <tr>\n",
       "      <th>9</th>\n",
       "      <td>Richard</td>\n",
       "      <td>69</td>\n",
       "      <td>80</td>\n",
       "      <td>94</td>\n",
       "    </tr>\n",
       "  </tbody>\n",
       "</table>\n",
       "</div>"
      ],
      "text/plain": [
       "      NAME  MATH  ENGLISH  READING\n",
       "4      Ada    77       92       98\n",
       "5     John    79       76       93\n",
       "9  Richard    69       80       94"
      ]
     },
     "execution_count": 67,
     "metadata": {},
     "output_type": "execute_result"
    }
   ],
   "source": [
    "#Can use variables for masks\n",
    "math_less_than_80 = df.MATH <80\n",
    "reading_greater_than_90 = df.READING >90\n",
    "df[math_less_than_80 & reading_greater_than_90]"
   ]
  },
  {
   "cell_type": "markdown",
   "id": "bc33bf06",
   "metadata": {},
   "source": [
    "## Dropping and Renaming Columns\n",
    "\n",
    "- Can drop columns with `.drop` method\n",
    "- Rename with `.rename`\n",
    "\n",
    "- Original dataframe **will not be changed** \n",
    "    - Method produces new dataframe"
   ]
  },
  {
   "cell_type": "code",
   "execution_count": 68,
   "id": "74b24d25",
   "metadata": {},
   "outputs": [],
   "source": [
    "#copy original\n",
    "\n",
    "copy = df.copy()"
   ]
  },
  {
   "cell_type": "code",
   "execution_count": 84,
   "id": "997e1eaf",
   "metadata": {},
   "outputs": [
    {
     "data": {
      "text/html": [
       "<div>\n",
       "<style scoped>\n",
       "    .dataframe tbody tr th:only-of-type {\n",
       "        vertical-align: middle;\n",
       "    }\n",
       "\n",
       "    .dataframe tbody tr th {\n",
       "        vertical-align: top;\n",
       "    }\n",
       "\n",
       "    .dataframe thead th {\n",
       "        text-align: right;\n",
       "    }\n",
       "</style>\n",
       "<table border=\"1\" class=\"dataframe\">\n",
       "  <thead>\n",
       "    <tr style=\"text-align: right;\">\n",
       "      <th></th>\n",
       "      <th>NAME</th>\n",
       "      <th>MATH</th>\n",
       "      <th>ENGLISH</th>\n",
       "      <th>READING</th>\n",
       "    </tr>\n",
       "  </thead>\n",
       "  <tbody>\n",
       "    <tr>\n",
       "      <th>0</th>\n",
       "      <td>Sally</td>\n",
       "      <td>62</td>\n",
       "      <td>85</td>\n",
       "      <td>80</td>\n",
       "    </tr>\n",
       "    <tr>\n",
       "      <th>1</th>\n",
       "      <td>Jane</td>\n",
       "      <td>88</td>\n",
       "      <td>79</td>\n",
       "      <td>67</td>\n",
       "    </tr>\n",
       "    <tr>\n",
       "      <th>2</th>\n",
       "      <td>Suzie</td>\n",
       "      <td>94</td>\n",
       "      <td>74</td>\n",
       "      <td>95</td>\n",
       "    </tr>\n",
       "    <tr>\n",
       "      <th>3</th>\n",
       "      <td>Billy</td>\n",
       "      <td>98</td>\n",
       "      <td>96</td>\n",
       "      <td>88</td>\n",
       "    </tr>\n",
       "    <tr>\n",
       "      <th>4</th>\n",
       "      <td>Ada</td>\n",
       "      <td>77</td>\n",
       "      <td>92</td>\n",
       "      <td>98</td>\n",
       "    </tr>\n",
       "    <tr>\n",
       "      <th>5</th>\n",
       "      <td>John</td>\n",
       "      <td>79</td>\n",
       "      <td>76</td>\n",
       "      <td>93</td>\n",
       "    </tr>\n",
       "    <tr>\n",
       "      <th>6</th>\n",
       "      <td>Thomas</td>\n",
       "      <td>82</td>\n",
       "      <td>64</td>\n",
       "      <td>81</td>\n",
       "    </tr>\n",
       "    <tr>\n",
       "      <th>7</th>\n",
       "      <td>Marie</td>\n",
       "      <td>93</td>\n",
       "      <td>63</td>\n",
       "      <td>90</td>\n",
       "    </tr>\n",
       "    <tr>\n",
       "      <th>8</th>\n",
       "      <td>Albert</td>\n",
       "      <td>92</td>\n",
       "      <td>62</td>\n",
       "      <td>87</td>\n",
       "    </tr>\n",
       "    <tr>\n",
       "      <th>9</th>\n",
       "      <td>Richard</td>\n",
       "      <td>69</td>\n",
       "      <td>80</td>\n",
       "      <td>94</td>\n",
       "    </tr>\n",
       "    <tr>\n",
       "      <th>10</th>\n",
       "      <td>Isaac</td>\n",
       "      <td>92</td>\n",
       "      <td>99</td>\n",
       "      <td>93</td>\n",
       "    </tr>\n",
       "    <tr>\n",
       "      <th>11</th>\n",
       "      <td>Alan</td>\n",
       "      <td>92</td>\n",
       "      <td>62</td>\n",
       "      <td>72</td>\n",
       "    </tr>\n",
       "  </tbody>\n",
       "</table>\n",
       "</div>"
      ],
      "text/plain": [
       "       NAME  MATH  ENGLISH  READING\n",
       "0     Sally    62       85       80\n",
       "1      Jane    88       79       67\n",
       "2     Suzie    94       74       95\n",
       "3     Billy    98       96       88\n",
       "4       Ada    77       92       98\n",
       "5      John    79       76       93\n",
       "6    Thomas    82       64       81\n",
       "7     Marie    93       63       90\n",
       "8    Albert    92       62       87\n",
       "9   Richard    69       80       94\n",
       "10    Isaac    92       99       93\n",
       "11     Alan    92       62       72"
      ]
     },
     "execution_count": 84,
     "metadata": {},
     "output_type": "execute_result"
    }
   ],
   "source": [
    "copy"
   ]
  },
  {
   "cell_type": "code",
   "execution_count": 86,
   "id": "891a6fee",
   "metadata": {},
   "outputs": [],
   "source": [
    "copy=df.copy()"
   ]
  },
  {
   "cell_type": "code",
   "execution_count": 87,
   "id": "2c735de0",
   "metadata": {},
   "outputs": [
    {
     "data": {
      "text/html": [
       "<div>\n",
       "<style scoped>\n",
       "    .dataframe tbody tr th:only-of-type {\n",
       "        vertical-align: middle;\n",
       "    }\n",
       "\n",
       "    .dataframe tbody tr th {\n",
       "        vertical-align: top;\n",
       "    }\n",
       "\n",
       "    .dataframe thead th {\n",
       "        text-align: right;\n",
       "    }\n",
       "</style>\n",
       "<table border=\"1\" class=\"dataframe\">\n",
       "  <thead>\n",
       "    <tr style=\"text-align: right;\">\n",
       "      <th></th>\n",
       "      <th>NAME</th>\n",
       "      <th>MATH</th>\n",
       "    </tr>\n",
       "  </thead>\n",
       "  <tbody>\n",
       "    <tr>\n",
       "      <th>0</th>\n",
       "      <td>Sally</td>\n",
       "      <td>62</td>\n",
       "    </tr>\n",
       "    <tr>\n",
       "      <th>1</th>\n",
       "      <td>Jane</td>\n",
       "      <td>88</td>\n",
       "    </tr>\n",
       "    <tr>\n",
       "      <th>2</th>\n",
       "      <td>Suzie</td>\n",
       "      <td>94</td>\n",
       "    </tr>\n",
       "    <tr>\n",
       "      <th>3</th>\n",
       "      <td>Billy</td>\n",
       "      <td>98</td>\n",
       "    </tr>\n",
       "    <tr>\n",
       "      <th>4</th>\n",
       "      <td>Ada</td>\n",
       "      <td>77</td>\n",
       "    </tr>\n",
       "    <tr>\n",
       "      <th>5</th>\n",
       "      <td>John</td>\n",
       "      <td>79</td>\n",
       "    </tr>\n",
       "    <tr>\n",
       "      <th>6</th>\n",
       "      <td>Thomas</td>\n",
       "      <td>82</td>\n",
       "    </tr>\n",
       "    <tr>\n",
       "      <th>7</th>\n",
       "      <td>Marie</td>\n",
       "      <td>93</td>\n",
       "    </tr>\n",
       "    <tr>\n",
       "      <th>8</th>\n",
       "      <td>Albert</td>\n",
       "      <td>92</td>\n",
       "    </tr>\n",
       "    <tr>\n",
       "      <th>9</th>\n",
       "      <td>Richard</td>\n",
       "      <td>69</td>\n",
       "    </tr>\n",
       "    <tr>\n",
       "      <th>10</th>\n",
       "      <td>Isaac</td>\n",
       "      <td>92</td>\n",
       "    </tr>\n",
       "    <tr>\n",
       "      <th>11</th>\n",
       "      <td>Alan</td>\n",
       "      <td>92</td>\n",
       "    </tr>\n",
       "  </tbody>\n",
       "</table>\n",
       "</div>"
      ],
      "text/plain": [
       "       NAME  MATH\n",
       "0     Sally    62\n",
       "1      Jane    88\n",
       "2     Suzie    94\n",
       "3     Billy    98\n",
       "4       Ada    77\n",
       "5      John    79\n",
       "6    Thomas    82\n",
       "7     Marie    93\n",
       "8    Albert    92\n",
       "9   Richard    69\n",
       "10    Isaac    92\n",
       "11     Alan    92"
      ]
     },
     "execution_count": 87,
     "metadata": {},
     "output_type": "execute_result"
    }
   ],
   "source": [
    "copy.drop(columns = ['ENGLISH', 'READING'])"
   ]
  },
  {
   "cell_type": "code",
   "execution_count": 88,
   "id": "9c23fccb",
   "metadata": {},
   "outputs": [],
   "source": [
    "copy.drop(columns = 'MATH', inplace = True)"
   ]
  },
  {
   "cell_type": "code",
   "execution_count": 90,
   "id": "974807ae",
   "metadata": {},
   "outputs": [
    {
     "data": {
      "text/html": [
       "<div>\n",
       "<style scoped>\n",
       "    .dataframe tbody tr th:only-of-type {\n",
       "        vertical-align: middle;\n",
       "    }\n",
       "\n",
       "    .dataframe tbody tr th {\n",
       "        vertical-align: top;\n",
       "    }\n",
       "\n",
       "    .dataframe thead th {\n",
       "        text-align: right;\n",
       "    }\n",
       "</style>\n",
       "<table border=\"1\" class=\"dataframe\">\n",
       "  <thead>\n",
       "    <tr style=\"text-align: right;\">\n",
       "      <th></th>\n",
       "      <th>NAME</th>\n",
       "      <th>MATH</th>\n",
       "      <th>ENGLISH</th>\n",
       "      <th>READING</th>\n",
       "    </tr>\n",
       "  </thead>\n",
       "  <tbody>\n",
       "    <tr>\n",
       "      <th>0</th>\n",
       "      <td>Sally</td>\n",
       "      <td>62</td>\n",
       "      <td>85</td>\n",
       "      <td>80</td>\n",
       "    </tr>\n",
       "    <tr>\n",
       "      <th>1</th>\n",
       "      <td>Jane</td>\n",
       "      <td>88</td>\n",
       "      <td>79</td>\n",
       "      <td>67</td>\n",
       "    </tr>\n",
       "    <tr>\n",
       "      <th>2</th>\n",
       "      <td>Suzie</td>\n",
       "      <td>94</td>\n",
       "      <td>74</td>\n",
       "      <td>95</td>\n",
       "    </tr>\n",
       "    <tr>\n",
       "      <th>3</th>\n",
       "      <td>Billy</td>\n",
       "      <td>98</td>\n",
       "      <td>96</td>\n",
       "      <td>88</td>\n",
       "    </tr>\n",
       "    <tr>\n",
       "      <th>4</th>\n",
       "      <td>Ada</td>\n",
       "      <td>77</td>\n",
       "      <td>92</td>\n",
       "      <td>98</td>\n",
       "    </tr>\n",
       "    <tr>\n",
       "      <th>5</th>\n",
       "      <td>John</td>\n",
       "      <td>79</td>\n",
       "      <td>76</td>\n",
       "      <td>93</td>\n",
       "    </tr>\n",
       "    <tr>\n",
       "      <th>6</th>\n",
       "      <td>Thomas</td>\n",
       "      <td>82</td>\n",
       "      <td>64</td>\n",
       "      <td>81</td>\n",
       "    </tr>\n",
       "    <tr>\n",
       "      <th>7</th>\n",
       "      <td>Marie</td>\n",
       "      <td>93</td>\n",
       "      <td>63</td>\n",
       "      <td>90</td>\n",
       "    </tr>\n",
       "    <tr>\n",
       "      <th>8</th>\n",
       "      <td>Albert</td>\n",
       "      <td>92</td>\n",
       "      <td>62</td>\n",
       "      <td>87</td>\n",
       "    </tr>\n",
       "    <tr>\n",
       "      <th>9</th>\n",
       "      <td>Richard</td>\n",
       "      <td>69</td>\n",
       "      <td>80</td>\n",
       "      <td>94</td>\n",
       "    </tr>\n",
       "    <tr>\n",
       "      <th>10</th>\n",
       "      <td>Isaac</td>\n",
       "      <td>92</td>\n",
       "      <td>99</td>\n",
       "      <td>93</td>\n",
       "    </tr>\n",
       "    <tr>\n",
       "      <th>11</th>\n",
       "      <td>Alan</td>\n",
       "      <td>92</td>\n",
       "      <td>62</td>\n",
       "      <td>72</td>\n",
       "    </tr>\n",
       "  </tbody>\n",
       "</table>\n",
       "</div>"
      ],
      "text/plain": [
       "       NAME  MATH  ENGLISH  READING\n",
       "0     Sally    62       85       80\n",
       "1      Jane    88       79       67\n",
       "2     Suzie    94       74       95\n",
       "3     Billy    98       96       88\n",
       "4       Ada    77       92       98\n",
       "5      John    79       76       93\n",
       "6    Thomas    82       64       81\n",
       "7     Marie    93       63       90\n",
       "8    Albert    92       62       87\n",
       "9   Richard    69       80       94\n",
       "10    Isaac    92       99       93\n",
       "11     Alan    92       62       72"
      ]
     },
     "execution_count": 90,
     "metadata": {},
     "output_type": "execute_result"
    }
   ],
   "source": [
    "df\n"
   ]
  },
  {
   "cell_type": "code",
   "execution_count": 93,
   "id": "d90bbe8a",
   "metadata": {},
   "outputs": [],
   "source": [
    "#df.rename returns a copy\n",
    "dfr = df.rename(columns={'NAME': 'Student', 'MATH': 'Mathematics', 'ENGLISH': 'English', 'READING': 'Reading'})\n",
    "#Need to reassign or use inplace=True"
   ]
  },
  {
   "cell_type": "code",
   "execution_count": 94,
   "id": "ec737382",
   "metadata": {},
   "outputs": [
    {
     "data": {
      "text/html": [
       "<div>\n",
       "<style scoped>\n",
       "    .dataframe tbody tr th:only-of-type {\n",
       "        vertical-align: middle;\n",
       "    }\n",
       "\n",
       "    .dataframe tbody tr th {\n",
       "        vertical-align: top;\n",
       "    }\n",
       "\n",
       "    .dataframe thead th {\n",
       "        text-align: right;\n",
       "    }\n",
       "</style>\n",
       "<table border=\"1\" class=\"dataframe\">\n",
       "  <thead>\n",
       "    <tr style=\"text-align: right;\">\n",
       "      <th></th>\n",
       "      <th>Student</th>\n",
       "      <th>Mathematics</th>\n",
       "      <th>English</th>\n",
       "      <th>Reading</th>\n",
       "    </tr>\n",
       "  </thead>\n",
       "  <tbody>\n",
       "    <tr>\n",
       "      <th>0</th>\n",
       "      <td>Sally</td>\n",
       "      <td>62</td>\n",
       "      <td>85</td>\n",
       "      <td>80</td>\n",
       "    </tr>\n",
       "    <tr>\n",
       "      <th>1</th>\n",
       "      <td>Jane</td>\n",
       "      <td>88</td>\n",
       "      <td>79</td>\n",
       "      <td>67</td>\n",
       "    </tr>\n",
       "    <tr>\n",
       "      <th>2</th>\n",
       "      <td>Suzie</td>\n",
       "      <td>94</td>\n",
       "      <td>74</td>\n",
       "      <td>95</td>\n",
       "    </tr>\n",
       "    <tr>\n",
       "      <th>3</th>\n",
       "      <td>Billy</td>\n",
       "      <td>98</td>\n",
       "      <td>96</td>\n",
       "      <td>88</td>\n",
       "    </tr>\n",
       "    <tr>\n",
       "      <th>4</th>\n",
       "      <td>Ada</td>\n",
       "      <td>77</td>\n",
       "      <td>92</td>\n",
       "      <td>98</td>\n",
       "    </tr>\n",
       "    <tr>\n",
       "      <th>5</th>\n",
       "      <td>John</td>\n",
       "      <td>79</td>\n",
       "      <td>76</td>\n",
       "      <td>93</td>\n",
       "    </tr>\n",
       "    <tr>\n",
       "      <th>6</th>\n",
       "      <td>Thomas</td>\n",
       "      <td>82</td>\n",
       "      <td>64</td>\n",
       "      <td>81</td>\n",
       "    </tr>\n",
       "    <tr>\n",
       "      <th>7</th>\n",
       "      <td>Marie</td>\n",
       "      <td>93</td>\n",
       "      <td>63</td>\n",
       "      <td>90</td>\n",
       "    </tr>\n",
       "    <tr>\n",
       "      <th>8</th>\n",
       "      <td>Albert</td>\n",
       "      <td>92</td>\n",
       "      <td>62</td>\n",
       "      <td>87</td>\n",
       "    </tr>\n",
       "    <tr>\n",
       "      <th>9</th>\n",
       "      <td>Richard</td>\n",
       "      <td>69</td>\n",
       "      <td>80</td>\n",
       "      <td>94</td>\n",
       "    </tr>\n",
       "    <tr>\n",
       "      <th>10</th>\n",
       "      <td>Isaac</td>\n",
       "      <td>92</td>\n",
       "      <td>99</td>\n",
       "      <td>93</td>\n",
       "    </tr>\n",
       "    <tr>\n",
       "      <th>11</th>\n",
       "      <td>Alan</td>\n",
       "      <td>92</td>\n",
       "      <td>62</td>\n",
       "      <td>72</td>\n",
       "    </tr>\n",
       "  </tbody>\n",
       "</table>\n",
       "</div>"
      ],
      "text/plain": [
       "    Student  Mathematics  English  Reading\n",
       "0     Sally           62       85       80\n",
       "1      Jane           88       79       67\n",
       "2     Suzie           94       74       95\n",
       "3     Billy           98       96       88\n",
       "4       Ada           77       92       98\n",
       "5      John           79       76       93\n",
       "6    Thomas           82       64       81\n",
       "7     Marie           93       63       90\n",
       "8    Albert           92       62       87\n",
       "9   Richard           69       80       94\n",
       "10    Isaac           92       99       93\n",
       "11     Alan           92       62       72"
      ]
     },
     "execution_count": 94,
     "metadata": {},
     "output_type": "execute_result"
    }
   ],
   "source": [
    "dfr"
   ]
  },
  {
   "cell_type": "markdown",
   "id": "212d0afa",
   "metadata": {},
   "source": [
    "## Can chain methods"
   ]
  },
  {
   "cell_type": "markdown",
   "id": "72a05c1b",
   "metadata": {},
   "source": [
    "## Creating New Columns\n",
    "\n",
    "- We can add new columns to our dataframe\n",
    "    - Odten based on contents of another column"
   ]
  },
  {
   "cell_type": "code",
   "execution_count": 95,
   "id": "1179aa30",
   "metadata": {},
   "outputs": [
    {
     "data": {
      "text/html": [
       "<div>\n",
       "<style scoped>\n",
       "    .dataframe tbody tr th:only-of-type {\n",
       "        vertical-align: middle;\n",
       "    }\n",
       "\n",
       "    .dataframe tbody tr th {\n",
       "        vertical-align: top;\n",
       "    }\n",
       "\n",
       "    .dataframe thead th {\n",
       "        text-align: right;\n",
       "    }\n",
       "</style>\n",
       "<table border=\"1\" class=\"dataframe\">\n",
       "  <thead>\n",
       "    <tr style=\"text-align: right;\">\n",
       "      <th></th>\n",
       "      <th>NAME</th>\n",
       "      <th>MATH</th>\n",
       "      <th>ENGLISH</th>\n",
       "      <th>READING</th>\n",
       "    </tr>\n",
       "  </thead>\n",
       "  <tbody>\n",
       "    <tr>\n",
       "      <th>0</th>\n",
       "      <td>Sally</td>\n",
       "      <td>62</td>\n",
       "      <td>85</td>\n",
       "      <td>80</td>\n",
       "    </tr>\n",
       "    <tr>\n",
       "      <th>1</th>\n",
       "      <td>Jane</td>\n",
       "      <td>88</td>\n",
       "      <td>79</td>\n",
       "      <td>67</td>\n",
       "    </tr>\n",
       "    <tr>\n",
       "      <th>2</th>\n",
       "      <td>Suzie</td>\n",
       "      <td>94</td>\n",
       "      <td>74</td>\n",
       "      <td>95</td>\n",
       "    </tr>\n",
       "    <tr>\n",
       "      <th>3</th>\n",
       "      <td>Billy</td>\n",
       "      <td>98</td>\n",
       "      <td>96</td>\n",
       "      <td>88</td>\n",
       "    </tr>\n",
       "    <tr>\n",
       "      <th>4</th>\n",
       "      <td>Ada</td>\n",
       "      <td>77</td>\n",
       "      <td>92</td>\n",
       "      <td>98</td>\n",
       "    </tr>\n",
       "    <tr>\n",
       "      <th>5</th>\n",
       "      <td>John</td>\n",
       "      <td>79</td>\n",
       "      <td>76</td>\n",
       "      <td>93</td>\n",
       "    </tr>\n",
       "    <tr>\n",
       "      <th>6</th>\n",
       "      <td>Thomas</td>\n",
       "      <td>82</td>\n",
       "      <td>64</td>\n",
       "      <td>81</td>\n",
       "    </tr>\n",
       "    <tr>\n",
       "      <th>7</th>\n",
       "      <td>Marie</td>\n",
       "      <td>93</td>\n",
       "      <td>63</td>\n",
       "      <td>90</td>\n",
       "    </tr>\n",
       "    <tr>\n",
       "      <th>8</th>\n",
       "      <td>Albert</td>\n",
       "      <td>92</td>\n",
       "      <td>62</td>\n",
       "      <td>87</td>\n",
       "    </tr>\n",
       "    <tr>\n",
       "      <th>9</th>\n",
       "      <td>Richard</td>\n",
       "      <td>69</td>\n",
       "      <td>80</td>\n",
       "      <td>94</td>\n",
       "    </tr>\n",
       "    <tr>\n",
       "      <th>10</th>\n",
       "      <td>Isaac</td>\n",
       "      <td>92</td>\n",
       "      <td>99</td>\n",
       "      <td>93</td>\n",
       "    </tr>\n",
       "    <tr>\n",
       "      <th>11</th>\n",
       "      <td>Alan</td>\n",
       "      <td>92</td>\n",
       "      <td>62</td>\n",
       "      <td>72</td>\n",
       "    </tr>\n",
       "  </tbody>\n",
       "</table>\n",
       "</div>"
      ],
      "text/plain": [
       "       NAME  MATH  ENGLISH  READING\n",
       "0     Sally    62       85       80\n",
       "1      Jane    88       79       67\n",
       "2     Suzie    94       74       95\n",
       "3     Billy    98       96       88\n",
       "4       Ada    77       92       98\n",
       "5      John    79       76       93\n",
       "6    Thomas    82       64       81\n",
       "7     Marie    93       63       90\n",
       "8    Albert    92       62       87\n",
       "9   Richard    69       80       94\n",
       "10    Isaac    92       99       93\n",
       "11     Alan    92       62       72"
      ]
     },
     "execution_count": 95,
     "metadata": {},
     "output_type": "execute_result"
    }
   ],
   "source": [
    "df"
   ]
  },
  {
   "cell_type": "code",
   "execution_count": 96,
   "id": "e842ce57",
   "metadata": {},
   "outputs": [
    {
     "data": {
      "text/plain": [
       "0     False\n",
       "1      True\n",
       "2      True\n",
       "3      True\n",
       "4      True\n",
       "5      True\n",
       "6      True\n",
       "7      True\n",
       "8      True\n",
       "9     False\n",
       "10     True\n",
       "11     True\n",
       "Name: MATH, dtype: bool"
      ]
     },
     "execution_count": 96,
     "metadata": {},
     "output_type": "execute_result"
    }
   ],
   "source": [
    "df.MATH >=70"
   ]
  },
  {
   "cell_type": "code",
   "execution_count": 98,
   "id": "8ec3f6e5",
   "metadata": {},
   "outputs": [],
   "source": [
    "df['passing_math'] = df.MATH > 70"
   ]
  },
  {
   "cell_type": "code",
   "execution_count": 99,
   "id": "e39b7c5b",
   "metadata": {},
   "outputs": [
    {
     "data": {
      "text/html": [
       "<div>\n",
       "<style scoped>\n",
       "    .dataframe tbody tr th:only-of-type {\n",
       "        vertical-align: middle;\n",
       "    }\n",
       "\n",
       "    .dataframe tbody tr th {\n",
       "        vertical-align: top;\n",
       "    }\n",
       "\n",
       "    .dataframe thead th {\n",
       "        text-align: right;\n",
       "    }\n",
       "</style>\n",
       "<table border=\"1\" class=\"dataframe\">\n",
       "  <thead>\n",
       "    <tr style=\"text-align: right;\">\n",
       "      <th></th>\n",
       "      <th>NAME</th>\n",
       "      <th>MATH</th>\n",
       "      <th>ENGLISH</th>\n",
       "      <th>READING</th>\n",
       "      <th>passing_math</th>\n",
       "    </tr>\n",
       "  </thead>\n",
       "  <tbody>\n",
       "    <tr>\n",
       "      <th>0</th>\n",
       "      <td>Sally</td>\n",
       "      <td>62</td>\n",
       "      <td>85</td>\n",
       "      <td>80</td>\n",
       "      <td>False</td>\n",
       "    </tr>\n",
       "    <tr>\n",
       "      <th>1</th>\n",
       "      <td>Jane</td>\n",
       "      <td>88</td>\n",
       "      <td>79</td>\n",
       "      <td>67</td>\n",
       "      <td>True</td>\n",
       "    </tr>\n",
       "    <tr>\n",
       "      <th>2</th>\n",
       "      <td>Suzie</td>\n",
       "      <td>94</td>\n",
       "      <td>74</td>\n",
       "      <td>95</td>\n",
       "      <td>True</td>\n",
       "    </tr>\n",
       "    <tr>\n",
       "      <th>3</th>\n",
       "      <td>Billy</td>\n",
       "      <td>98</td>\n",
       "      <td>96</td>\n",
       "      <td>88</td>\n",
       "      <td>True</td>\n",
       "    </tr>\n",
       "    <tr>\n",
       "      <th>4</th>\n",
       "      <td>Ada</td>\n",
       "      <td>77</td>\n",
       "      <td>92</td>\n",
       "      <td>98</td>\n",
       "      <td>True</td>\n",
       "    </tr>\n",
       "    <tr>\n",
       "      <th>5</th>\n",
       "      <td>John</td>\n",
       "      <td>79</td>\n",
       "      <td>76</td>\n",
       "      <td>93</td>\n",
       "      <td>True</td>\n",
       "    </tr>\n",
       "    <tr>\n",
       "      <th>6</th>\n",
       "      <td>Thomas</td>\n",
       "      <td>82</td>\n",
       "      <td>64</td>\n",
       "      <td>81</td>\n",
       "      <td>True</td>\n",
       "    </tr>\n",
       "    <tr>\n",
       "      <th>7</th>\n",
       "      <td>Marie</td>\n",
       "      <td>93</td>\n",
       "      <td>63</td>\n",
       "      <td>90</td>\n",
       "      <td>True</td>\n",
       "    </tr>\n",
       "    <tr>\n",
       "      <th>8</th>\n",
       "      <td>Albert</td>\n",
       "      <td>92</td>\n",
       "      <td>62</td>\n",
       "      <td>87</td>\n",
       "      <td>True</td>\n",
       "    </tr>\n",
       "    <tr>\n",
       "      <th>9</th>\n",
       "      <td>Richard</td>\n",
       "      <td>69</td>\n",
       "      <td>80</td>\n",
       "      <td>94</td>\n",
       "      <td>False</td>\n",
       "    </tr>\n",
       "    <tr>\n",
       "      <th>10</th>\n",
       "      <td>Isaac</td>\n",
       "      <td>92</td>\n",
       "      <td>99</td>\n",
       "      <td>93</td>\n",
       "      <td>True</td>\n",
       "    </tr>\n",
       "    <tr>\n",
       "      <th>11</th>\n",
       "      <td>Alan</td>\n",
       "      <td>92</td>\n",
       "      <td>62</td>\n",
       "      <td>72</td>\n",
       "      <td>True</td>\n",
       "    </tr>\n",
       "  </tbody>\n",
       "</table>\n",
       "</div>"
      ],
      "text/plain": [
       "       NAME  MATH  ENGLISH  READING  passing_math\n",
       "0     Sally    62       85       80         False\n",
       "1      Jane    88       79       67          True\n",
       "2     Suzie    94       74       95          True\n",
       "3     Billy    98       96       88          True\n",
       "4       Ada    77       92       98          True\n",
       "5      John    79       76       93          True\n",
       "6    Thomas    82       64       81          True\n",
       "7     Marie    93       63       90          True\n",
       "8    Albert    92       62       87          True\n",
       "9   Richard    69       80       94         False\n",
       "10    Isaac    92       99       93          True\n",
       "11     Alan    92       62       72          True"
      ]
     },
     "execution_count": 99,
     "metadata": {},
     "output_type": "execute_result"
    }
   ],
   "source": [
    "df"
   ]
  },
  {
   "cell_type": "code",
   "execution_count": 102,
   "id": "1f7e9bbc",
   "metadata": {},
   "outputs": [
    {
     "data": {
      "text/plain": [
       "10"
      ]
     },
     "execution_count": 102,
     "metadata": {},
     "output_type": "execute_result"
    }
   ],
   "source": [
    "df.passing_math.sum()"
   ]
  },
  {
   "cell_type": "code",
   "execution_count": 104,
   "id": "f3c83272",
   "metadata": {},
   "outputs": [
    {
     "data": {
      "text/plain": [
       "0.8333333333333334"
      ]
     },
     "execution_count": 104,
     "metadata": {},
     "output_type": "execute_result"
    }
   ],
   "source": [
    "df.passing_math.mean()"
   ]
  },
  {
   "cell_type": "code",
   "execution_count": 105,
   "id": "b800c4f1",
   "metadata": {},
   "outputs": [
    {
     "data": {
      "text/html": [
       "<div>\n",
       "<style scoped>\n",
       "    .dataframe tbody tr th:only-of-type {\n",
       "        vertical-align: middle;\n",
       "    }\n",
       "\n",
       "    .dataframe tbody tr th {\n",
       "        vertical-align: top;\n",
       "    }\n",
       "\n",
       "    .dataframe thead th {\n",
       "        text-align: right;\n",
       "    }\n",
       "</style>\n",
       "<table border=\"1\" class=\"dataframe\">\n",
       "  <thead>\n",
       "    <tr style=\"text-align: right;\">\n",
       "      <th></th>\n",
       "      <th>NAME</th>\n",
       "      <th>MATH</th>\n",
       "      <th>ENGLISH</th>\n",
       "      <th>READING</th>\n",
       "      <th>passing_math</th>\n",
       "      <th>passing_english</th>\n",
       "    </tr>\n",
       "  </thead>\n",
       "  <tbody>\n",
       "    <tr>\n",
       "      <th>0</th>\n",
       "      <td>Sally</td>\n",
       "      <td>62</td>\n",
       "      <td>85</td>\n",
       "      <td>80</td>\n",
       "      <td>False</td>\n",
       "      <td>True</td>\n",
       "    </tr>\n",
       "    <tr>\n",
       "      <th>1</th>\n",
       "      <td>Jane</td>\n",
       "      <td>88</td>\n",
       "      <td>79</td>\n",
       "      <td>67</td>\n",
       "      <td>True</td>\n",
       "      <td>True</td>\n",
       "    </tr>\n",
       "    <tr>\n",
       "      <th>2</th>\n",
       "      <td>Suzie</td>\n",
       "      <td>94</td>\n",
       "      <td>74</td>\n",
       "      <td>95</td>\n",
       "      <td>True</td>\n",
       "      <td>True</td>\n",
       "    </tr>\n",
       "    <tr>\n",
       "      <th>3</th>\n",
       "      <td>Billy</td>\n",
       "      <td>98</td>\n",
       "      <td>96</td>\n",
       "      <td>88</td>\n",
       "      <td>True</td>\n",
       "      <td>True</td>\n",
       "    </tr>\n",
       "    <tr>\n",
       "      <th>4</th>\n",
       "      <td>Ada</td>\n",
       "      <td>77</td>\n",
       "      <td>92</td>\n",
       "      <td>98</td>\n",
       "      <td>True</td>\n",
       "      <td>True</td>\n",
       "    </tr>\n",
       "    <tr>\n",
       "      <th>5</th>\n",
       "      <td>John</td>\n",
       "      <td>79</td>\n",
       "      <td>76</td>\n",
       "      <td>93</td>\n",
       "      <td>True</td>\n",
       "      <td>True</td>\n",
       "    </tr>\n",
       "    <tr>\n",
       "      <th>6</th>\n",
       "      <td>Thomas</td>\n",
       "      <td>82</td>\n",
       "      <td>64</td>\n",
       "      <td>81</td>\n",
       "      <td>True</td>\n",
       "      <td>False</td>\n",
       "    </tr>\n",
       "    <tr>\n",
       "      <th>7</th>\n",
       "      <td>Marie</td>\n",
       "      <td>93</td>\n",
       "      <td>63</td>\n",
       "      <td>90</td>\n",
       "      <td>True</td>\n",
       "      <td>False</td>\n",
       "    </tr>\n",
       "    <tr>\n",
       "      <th>8</th>\n",
       "      <td>Albert</td>\n",
       "      <td>92</td>\n",
       "      <td>62</td>\n",
       "      <td>87</td>\n",
       "      <td>True</td>\n",
       "      <td>False</td>\n",
       "    </tr>\n",
       "    <tr>\n",
       "      <th>9</th>\n",
       "      <td>Richard</td>\n",
       "      <td>69</td>\n",
       "      <td>80</td>\n",
       "      <td>94</td>\n",
       "      <td>False</td>\n",
       "      <td>True</td>\n",
       "    </tr>\n",
       "    <tr>\n",
       "      <th>10</th>\n",
       "      <td>Isaac</td>\n",
       "      <td>92</td>\n",
       "      <td>99</td>\n",
       "      <td>93</td>\n",
       "      <td>True</td>\n",
       "      <td>True</td>\n",
       "    </tr>\n",
       "    <tr>\n",
       "      <th>11</th>\n",
       "      <td>Alan</td>\n",
       "      <td>92</td>\n",
       "      <td>62</td>\n",
       "      <td>72</td>\n",
       "      <td>True</td>\n",
       "      <td>False</td>\n",
       "    </tr>\n",
       "  </tbody>\n",
       "</table>\n",
       "</div>"
      ],
      "text/plain": [
       "       NAME  MATH  ENGLISH  READING  passing_math  passing_english\n",
       "0     Sally    62       85       80         False             True\n",
       "1      Jane    88       79       67          True             True\n",
       "2     Suzie    94       74       95          True             True\n",
       "3     Billy    98       96       88          True             True\n",
       "4       Ada    77       92       98          True             True\n",
       "5      John    79       76       93          True             True\n",
       "6    Thomas    82       64       81          True            False\n",
       "7     Marie    93       63       90          True            False\n",
       "8    Albert    92       62       87          True            False\n",
       "9   Richard    69       80       94         False             True\n",
       "10    Isaac    92       99       93          True             True\n",
       "11     Alan    92       62       72          True            False"
      ]
     },
     "execution_count": 105,
     "metadata": {},
     "output_type": "execute_result"
    }
   ],
   "source": [
    "df.assign(passing_english=df.ENGLISH >=70)"
   ]
  },
  {
   "cell_type": "code",
   "execution_count": 107,
   "id": "9bf18fed",
   "metadata": {},
   "outputs": [],
   "source": [
    "df[\"School\"] = \"SAHS\""
   ]
  },
  {
   "cell_type": "code",
   "execution_count": 108,
   "id": "68632658",
   "metadata": {},
   "outputs": [
    {
     "data": {
      "text/html": [
       "<div>\n",
       "<style scoped>\n",
       "    .dataframe tbody tr th:only-of-type {\n",
       "        vertical-align: middle;\n",
       "    }\n",
       "\n",
       "    .dataframe tbody tr th {\n",
       "        vertical-align: top;\n",
       "    }\n",
       "\n",
       "    .dataframe thead th {\n",
       "        text-align: right;\n",
       "    }\n",
       "</style>\n",
       "<table border=\"1\" class=\"dataframe\">\n",
       "  <thead>\n",
       "    <tr style=\"text-align: right;\">\n",
       "      <th></th>\n",
       "      <th>NAME</th>\n",
       "      <th>MATH</th>\n",
       "      <th>ENGLISH</th>\n",
       "      <th>READING</th>\n",
       "      <th>passing_math</th>\n",
       "      <th>School</th>\n",
       "    </tr>\n",
       "  </thead>\n",
       "  <tbody>\n",
       "    <tr>\n",
       "      <th>0</th>\n",
       "      <td>Sally</td>\n",
       "      <td>62</td>\n",
       "      <td>85</td>\n",
       "      <td>80</td>\n",
       "      <td>False</td>\n",
       "      <td>SAHS</td>\n",
       "    </tr>\n",
       "    <tr>\n",
       "      <th>1</th>\n",
       "      <td>Jane</td>\n",
       "      <td>88</td>\n",
       "      <td>79</td>\n",
       "      <td>67</td>\n",
       "      <td>True</td>\n",
       "      <td>SAHS</td>\n",
       "    </tr>\n",
       "    <tr>\n",
       "      <th>2</th>\n",
       "      <td>Suzie</td>\n",
       "      <td>94</td>\n",
       "      <td>74</td>\n",
       "      <td>95</td>\n",
       "      <td>True</td>\n",
       "      <td>SAHS</td>\n",
       "    </tr>\n",
       "    <tr>\n",
       "      <th>3</th>\n",
       "      <td>Billy</td>\n",
       "      <td>98</td>\n",
       "      <td>96</td>\n",
       "      <td>88</td>\n",
       "      <td>True</td>\n",
       "      <td>SAHS</td>\n",
       "    </tr>\n",
       "    <tr>\n",
       "      <th>4</th>\n",
       "      <td>Ada</td>\n",
       "      <td>77</td>\n",
       "      <td>92</td>\n",
       "      <td>98</td>\n",
       "      <td>True</td>\n",
       "      <td>SAHS</td>\n",
       "    </tr>\n",
       "    <tr>\n",
       "      <th>5</th>\n",
       "      <td>John</td>\n",
       "      <td>79</td>\n",
       "      <td>76</td>\n",
       "      <td>93</td>\n",
       "      <td>True</td>\n",
       "      <td>SAHS</td>\n",
       "    </tr>\n",
       "    <tr>\n",
       "      <th>6</th>\n",
       "      <td>Thomas</td>\n",
       "      <td>82</td>\n",
       "      <td>64</td>\n",
       "      <td>81</td>\n",
       "      <td>True</td>\n",
       "      <td>SAHS</td>\n",
       "    </tr>\n",
       "    <tr>\n",
       "      <th>7</th>\n",
       "      <td>Marie</td>\n",
       "      <td>93</td>\n",
       "      <td>63</td>\n",
       "      <td>90</td>\n",
       "      <td>True</td>\n",
       "      <td>SAHS</td>\n",
       "    </tr>\n",
       "    <tr>\n",
       "      <th>8</th>\n",
       "      <td>Albert</td>\n",
       "      <td>92</td>\n",
       "      <td>62</td>\n",
       "      <td>87</td>\n",
       "      <td>True</td>\n",
       "      <td>SAHS</td>\n",
       "    </tr>\n",
       "    <tr>\n",
       "      <th>9</th>\n",
       "      <td>Richard</td>\n",
       "      <td>69</td>\n",
       "      <td>80</td>\n",
       "      <td>94</td>\n",
       "      <td>False</td>\n",
       "      <td>SAHS</td>\n",
       "    </tr>\n",
       "    <tr>\n",
       "      <th>10</th>\n",
       "      <td>Isaac</td>\n",
       "      <td>92</td>\n",
       "      <td>99</td>\n",
       "      <td>93</td>\n",
       "      <td>True</td>\n",
       "      <td>SAHS</td>\n",
       "    </tr>\n",
       "    <tr>\n",
       "      <th>11</th>\n",
       "      <td>Alan</td>\n",
       "      <td>92</td>\n",
       "      <td>62</td>\n",
       "      <td>72</td>\n",
       "      <td>True</td>\n",
       "      <td>SAHS</td>\n",
       "    </tr>\n",
       "  </tbody>\n",
       "</table>\n",
       "</div>"
      ],
      "text/plain": [
       "       NAME  MATH  ENGLISH  READING  passing_math School\n",
       "0     Sally    62       85       80         False   SAHS\n",
       "1      Jane    88       79       67          True   SAHS\n",
       "2     Suzie    94       74       95          True   SAHS\n",
       "3     Billy    98       96       88          True   SAHS\n",
       "4       Ada    77       92       98          True   SAHS\n",
       "5      John    79       76       93          True   SAHS\n",
       "6    Thomas    82       64       81          True   SAHS\n",
       "7     Marie    93       63       90          True   SAHS\n",
       "8    Albert    92       62       87          True   SAHS\n",
       "9   Richard    69       80       94         False   SAHS\n",
       "10    Isaac    92       99       93          True   SAHS\n",
       "11     Alan    92       62       72          True   SAHS"
      ]
     },
     "execution_count": 108,
     "metadata": {},
     "output_type": "execute_result"
    }
   ],
   "source": [
    "df"
   ]
  },
  {
   "cell_type": "markdown",
   "id": "1995ebbb",
   "metadata": {},
   "source": [
    "## Sorting Dataframes\n",
    "\n",
    "- Can use `.sort_values`"
   ]
  },
  {
   "cell_type": "code",
   "execution_count": 110,
   "id": "1f289b75",
   "metadata": {},
   "outputs": [
    {
     "data": {
      "text/html": [
       "<div>\n",
       "<style scoped>\n",
       "    .dataframe tbody tr th:only-of-type {\n",
       "        vertical-align: middle;\n",
       "    }\n",
       "\n",
       "    .dataframe tbody tr th {\n",
       "        vertical-align: top;\n",
       "    }\n",
       "\n",
       "    .dataframe thead th {\n",
       "        text-align: right;\n",
       "    }\n",
       "</style>\n",
       "<table border=\"1\" class=\"dataframe\">\n",
       "  <thead>\n",
       "    <tr style=\"text-align: right;\">\n",
       "      <th></th>\n",
       "      <th>NAME</th>\n",
       "      <th>MATH</th>\n",
       "      <th>ENGLISH</th>\n",
       "      <th>READING</th>\n",
       "      <th>passing_math</th>\n",
       "      <th>School</th>\n",
       "    </tr>\n",
       "  </thead>\n",
       "  <tbody>\n",
       "    <tr>\n",
       "      <th>10</th>\n",
       "      <td>Isaac</td>\n",
       "      <td>92</td>\n",
       "      <td>99</td>\n",
       "      <td>93</td>\n",
       "      <td>True</td>\n",
       "      <td>SAHS</td>\n",
       "    </tr>\n",
       "    <tr>\n",
       "      <th>3</th>\n",
       "      <td>Billy</td>\n",
       "      <td>98</td>\n",
       "      <td>96</td>\n",
       "      <td>88</td>\n",
       "      <td>True</td>\n",
       "      <td>SAHS</td>\n",
       "    </tr>\n",
       "    <tr>\n",
       "      <th>4</th>\n",
       "      <td>Ada</td>\n",
       "      <td>77</td>\n",
       "      <td>92</td>\n",
       "      <td>98</td>\n",
       "      <td>True</td>\n",
       "      <td>SAHS</td>\n",
       "    </tr>\n",
       "    <tr>\n",
       "      <th>0</th>\n",
       "      <td>Sally</td>\n",
       "      <td>62</td>\n",
       "      <td>85</td>\n",
       "      <td>80</td>\n",
       "      <td>False</td>\n",
       "      <td>SAHS</td>\n",
       "    </tr>\n",
       "    <tr>\n",
       "      <th>9</th>\n",
       "      <td>Richard</td>\n",
       "      <td>69</td>\n",
       "      <td>80</td>\n",
       "      <td>94</td>\n",
       "      <td>False</td>\n",
       "      <td>SAHS</td>\n",
       "    </tr>\n",
       "    <tr>\n",
       "      <th>1</th>\n",
       "      <td>Jane</td>\n",
       "      <td>88</td>\n",
       "      <td>79</td>\n",
       "      <td>67</td>\n",
       "      <td>True</td>\n",
       "      <td>SAHS</td>\n",
       "    </tr>\n",
       "    <tr>\n",
       "      <th>5</th>\n",
       "      <td>John</td>\n",
       "      <td>79</td>\n",
       "      <td>76</td>\n",
       "      <td>93</td>\n",
       "      <td>True</td>\n",
       "      <td>SAHS</td>\n",
       "    </tr>\n",
       "    <tr>\n",
       "      <th>2</th>\n",
       "      <td>Suzie</td>\n",
       "      <td>94</td>\n",
       "      <td>74</td>\n",
       "      <td>95</td>\n",
       "      <td>True</td>\n",
       "      <td>SAHS</td>\n",
       "    </tr>\n",
       "    <tr>\n",
       "      <th>6</th>\n",
       "      <td>Thomas</td>\n",
       "      <td>82</td>\n",
       "      <td>64</td>\n",
       "      <td>81</td>\n",
       "      <td>True</td>\n",
       "      <td>SAHS</td>\n",
       "    </tr>\n",
       "    <tr>\n",
       "      <th>7</th>\n",
       "      <td>Marie</td>\n",
       "      <td>93</td>\n",
       "      <td>63</td>\n",
       "      <td>90</td>\n",
       "      <td>True</td>\n",
       "      <td>SAHS</td>\n",
       "    </tr>\n",
       "    <tr>\n",
       "      <th>8</th>\n",
       "      <td>Albert</td>\n",
       "      <td>92</td>\n",
       "      <td>62</td>\n",
       "      <td>87</td>\n",
       "      <td>True</td>\n",
       "      <td>SAHS</td>\n",
       "    </tr>\n",
       "    <tr>\n",
       "      <th>11</th>\n",
       "      <td>Alan</td>\n",
       "      <td>92</td>\n",
       "      <td>62</td>\n",
       "      <td>72</td>\n",
       "      <td>True</td>\n",
       "      <td>SAHS</td>\n",
       "    </tr>\n",
       "  </tbody>\n",
       "</table>\n",
       "</div>"
      ],
      "text/plain": [
       "       NAME  MATH  ENGLISH  READING  passing_math School\n",
       "10    Isaac    92       99       93          True   SAHS\n",
       "3     Billy    98       96       88          True   SAHS\n",
       "4       Ada    77       92       98          True   SAHS\n",
       "0     Sally    62       85       80         False   SAHS\n",
       "9   Richard    69       80       94         False   SAHS\n",
       "1      Jane    88       79       67          True   SAHS\n",
       "5      John    79       76       93          True   SAHS\n",
       "2     Suzie    94       74       95          True   SAHS\n",
       "6    Thomas    82       64       81          True   SAHS\n",
       "7     Marie    93       63       90          True   SAHS\n",
       "8    Albert    92       62       87          True   SAHS\n",
       "11     Alan    92       62       72          True   SAHS"
      ]
     },
     "execution_count": 110,
     "metadata": {},
     "output_type": "execute_result"
    }
   ],
   "source": [
    "df.sort_values(by=\"ENGLISH\", ascending=False)"
   ]
  },
  {
   "cell_type": "markdown",
   "id": "504f375a",
   "metadata": {},
   "source": [
    "## Chaining Dataframe Methods"
   ]
  },
  {
   "cell_type": "code",
   "execution_count": 111,
   "id": "2ea96191",
   "metadata": {},
   "outputs": [
    {
     "data": {
      "text/plain": [
       "'hELLO'"
      ]
     },
     "execution_count": 111,
     "metadata": {},
     "output_type": "execute_result"
    }
   ],
   "source": [
    "#reads from left to right\n",
    "\"hello\".capitalize().swapcase()"
   ]
  },
  {
   "cell_type": "code",
   "execution_count": 116,
   "id": "ac6adc0e",
   "metadata": {},
   "outputs": [
    {
     "data": {
      "text/plain": [
       "4    Ada\n",
       "Name: NAME, dtype: object"
      ]
     },
     "execution_count": 116,
     "metadata": {},
     "output_type": "execute_result"
    }
   ],
   "source": [
    "#Name of the student with the *lowest* english grade above a 90\n",
    "df[df.ENGLISH > 90].sort_values(by='ENGLISH').head(1).NAME"
   ]
  },
  {
   "cell_type": "code",
   "execution_count": 119,
   "id": "994451cb",
   "metadata": {},
   "outputs": [
    {
     "data": {
      "text/html": [
       "<div>\n",
       "<style scoped>\n",
       "    .dataframe tbody tr th:only-of-type {\n",
       "        vertical-align: middle;\n",
       "    }\n",
       "\n",
       "    .dataframe tbody tr th {\n",
       "        vertical-align: top;\n",
       "    }\n",
       "\n",
       "    .dataframe thead th {\n",
       "        text-align: right;\n",
       "    }\n",
       "</style>\n",
       "<table border=\"1\" class=\"dataframe\">\n",
       "  <thead>\n",
       "    <tr style=\"text-align: right;\">\n",
       "      <th></th>\n",
       "      <th>NAME</th>\n",
       "      <th>MATH</th>\n",
       "      <th>ENGLISH</th>\n",
       "      <th>READING</th>\n",
       "      <th>passing_math</th>\n",
       "      <th>School</th>\n",
       "    </tr>\n",
       "  </thead>\n",
       "  <tbody>\n",
       "    <tr>\n",
       "      <th>3</th>\n",
       "      <td>Billy</td>\n",
       "      <td>98</td>\n",
       "      <td>96</td>\n",
       "      <td>88</td>\n",
       "      <td>True</td>\n",
       "      <td>SAHS</td>\n",
       "    </tr>\n",
       "    <tr>\n",
       "      <th>4</th>\n",
       "      <td>Ada</td>\n",
       "      <td>77</td>\n",
       "      <td>92</td>\n",
       "      <td>98</td>\n",
       "      <td>True</td>\n",
       "      <td>SAHS</td>\n",
       "    </tr>\n",
       "    <tr>\n",
       "      <th>10</th>\n",
       "      <td>Isaac</td>\n",
       "      <td>92</td>\n",
       "      <td>99</td>\n",
       "      <td>93</td>\n",
       "      <td>True</td>\n",
       "      <td>SAHS</td>\n",
       "    </tr>\n",
       "  </tbody>\n",
       "</table>\n",
       "</div>"
      ],
      "text/plain": [
       "     NAME  MATH  ENGLISH  READING  passing_math School\n",
       "3   Billy    98       96       88          True   SAHS\n",
       "4     Ada    77       92       98          True   SAHS\n",
       "10  Isaac    92       99       93          True   SAHS"
      ]
     },
     "execution_count": 119,
     "metadata": {},
     "output_type": "execute_result"
    }
   ],
   "source": [
    "df[df.ENGLISH > 90]"
   ]
  },
  {
   "cell_type": "code",
   "execution_count": 120,
   "id": "05bd84ad",
   "metadata": {},
   "outputs": [
    {
     "data": {
      "text/html": [
       "<div>\n",
       "<style scoped>\n",
       "    .dataframe tbody tr th:only-of-type {\n",
       "        vertical-align: middle;\n",
       "    }\n",
       "\n",
       "    .dataframe tbody tr th {\n",
       "        vertical-align: top;\n",
       "    }\n",
       "\n",
       "    .dataframe thead th {\n",
       "        text-align: right;\n",
       "    }\n",
       "</style>\n",
       "<table border=\"1\" class=\"dataframe\">\n",
       "  <thead>\n",
       "    <tr style=\"text-align: right;\">\n",
       "      <th></th>\n",
       "      <th>NAME</th>\n",
       "      <th>MATH</th>\n",
       "      <th>ENGLISH</th>\n",
       "      <th>READING</th>\n",
       "      <th>passing_math</th>\n",
       "      <th>School</th>\n",
       "    </tr>\n",
       "  </thead>\n",
       "  <tbody>\n",
       "    <tr>\n",
       "      <th>4</th>\n",
       "      <td>Ada</td>\n",
       "      <td>77</td>\n",
       "      <td>92</td>\n",
       "      <td>98</td>\n",
       "      <td>True</td>\n",
       "      <td>SAHS</td>\n",
       "    </tr>\n",
       "    <tr>\n",
       "      <th>3</th>\n",
       "      <td>Billy</td>\n",
       "      <td>98</td>\n",
       "      <td>96</td>\n",
       "      <td>88</td>\n",
       "      <td>True</td>\n",
       "      <td>SAHS</td>\n",
       "    </tr>\n",
       "    <tr>\n",
       "      <th>10</th>\n",
       "      <td>Isaac</td>\n",
       "      <td>92</td>\n",
       "      <td>99</td>\n",
       "      <td>93</td>\n",
       "      <td>True</td>\n",
       "      <td>SAHS</td>\n",
       "    </tr>\n",
       "  </tbody>\n",
       "</table>\n",
       "</div>"
      ],
      "text/plain": [
       "     NAME  MATH  ENGLISH  READING  passing_math School\n",
       "4     Ada    77       92       98          True   SAHS\n",
       "3   Billy    98       96       88          True   SAHS\n",
       "10  Isaac    92       99       93          True   SAHS"
      ]
     },
     "execution_count": 120,
     "metadata": {},
     "output_type": "execute_result"
    }
   ],
   "source": [
    "df[df.ENGLISH > 90].sort_values(by=\"ENGLISH\")"
   ]
  },
  {
   "cell_type": "code",
   "execution_count": 121,
   "id": "fb59b546",
   "metadata": {},
   "outputs": [
    {
     "data": {
      "text/html": [
       "<div>\n",
       "<style scoped>\n",
       "    .dataframe tbody tr th:only-of-type {\n",
       "        vertical-align: middle;\n",
       "    }\n",
       "\n",
       "    .dataframe tbody tr th {\n",
       "        vertical-align: top;\n",
       "    }\n",
       "\n",
       "    .dataframe thead th {\n",
       "        text-align: right;\n",
       "    }\n",
       "</style>\n",
       "<table border=\"1\" class=\"dataframe\">\n",
       "  <thead>\n",
       "    <tr style=\"text-align: right;\">\n",
       "      <th></th>\n",
       "      <th>NAME</th>\n",
       "      <th>MATH</th>\n",
       "      <th>ENGLISH</th>\n",
       "      <th>READING</th>\n",
       "      <th>passing_math</th>\n",
       "      <th>School</th>\n",
       "    </tr>\n",
       "  </thead>\n",
       "  <tbody>\n",
       "    <tr>\n",
       "      <th>4</th>\n",
       "      <td>Ada</td>\n",
       "      <td>77</td>\n",
       "      <td>92</td>\n",
       "      <td>98</td>\n",
       "      <td>True</td>\n",
       "      <td>SAHS</td>\n",
       "    </tr>\n",
       "  </tbody>\n",
       "</table>\n",
       "</div>"
      ],
      "text/plain": [
       "  NAME  MATH  ENGLISH  READING  passing_math School\n",
       "4  Ada    77       92       98          True   SAHS"
      ]
     },
     "execution_count": 121,
     "metadata": {},
     "output_type": "execute_result"
    }
   ],
   "source": [
    "df[df.ENGLISH > 90].sort_values(by=\"ENGLISH\").head(1)"
   ]
  },
  {
   "cell_type": "code",
   "execution_count": 123,
   "id": "92a5de67",
   "metadata": {},
   "outputs": [
    {
     "data": {
      "text/plain": [
       "4    Ada\n",
       "Name: NAME, dtype: object"
      ]
     },
     "execution_count": 123,
     "metadata": {},
     "output_type": "execute_result"
    }
   ],
   "source": [
    "df[df.ENGLISH > 90].sort_values(by=\"ENGLISH\").head(1).NAME"
   ]
  },
  {
   "cell_type": "code",
   "execution_count": null,
   "id": "ea3e4af0",
   "metadata": {},
   "outputs": [],
   "source": []
  },
  {
   "cell_type": "code",
   "execution_count": null,
   "id": "bfc8bc90",
   "metadata": {},
   "outputs": [],
   "source": []
  },
  {
   "cell_type": "code",
   "execution_count": null,
   "id": "cea54a76",
   "metadata": {},
   "outputs": [],
   "source": []
  },
  {
   "cell_type": "code",
   "execution_count": null,
   "id": "bab60ee8",
   "metadata": {},
   "outputs": [],
   "source": []
  },
  {
   "cell_type": "code",
   "execution_count": 113,
   "id": "e17041cf",
   "metadata": {},
   "outputs": [
    {
     "data": {
      "text/html": [
       "<div>\n",
       "<style scoped>\n",
       "    .dataframe tbody tr th:only-of-type {\n",
       "        vertical-align: middle;\n",
       "    }\n",
       "\n",
       "    .dataframe tbody tr th {\n",
       "        vertical-align: top;\n",
       "    }\n",
       "\n",
       "    .dataframe thead th {\n",
       "        text-align: right;\n",
       "    }\n",
       "</style>\n",
       "<table border=\"1\" class=\"dataframe\">\n",
       "  <thead>\n",
       "    <tr style=\"text-align: right;\">\n",
       "      <th></th>\n",
       "      <th>NAME</th>\n",
       "      <th>MATH</th>\n",
       "      <th>ENGLISH</th>\n",
       "      <th>READING</th>\n",
       "      <th>passing_math</th>\n",
       "      <th>School</th>\n",
       "    </tr>\n",
       "  </thead>\n",
       "  <tbody>\n",
       "    <tr>\n",
       "      <th>0</th>\n",
       "      <td>Sally</td>\n",
       "      <td>62</td>\n",
       "      <td>85</td>\n",
       "      <td>80</td>\n",
       "      <td>False</td>\n",
       "      <td>SAHS</td>\n",
       "    </tr>\n",
       "    <tr>\n",
       "      <th>1</th>\n",
       "      <td>Jane</td>\n",
       "      <td>88</td>\n",
       "      <td>79</td>\n",
       "      <td>67</td>\n",
       "      <td>True</td>\n",
       "      <td>SAHS</td>\n",
       "    </tr>\n",
       "    <tr>\n",
       "      <th>2</th>\n",
       "      <td>Suzie</td>\n",
       "      <td>94</td>\n",
       "      <td>74</td>\n",
       "      <td>95</td>\n",
       "      <td>True</td>\n",
       "      <td>SAHS</td>\n",
       "    </tr>\n",
       "    <tr>\n",
       "      <th>3</th>\n",
       "      <td>Billy</td>\n",
       "      <td>98</td>\n",
       "      <td>96</td>\n",
       "      <td>88</td>\n",
       "      <td>True</td>\n",
       "      <td>SAHS</td>\n",
       "    </tr>\n",
       "    <tr>\n",
       "      <th>4</th>\n",
       "      <td>Ada</td>\n",
       "      <td>77</td>\n",
       "      <td>92</td>\n",
       "      <td>98</td>\n",
       "      <td>True</td>\n",
       "      <td>SAHS</td>\n",
       "    </tr>\n",
       "    <tr>\n",
       "      <th>5</th>\n",
       "      <td>John</td>\n",
       "      <td>79</td>\n",
       "      <td>76</td>\n",
       "      <td>93</td>\n",
       "      <td>True</td>\n",
       "      <td>SAHS</td>\n",
       "    </tr>\n",
       "    <tr>\n",
       "      <th>6</th>\n",
       "      <td>Thomas</td>\n",
       "      <td>82</td>\n",
       "      <td>64</td>\n",
       "      <td>81</td>\n",
       "      <td>True</td>\n",
       "      <td>SAHS</td>\n",
       "    </tr>\n",
       "    <tr>\n",
       "      <th>7</th>\n",
       "      <td>Marie</td>\n",
       "      <td>93</td>\n",
       "      <td>63</td>\n",
       "      <td>90</td>\n",
       "      <td>True</td>\n",
       "      <td>SAHS</td>\n",
       "    </tr>\n",
       "    <tr>\n",
       "      <th>8</th>\n",
       "      <td>Albert</td>\n",
       "      <td>92</td>\n",
       "      <td>62</td>\n",
       "      <td>87</td>\n",
       "      <td>True</td>\n",
       "      <td>SAHS</td>\n",
       "    </tr>\n",
       "    <tr>\n",
       "      <th>9</th>\n",
       "      <td>Richard</td>\n",
       "      <td>69</td>\n",
       "      <td>80</td>\n",
       "      <td>94</td>\n",
       "      <td>False</td>\n",
       "      <td>SAHS</td>\n",
       "    </tr>\n",
       "    <tr>\n",
       "      <th>10</th>\n",
       "      <td>Isaac</td>\n",
       "      <td>92</td>\n",
       "      <td>99</td>\n",
       "      <td>93</td>\n",
       "      <td>True</td>\n",
       "      <td>SAHS</td>\n",
       "    </tr>\n",
       "    <tr>\n",
       "      <th>11</th>\n",
       "      <td>Alan</td>\n",
       "      <td>92</td>\n",
       "      <td>62</td>\n",
       "      <td>72</td>\n",
       "      <td>True</td>\n",
       "      <td>SAHS</td>\n",
       "    </tr>\n",
       "  </tbody>\n",
       "</table>\n",
       "</div>"
      ],
      "text/plain": [
       "       NAME  MATH  ENGLISH  READING  passing_math School\n",
       "0     Sally    62       85       80         False   SAHS\n",
       "1      Jane    88       79       67          True   SAHS\n",
       "2     Suzie    94       74       95          True   SAHS\n",
       "3     Billy    98       96       88          True   SAHS\n",
       "4       Ada    77       92       98          True   SAHS\n",
       "5      John    79       76       93          True   SAHS\n",
       "6    Thomas    82       64       81          True   SAHS\n",
       "7     Marie    93       63       90          True   SAHS\n",
       "8    Albert    92       62       87          True   SAHS\n",
       "9   Richard    69       80       94         False   SAHS\n",
       "10    Isaac    92       99       93          True   SAHS\n",
       "11     Alan    92       62       72          True   SAHS"
      ]
     },
     "execution_count": 113,
     "metadata": {},
     "output_type": "execute_result"
    }
   ],
   "source": [
    "df\n"
   ]
  },
  {
   "cell_type": "code",
   "execution_count": null,
   "id": "6a5e5644",
   "metadata": {},
   "outputs": [],
   "source": []
  }
 ],
 "metadata": {
  "kernelspec": {
   "display_name": "Python 3",
   "language": "python",
   "name": "python3"
  },
  "language_info": {
   "codemirror_mode": {
    "name": "ipython",
    "version": 3
   },
   "file_extension": ".py",
   "mimetype": "text/x-python",
   "name": "python",
   "nbconvert_exporter": "python",
   "pygments_lexer": "ipython3",
   "version": "3.8.8"
  }
 },
 "nbformat": 4,
 "nbformat_minor": 5
}
