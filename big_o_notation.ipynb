{
 "cells": [
  {
   "cell_type": "markdown",
   "id": "1278e7a0",
   "metadata": {},
   "source": [
    "<p>Make a new Jupyter notebook named big_o_notation.ipynb</p>\n",
    "<ul>\n",
    "<li>Title your chart \"Big O Notation\"</li>\n",
    "<li>Label your x axis \"Elements\"</li>\n",
    "<li>Label your y axis \"Operations\"</li>\n",
    "<li>Label your curves or make a legend for the curves</li>\n",
    "<li>Use LaTex notation where possible</li>\n",
    "</ul>\n",
    "<p>Curves to graph</p>\n",
    "<ul>\n",
    "<li><span><span class=\"MathJax_Preview\">y = 0n + 1</span><script type=\"math/tex\">y = 0n + 1</script></span> and label the curve \"O(1)\"</li>\n",
    "<li><span><span class=\"MathJax_Preview\">y = log(n)</span><script type=\"math/tex\">y = log(n)</script></span> and label the curve \"O(log n)\"</li>\n",
    "<li><span><span class=\"MathJax_Preview\">y = n</span><script type=\"math/tex\">y = n</script></span> and label the curve \"O(n)\"</li>\n",
    "<li><span><span class=\"MathJax_Preview\">y = n * log(n)</span><script type=\"math/tex\">y = n * log(n)</script></span> and label it \"O(n log n)\"</li>\n",
    "<li><span><span class=\"MathJax_Preview\">y = n^2</span><script type=\"math/tex\">y = n^2</script></span> and label it \"O(n^2)\"</li>\n",
    "<li><span><span class=\"MathJax_Preview\">y = 2^n</span><script type=\"math/tex\">y = 2^n</script></span> and label it \"O(2^n)\"</li>\n",
    "<li><span><span class=\"MathJax_Preview\">y = n!</span><script type=\"math/tex\">y = n!</script></span> and label it \"O(n!)\"</li>\n",
    "<li><span><span class=\"MathJax_Preview\">y = n^n</span><script type=\"math/tex\">y = n^n</script></span> and label it \"O(n^n)\"</li>\n",
    "</ul>"
   ]
  },
  {
   "cell_type": "code",
   "execution_count": 1,
   "id": "78b397f1",
   "metadata": {},
   "outputs": [],
   "source": [
    "#import pyplot module as alias plt\n",
    "import matplotlib.pyplot as plt  \n",
    "\n",
    "#import other libraries \n",
    "import numpy as np\n",
    "import math\n",
    "from random import randint\n",
    "import random\n",
    "import pandas as pd"
   ]
  },
  {
   "cell_type": "code",
   "execution_count": 30,
   "id": "942cda27",
   "metadata": {},
   "outputs": [
    {
     "data": {
      "image/png": "[encoded data removed]",
      "text/plain": [
       "<Figure size 720x576 with 1 Axes>"
      ]
     },
     "metadata": {
      "needs_background": "light"
     },
     "output_type": "display_data"
    }
   ],
   "source": [
    "plt.figure(figsize = (10,8))\n",
    "plt.title('Big O Notation')\n",
    "plt.xlabel('Elements')\n",
    "plt.ylabel('Operations')\n",
    "\n",
    "\n",
    "#y1 = [x **2 - x + 2 for x in x]\n",
    "\n",
    "\n",
    "x = list(range(-3, 11))\n",
    "x2 = list(range(1, 11))\n",
    "\n",
    "y1 = [0*x + 1 for x in x] #label the curve \"O(1)\"\n",
    "\n",
    "y2 = [np.log10(n) for n in x2] # and label the curve \"O(log n)\"\n",
    "\n",
    "y3 = [n for n in x] # and label the curve \"O(n)\"\n",
    "\n",
    "y4 = [n * np.log10(n) for n in x2] # and label it \"O(n log n)\"\n",
    "\n",
    "y5 =  [n**2 for n in x] # and label it \"O(n^2)\"\n",
    "\n",
    "y6 = [2**n for n in x] # and label it \"O(2^n)\"\n",
    "      \n",
    "y7 = [math.factorial(n) for n in x2\n",
    "     ] # n! and label it \"O(n!)\"\n",
    "      \n",
    "y8 = [n**n for n in x] #label it \"O(n^n)\"\n",
    "\n",
    "\n",
    "\n",
    "plt.plot(x,y1,\n",
    "         label = ('$O(1)$'))\n",
    "\n",
    "plt.plot(x2,y2,\n",
    "        label = ('$O(log n)$'))\n",
    "\n",
    "plt.plot(x,y3,\n",
    "         label = ('$O(n)$'))\n",
    "\n",
    "plt.plot(x2,y4,\n",
    "         label = ('$O(n log n)$'))\n",
    "\n",
    "plt.plot(x,y5,\n",
    "         label = ('$O(n^2)$'))\n",
    "\n",
    "plt.plot(x,y6,\n",
    "         label = ('$O(2^n)$'))\n",
    "\n",
    "plt.plot(x2,y7,\n",
    "        label = ('$O(n!)$'))\n",
    "\n",
    "plt.plot(x,y8,\n",
    "         label = ('$O(n^n)$'))\n",
    "\n",
    "\n",
    "\n",
    "plt.xlim([0, 10])\n",
    "\n",
    "\n",
    "\n",
    "\n",
    "plt.legend()\n",
    "plt.show()"
   ]
  },
  {
   "cell_type": "code",
   "execution_count": 14,
   "id": "d284980b",
   "metadata": {},
   "outputs": [
    {
     "data": {
      "text/plain": [
       "120"
      ]
     },
     "execution_count": 14,
     "metadata": {},
     "output_type": "execute_result"
    }
   ],
   "source": [
    "math.factorial(5)"
   ]
  },
  {
   "cell_type": "code",
   "execution_count": null,
   "id": "50f6aade",
   "metadata": {},
   "outputs": [],
   "source": []
  }
 ],
 "metadata": {
  "kernelspec": {
   "display_name": "Python 3",
   "language": "python",
   "name": "python3"
  },
  "language_info": {
   "codemirror_mode": {
    "name": "ipython",
    "version": 3
   },
   "file_extension": ".py",
   "mimetype": "text/x-python",
   "name": "python",
   "nbconvert_exporter": "python",
   "pygments_lexer": "ipython3",
   "version": "3.8.8"
  }
 },
 "nbformat": 4,
 "nbformat_minor": 5
}
