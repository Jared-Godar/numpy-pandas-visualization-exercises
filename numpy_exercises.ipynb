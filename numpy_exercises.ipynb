{
 "cells": [
  {
   "cell_type": "markdown",
   "id": "6e247854",
   "metadata": {},
   "source": [
    "<h2 id=\"exercises\">Exercises</h2>\n",
    "<p>In your <code>numpy-pandas-visualization-exercises</code> repo, create a file named <code>numpy_exercises.py</code> for this exercise.</p>\n",
    "<p>Use the following code for the questions below:</p>\n",
    "<div class=\"highlight\"><pre><span></span>a = np.array([4, 10, 12, 23, -2, -1, 0, 0, 0, -6, 3, -7])\n",
    "</pre></div>\n",
    "\n",
    "<ol>\n",
    "<li>\n",
    "<p>How many negative numbers are there?</p>\n",
    "</li>\n",
    "<li>\n",
    "<p>How many positive numbers are there?</p>\n",
    "</li>\n",
    "<li>\n",
    "<p>How many even positive numbers are there?</p>\n",
    "</li>\n",
    "<li>\n",
    "<p>If you were to add 3 to each data point, how many positive numbers would\n",
    "   there be?</p>\n",
    "</li>\n",
    "<li>\n",
    "<p>If you squared each number, what would the new mean and standard deviation\n",
    "   be?</p>\n",
    "</li>\n",
    "<li>\n",
    "<p>A common statistical operation on a dataset is <strong>centering</strong>. This means to\n",
    "   adjust the data such that the mean of the data is 0. This is done by\n",
    "   subtracting the mean from each data point. Center the data set. See <a href=\"https://www.theanalysisfactor.com/centering-and-standardizing-predictors/\">this link</a> for more on centering.</p>\n",
    "</li>\n",
    "<li>\n",
    "<p>Calculate the z-score for each data point. Recall that the z-score is given\n",
    "   by:</p>\n",
    "<div>\n",
    "<div class=\"MathJax_Preview\">\n",
    "Z = \\frac{x - \\mu}{\\sigma}\n",
    "</div>\n",
    "<script type=\"math/tex; mode=display\">\n",
    "Z = \\frac{x - \\mu}{\\sigma}\n",
    "</script>\n",
    "</div>\n",
    "</li>\n",
    "<li>\n",
    "<p>Copy the setup and exercise directions from <a href=\"https://gist.github.com/ryanorsinger/c4cf5a64ec33c014ff2e56951bc8a42d\">More Numpy Practice</a> into your <code>numpy_exercises.py</code> and add your solutions.</p>\n",
    "</li>\n",
    "</ol>\n",
    "<p><strong> Awesome Bonus </strong>\n",
    "For much more practice with numpy, Go to <code>https://github.com/rougier/numpy-100</code> and clone the repo down to your laptop. Next, go to <code>https://github.com/new</code> to make a new repo. Name it <code>numpy-100</code>, and follow the directions to \"push an existing repository from the command line\" so that you can push up your changes to your own account.</p>\n",
    "                \n",
    "                  \n",
    "                \n",
    "              "
   ]
  },
  {
   "cell_type": "code",
   "execution_count": 2,
   "id": "14ec3cfc",
   "metadata": {},
   "outputs": [],
   "source": [
    "import numpy as np\n",
    "a = np.array([4, 10, 12, 23, -2, -1, 0, 0, 0, -6, 3, -7])"
   ]
  },
  {
   "cell_type": "markdown",
   "id": "28309722",
   "metadata": {},
   "source": [
    "1. How many negative numbers are there?\n"
   ]
  },
  {
   "cell_type": "code",
   "execution_count": null,
   "id": "4db23e8f",
   "metadata": {},
   "outputs": [],
   "source": [
    "1. How many negative numbers are there"
   ]
  },
  {
   "cell_type": "code",
   "execution_count": 8,
   "id": "ac5fbf3f",
   "metadata": {},
   "outputs": [
    {
     "data": {
      "text/plain": [
       "array([-2, -1, -6, -7])"
      ]
     },
     "execution_count": 8,
     "metadata": {},
     "output_type": "execute_result"
    }
   ],
   "source": [
    "a[a<0]"
   ]
  },
  {
   "cell_type": "code",
   "execution_count": 15,
   "id": "ca155307",
   "metadata": {},
   "outputs": [
    {
     "data": {
      "text/plain": [
       "4"
      ]
     },
     "execution_count": 15,
     "metadata": {},
     "output_type": "execute_result"
    }
   ],
   "source": [
    "len(a[a<0])"
   ]
  },
  {
   "cell_type": "markdown",
   "id": "4f885a88",
   "metadata": {},
   "source": [
    "2. How many positive numbers are there?"
   ]
  },
  {
   "cell_type": "code",
   "execution_count": 3,
   "id": "2fbed1d7",
   "metadata": {},
   "outputs": [
    {
     "data": {
      "text/plain": [
       "array([ 4, 10, 12, 23,  3])"
      ]
     },
     "execution_count": 3,
     "metadata": {},
     "output_type": "execute_result"
    }
   ],
   "source": [
    "a[a>0]"
   ]
  },
  {
   "cell_type": "code",
   "execution_count": 4,
   "id": "d361f735",
   "metadata": {},
   "outputs": [
    {
     "data": {
      "text/plain": [
       "5"
      ]
     },
     "execution_count": 4,
     "metadata": {},
     "output_type": "execute_result"
    }
   ],
   "source": [
    "len(a[a>0])"
   ]
  },
  {
   "cell_type": "code",
   "execution_count": 5,
   "id": "0db5b3f7",
   "metadata": {},
   "outputs": [
    {
     "name": "stdout",
     "output_type": "stream",
     "text": [
      "5\n"
     ]
    }
   ],
   "source": [
    "print(a[a>0].size)"
   ]
  },
  {
   "cell_type": "code",
   "execution_count": 6,
   "id": "e2494e23",
   "metadata": {},
   "outputs": [
    {
     "name": "stdout",
     "output_type": "stream",
     "text": [
      "(5,)\n"
     ]
    }
   ],
   "source": [
    "print(a[a>0].shape)"
   ]
  },
  {
   "cell_type": "markdown",
   "id": "78ac92dd",
   "metadata": {},
   "source": [
    "3. How many even positive numbers are there?"
   ]
  },
  {
   "cell_type": "code",
   "execution_count": 11,
   "id": "a7a1b016",
   "metadata": {},
   "outputs": [
    {
     "data": {
      "text/plain": [
       "array([ 4, 10, 12])"
      ]
     },
     "execution_count": 11,
     "metadata": {},
     "output_type": "execute_result"
    }
   ],
   "source": [
    "a[(a > 0) & (a % 2 ==0)]"
   ]
  },
  {
   "cell_type": "code",
   "execution_count": 17,
   "id": "5821aa22",
   "metadata": {},
   "outputs": [
    {
     "data": {
      "text/plain": [
       "3"
      ]
     },
     "execution_count": 17,
     "metadata": {},
     "output_type": "execute_result"
    }
   ],
   "source": [
    "len(a[(a > 0) & (a % 2 ==0)])"
   ]
  },
  {
   "cell_type": "markdown",
   "id": "13fefba8",
   "metadata": {},
   "source": [
    "4. If you were to add 3 to each data point, how many positive numbers would there be?"
   ]
  },
  {
   "cell_type": "code",
   "execution_count": 12,
   "id": "63c3dc8d",
   "metadata": {},
   "outputs": [
    {
     "data": {
      "text/plain": [
       "array([ 7, 13, 15, 26,  1,  2,  3,  3,  3,  6])"
      ]
     },
     "execution_count": 12,
     "metadata": {},
     "output_type": "execute_result"
    }
   ],
   "source": [
    "b=a+3\n",
    "b[b>0]"
   ]
  },
  {
   "cell_type": "code",
   "execution_count": 18,
   "id": "6afa85f5",
   "metadata": {},
   "outputs": [
    {
     "data": {
      "text/plain": [
       "10"
      ]
     },
     "execution_count": 18,
     "metadata": {},
     "output_type": "execute_result"
    }
   ],
   "source": [
    "len(b[b>0])"
   ]
  },
  {
   "cell_type": "markdown",
   "id": "71c1ad0d",
   "metadata": {},
   "source": [
    "5. If you squared each number, what would the new mean and standard deviation be?"
   ]
  },
  {
   "cell_type": "code",
   "execution_count": 8,
   "id": "dd395ce0",
   "metadata": {},
   "outputs": [
    {
     "data": {
      "text/plain": [
       "(74.0, 144.0243035046516)"
      ]
     },
     "execution_count": 8,
     "metadata": {},
     "output_type": "execute_result"
    }
   ],
   "source": [
    "c = a **2\n",
    "c.mean(), c.std()"
   ]
  },
  {
   "cell_type": "code",
   "execution_count": 9,
   "id": "6e94848d",
   "metadata": {},
   "outputs": [
    {
     "data": {
      "text/plain": [
       "{'mean': 74.0, 'standard_deviation': 144.0243035046516}"
      ]
     },
     "execution_count": 9,
     "metadata": {},
     "output_type": "execute_result"
    }
   ],
   "source": [
    "{\n",
    "    'mean': c.mean(),\n",
    "    'standard_deviation': c.std()\n",
    "}"
   ]
  },
  {
   "cell_type": "markdown",
   "id": "b630d7b8",
   "metadata": {},
   "source": [
    "6. A common statistical operation on a dataset is <strong>centering</strong>. This means to\n",
    "   adjust the data such that the mean of the data is 0. This is done by\n",
    "   subtracting the mean from each data point. Center the data set. See <a href=\"https://www.theanalysisfactor.com/centering-and-standardizing-predictors/\">this link</a> for more on centering."
   ]
  },
  {
   "cell_type": "code",
   "execution_count": 3,
   "id": "351182a6",
   "metadata": {},
   "outputs": [
    {
     "data": {
      "text/plain": [
       "3.0"
      ]
     },
     "execution_count": 3,
     "metadata": {},
     "output_type": "execute_result"
    }
   ],
   "source": [
    "np.mean(a)"
   ]
  },
  {
   "cell_type": "code",
   "execution_count": 12,
   "id": "fed85e4a",
   "metadata": {},
   "outputs": [
    {
     "data": {
      "text/plain": [
       "array([  1,   7,   9,  20,  -5,  -4,  -3,  -3,  -3,  -9,   0, -10])"
      ]
     },
     "execution_count": 12,
     "metadata": {},
     "output_type": "execute_result"
    }
   ],
   "source": [
    "a -=3 \n",
    "a"
   ]
  },
  {
   "cell_type": "code",
   "execution_count": 10,
   "id": "a6f5ca5b",
   "metadata": {},
   "outputs": [],
   "source": [
    "centered = a- a.mean()"
   ]
  },
  {
   "cell_type": "code",
   "execution_count": 11,
   "id": "0caca73f",
   "metadata": {},
   "outputs": [
    {
     "data": {
      "text/plain": [
       "0.0"
      ]
     },
     "execution_count": 11,
     "metadata": {},
     "output_type": "execute_result"
    }
   ],
   "source": [
    "centered.mean()"
   ]
  },
  {
   "cell_type": "code",
   "execution_count": 13,
   "id": "3cb33565",
   "metadata": {},
   "outputs": [
    {
     "data": {
      "text/plain": [
       "0.0"
      ]
     },
     "execution_count": 13,
     "metadata": {},
     "output_type": "execute_result"
    }
   ],
   "source": [
    "a.mean()\n"
   ]
  },
  {
   "cell_type": "markdown",
   "id": "520cbe24",
   "metadata": {},
   "source": [
    "7. Calculate the z-score for each data point. Recall that the z-score is given\n",
    "   by:</p>\n",
    "<div>\n",
    "<div class=\"MathJax_Preview\">\n",
    "Z = \\frac{x - \\mu}{\\sigma}\n",
    "</div>\n",
    "<script type=\"math/tex; mode=display\">\n",
    "Z = \\frac{x - \\mu}{\\sigma}\n",
    "</script>\n",
    "</div>\n",
    "</li>"
   ]
  },
  {
   "cell_type": "code",
   "execution_count": 14,
   "id": "97bbd905",
   "metadata": {},
   "outputs": [
    {
     "data": {
      "text/plain": [
       "array([ 0.12403473,  0.86824314,  1.11631261,  2.48069469, -0.62017367,\n",
       "       -0.49613894, -0.3721042 , -0.3721042 , -0.3721042 , -1.11631261,\n",
       "        0.        , -1.24034735])"
      ]
     },
     "execution_count": 14,
     "metadata": {},
     "output_type": "execute_result"
    }
   ],
   "source": [
    "(a-a.mean())/a.std()"
   ]
  },
  {
   "cell_type": "code",
   "execution_count": null,
   "id": "d9a746dd",
   "metadata": {},
   "outputs": [],
   "source": []
  },
  {
   "cell_type": "markdown",
   "id": "8fdc5b19",
   "metadata": {},
   "source": [
    "8. <p>Copy the setup and exercise directions from <a href=\"https://gist.github.com/ryanorsinger/c4cf5a64ec33c014ff2e56951bc8a42d\">More Numpy Practice</a> into your <code>numpy_exercises.py</code> and add your solutions.</p>"
   ]
  },
  {
   "cell_type": "code",
   "execution_count": 5,
   "id": "1c72b8dd",
   "metadata": {},
   "outputs": [],
   "source": [
    "a = np.array([1, 2, 3, 4, 5, 6, 7, 8, 9, 10])"
   ]
  },
  {
   "cell_type": "markdown",
   "id": "51893cbd",
   "metadata": {},
   "source": [
    "Exercise 1 - Make a variable called sum_of_a to hold the sum of all the numbers in above list\n"
   ]
  },
  {
   "cell_type": "code",
   "execution_count": 17,
   "id": "d93812e5",
   "metadata": {},
   "outputs": [
    {
     "data": {
      "text/plain": [
       "55"
      ]
     },
     "execution_count": 17,
     "metadata": {},
     "output_type": "execute_result"
    }
   ],
   "source": [
    "sum_of_a = np.sum(a)\n",
    "sum_of_a"
   ]
  },
  {
   "cell_type": "markdown",
   "id": "f2195c4b",
   "metadata": {},
   "source": [
    "Exercise 2 - Make a variable named min_of_a to hold the minimum of all the numbers in the above list\n"
   ]
  },
  {
   "cell_type": "code",
   "execution_count": 18,
   "id": "4cde042d",
   "metadata": {},
   "outputs": [
    {
     "data": {
      "text/plain": [
       "1"
      ]
     },
     "execution_count": 18,
     "metadata": {},
     "output_type": "execute_result"
    }
   ],
   "source": [
    "min_of_a = np.min(a)\n",
    "min_of_a"
   ]
  },
  {
   "cell_type": "markdown",
   "id": "b7c38816",
   "metadata": {},
   "source": [
    "Exercise 3 - Make a variable named max_of_a to hold the max number of all the numbers in the above list\n"
   ]
  },
  {
   "cell_type": "code",
   "execution_count": 19,
   "id": "a9b8c499",
   "metadata": {},
   "outputs": [
    {
     "data": {
      "text/plain": [
       "10"
      ]
     },
     "execution_count": 19,
     "metadata": {},
     "output_type": "execute_result"
    }
   ],
   "source": [
    "max_of_a = np.max(a)\n",
    "max_of_a"
   ]
  },
  {
   "cell_type": "markdown",
   "id": "eb1b32dd",
   "metadata": {},
   "source": [
    "Exercise 4 - Make a variable named mean_of_a to hold the average of all the numbers in the above list\n"
   ]
  },
  {
   "cell_type": "code",
   "execution_count": 21,
   "id": "d59d5d09",
   "metadata": {},
   "outputs": [
    {
     "data": {
      "text/plain": [
       "5.5"
      ]
     },
     "execution_count": 21,
     "metadata": {},
     "output_type": "execute_result"
    }
   ],
   "source": [
    "mean_of_a = np.mean(a)\n",
    "mean_of_a"
   ]
  },
  {
   "cell_type": "markdown",
   "id": "2b2e0dff",
   "metadata": {},
   "source": [
    "Exercise 5 - Make a variable named product_of_a to hold the product of multiplying all the numbers in the above list together"
   ]
  },
  {
   "cell_type": "code",
   "execution_count": 29,
   "id": "03799db9",
   "metadata": {},
   "outputs": [
    {
     "data": {
      "text/plain": [
       "3628800"
      ]
     },
     "execution_count": 29,
     "metadata": {},
     "output_type": "execute_result"
    }
   ],
   "source": [
    "product_of_a = np.product(a)\n",
    "product_of_a"
   ]
  },
  {
   "cell_type": "markdown",
   "id": "f70677e4",
   "metadata": {},
   "source": [
    "Exercise 6 - Make a variable named squares_of_a. It should hold each number in a squared like [1, 4, 9, 16, 25...]\n"
   ]
  },
  {
   "cell_type": "code",
   "execution_count": 21,
   "id": "8d7df270",
   "metadata": {},
   "outputs": [
    {
     "data": {
      "text/plain": [
       "array([  1,   4,   9,  16,  25,  36,  49,  64,  81, 100])"
      ]
     },
     "execution_count": 21,
     "metadata": {},
     "output_type": "execute_result"
    }
   ],
   "source": [
    "squares_of_a = a**2\n",
    "squares_of_a"
   ]
  },
  {
   "cell_type": "markdown",
   "id": "0bbc8435",
   "metadata": {},
   "source": [
    "Exercise 7 - Make a variable named odds_in_a. It should hold only the odd numbers\n"
   ]
  },
  {
   "cell_type": "code",
   "execution_count": 7,
   "id": "19a57c44",
   "metadata": {},
   "outputs": [
    {
     "data": {
      "text/plain": [
       "array([1, 3, 5, 7, 9])"
      ]
     },
     "execution_count": 7,
     "metadata": {},
     "output_type": "execute_result"
    }
   ],
   "source": [
    "is_odd = a % 2 == 1\n",
    "odds_in_a = a[is_odd]\n",
    "odds_in_a"
   ]
  },
  {
   "cell_type": "markdown",
   "id": "67d48d59",
   "metadata": {},
   "source": [
    "Exercise 8 - Make a variable named evens_in_a. It should hold only the evens."
   ]
  },
  {
   "cell_type": "code",
   "execution_count": 9,
   "id": "cba32504",
   "metadata": {},
   "outputs": [
    {
     "data": {
      "text/plain": [
       "array([ 2,  4,  6,  8, 10])"
      ]
     },
     "execution_count": 9,
     "metadata": {},
     "output_type": "execute_result"
    }
   ],
   "source": [
    "is_even = a % 2 == 0\n",
    "evens_in_a = a[is_even]\n",
    "evens_in_a"
   ]
  },
  {
   "cell_type": "markdown",
   "id": "cd883043",
   "metadata": {},
   "source": [
    "---"
   ]
  },
  {
   "cell_type": "markdown",
   "id": "6fdbf5da",
   "metadata": {},
   "source": [
    "What about life in two dimensions? A list of lists is matrix, a table, a spreadsheet, a chessboard...\n",
    "Setup 2: Consider what it would take to find the sum, min, max, average, sum, product, and list of squares for this list of two lists.\n",
    "\n",
    "b = [ [3, 4, 5], [6, 7, 8] ]"
   ]
  },
  {
   "cell_type": "code",
   "execution_count": 13,
   "id": "3d799bc5",
   "metadata": {},
   "outputs": [],
   "source": [
    "b = np.matrix([ [3, 4, 5], [6, 7, 8] ])"
   ]
  },
  {
   "cell_type": "code",
   "execution_count": 11,
   "id": "1601810f",
   "metadata": {},
   "outputs": [
    {
     "data": {
      "text/plain": [
       "matrix([[3, 4, 5],\n",
       "        [6, 7, 8]])"
      ]
     },
     "execution_count": 11,
     "metadata": {},
     "output_type": "execute_result"
    }
   ],
   "source": [
    "b"
   ]
  },
  {
   "cell_type": "markdown",
   "id": "b6ff899e",
   "metadata": {},
   "source": [
    "Exercise 1 - refactor the following to use numpy. Use sum_of_b as the variable. Hint, you'll first need to make sure that the \"b\" variable is a numpy array\n",
    "\n",
    "      sum_of_b = 0\n",
    "          for row in b:\n",
    "      sum_of_b += sum(row)"
   ]
  },
  {
   "cell_type": "code",
   "execution_count": 14,
   "id": "96e44485",
   "metadata": {},
   "outputs": [
    {
     "data": {
      "text/plain": [
       "33"
      ]
     },
     "execution_count": 14,
     "metadata": {},
     "output_type": "execute_result"
    }
   ],
   "source": [
    "sum_of_b=np.sum(b)\n",
    "sum_of_b"
   ]
  },
  {
   "cell_type": "markdown",
   "id": "788030ab",
   "metadata": {},
   "source": [
    "- Exercise 2 - refactor the following to use numpy. \n",
    "\n",
    "        min_of_b = min(b[0]) \n",
    "            if min(b[0]) <= min(b[1]) \n",
    "        else min(b[1])  "
   ]
  },
  {
   "cell_type": "code",
   "execution_count": 15,
   "id": "1667143c",
   "metadata": {},
   "outputs": [
    {
     "data": {
      "text/plain": [
       "3"
      ]
     },
     "execution_count": 15,
     "metadata": {},
     "output_type": "execute_result"
    }
   ],
   "source": [
    "min_of_b = np.min(b)\n",
    "min_of_b"
   ]
  },
  {
   "cell_type": "markdown",
   "id": "f6ed2119",
   "metadata": {},
   "source": [
    "- Exercise 3 - refactor the following maximum calculation to find the answer with numpy.\n",
    "        max_of_b = max(b[0]) \n",
    "            if max(b[0]) >= max(b[1]) \n",
    "            else max(b[1])"
   ]
  },
  {
   "cell_type": "code",
   "execution_count": 17,
   "id": "6c4822bc",
   "metadata": {},
   "outputs": [
    {
     "data": {
      "text/plain": [
       "8"
      ]
     },
     "execution_count": 17,
     "metadata": {},
     "output_type": "execute_result"
    }
   ],
   "source": [
    "max_of_b = np.max(b)\n",
    "max_of_b"
   ]
  },
  {
   "cell_type": "markdown",
   "id": "bedbd611",
   "metadata": {},
   "source": [
    "- Exercise 4 - refactor the following using numpy to find the mean of b\n",
    "    mean_of_b = (sum(b[0]) + sum(b[1])) / (len(b[0]) + len(b[1]))"
   ]
  },
  {
   "cell_type": "code",
   "execution_count": 18,
   "id": "59feeaa8",
   "metadata": {},
   "outputs": [
    {
     "data": {
      "text/plain": [
       "5.5"
      ]
     },
     "execution_count": 18,
     "metadata": {},
     "output_type": "execute_result"
    }
   ],
   "source": [
    "mean_of_b = np.mean(b)\n",
    "mean_of_b"
   ]
  },
  {
   "cell_type": "markdown",
   "id": "e69b5c03",
   "metadata": {},
   "source": [
    "- Exercise 5 - refactor the following to use numpy for calculating the product of all numbers multiplied together.\n",
    "\n",
    "      product_of_b = 1\n",
    "      for row in b:\n",
    "          for number in row:\n",
    "              product_of_b *= number"
   ]
  },
  {
   "cell_type": "code",
   "execution_count": 19,
   "id": "6c6cfc44",
   "metadata": {},
   "outputs": [
    {
     "data": {
      "text/plain": [
       "20160"
      ]
     },
     "execution_count": 19,
     "metadata": {},
     "output_type": "execute_result"
    }
   ],
   "source": [
    "product_of_b = np.product(b)\n",
    "product_of_b"
   ]
  },
  {
   "cell_type": "markdown",
   "id": "62de1c10",
   "metadata": {},
   "source": [
    "- Exercise 6 - refactor the following to use numpy to find the list of squares\n",
    "\n",
    "         squares_of_b = []\n",
    "         for row in b:\n",
    "             for number in row:\n",
    "                 squares_of_b.append(number**2)"
   ]
  },
  {
   "cell_type": "code",
   "execution_count": 23,
   "id": "7c0a5c97",
   "metadata": {},
   "outputs": [
    {
     "data": {
      "text/plain": [
       "matrix([[ 9, 16, 25],\n",
       "        [36, 49, 64]])"
      ]
     },
     "execution_count": 23,
     "metadata": {},
     "output_type": "execute_result"
    }
   ],
   "source": [
    "squares_of_b = np.square(b)\n",
    "squares_of_b"
   ]
  },
  {
   "cell_type": "markdown",
   "id": "095878f8",
   "metadata": {},
   "source": [
    "- Exercise 7 - refactor using numpy to determine the odds_in_b\n",
    "          odds_in_b = []\n",
    "          for row in b:\n",
    "              for number in row:\n",
    "                  if(number % 2 != 0):\n",
    "                      odds_in_b.append(number)"
   ]
  },
  {
   "cell_type": "code",
   "execution_count": 25,
   "id": "da6a33d6",
   "metadata": {},
   "outputs": [
    {
     "data": {
      "text/plain": [
       "matrix([[3, 5, 7]])"
      ]
     },
     "execution_count": 25,
     "metadata": {},
     "output_type": "execute_result"
    }
   ],
   "source": [
    "is_odd = b % 2 == 1\n",
    "odds_in_b = b[is_odd]\n",
    "odds_in_b"
   ]
  },
  {
   "cell_type": "markdown",
   "id": "9f24a597",
   "metadata": {},
   "source": [
    "- Exercise 8 - refactor the following to use numpy to filter only the even numbers\n",
    "\n",
    "         evens_in_b = []\n",
    "         for row in b:\n",
    "             for number in row:\n",
    "                 if(number % 2 == 0):\n",
    "                     evens_in_b.append(number)"
   ]
  },
  {
   "cell_type": "code",
   "execution_count": 26,
   "id": "d5ce2d52",
   "metadata": {},
   "outputs": [
    {
     "data": {
      "text/plain": [
       "matrix([[4, 6, 8]])"
      ]
     },
     "execution_count": 26,
     "metadata": {},
     "output_type": "execute_result"
    }
   ],
   "source": [
    "is_even = b % 2 == 0\n",
    "evens_in_b = b[is_even]\n",
    "evens_in_b"
   ]
  },
  {
   "cell_type": "markdown",
   "id": "4da1d8bd",
   "metadata": {},
   "source": [
    "- Exercise 9 - print out the shape of the array b."
   ]
  },
  {
   "cell_type": "code",
   "execution_count": 27,
   "id": "9f0aede3",
   "metadata": {},
   "outputs": [
    {
     "data": {
      "text/plain": [
       "(2, 3)"
      ]
     },
     "execution_count": 27,
     "metadata": {},
     "output_type": "execute_result"
    }
   ],
   "source": [
    "np.shape(b)"
   ]
  },
  {
   "cell_type": "markdown",
   "id": "34233941",
   "metadata": {},
   "source": [
    "- Exercise 10 - transpose the array b."
   ]
  },
  {
   "cell_type": "code",
   "execution_count": 28,
   "id": "c4f6161b",
   "metadata": {},
   "outputs": [
    {
     "data": {
      "text/plain": [
       "matrix([[3, 6],\n",
       "        [4, 7],\n",
       "        [5, 8]])"
      ]
     },
     "execution_count": 28,
     "metadata": {},
     "output_type": "execute_result"
    }
   ],
   "source": [
    "np.transpose(b)"
   ]
  },
  {
   "cell_type": "markdown",
   "id": "3c9edd5d",
   "metadata": {},
   "source": [
    "- Exercise 11 - reshape the array b to be a single list of 6 numbers. (1 x 6)"
   ]
  },
  {
   "cell_type": "code",
   "execution_count": 29,
   "id": "f7a73693",
   "metadata": {},
   "outputs": [],
   "source": [
    "np.reshape?"
   ]
  },
  {
   "cell_type": "code",
   "execution_count": 30,
   "id": "68f1fa87",
   "metadata": {},
   "outputs": [
    {
     "data": {
      "text/plain": [
       "matrix([[3, 4, 5, 6, 7, 8]])"
      ]
     },
     "execution_count": 30,
     "metadata": {},
     "output_type": "execute_result"
    }
   ],
   "source": [
    "np.reshape(b,(1,6))"
   ]
  },
  {
   "cell_type": "code",
   "execution_count": 14,
   "id": "d6849e23",
   "metadata": {},
   "outputs": [
    {
     "data": {
      "text/plain": [
       "matrix([[3, 4, 5, 6, 7, 8]])"
      ]
     },
     "execution_count": 14,
     "metadata": {},
     "output_type": "execute_result"
    }
   ],
   "source": [
    "b.flatten()"
   ]
  },
  {
   "cell_type": "markdown",
   "id": "0b20c91f",
   "metadata": {},
   "source": [
    "- Exercise 12 - reshape the array b to be a list of 6 lists, each containing only 1 number (6 x 1)"
   ]
  },
  {
   "cell_type": "code",
   "execution_count": 31,
   "id": "478319e1",
   "metadata": {},
   "outputs": [
    {
     "data": {
      "text/plain": [
       "matrix([[3],\n",
       "        [4],\n",
       "        [5],\n",
       "        [6],\n",
       "        [7],\n",
       "        [8]])"
      ]
     },
     "execution_count": 31,
     "metadata": {},
     "output_type": "execute_result"
    }
   ],
   "source": [
    "np.reshape(b,(6,1))"
   ]
  },
  {
   "cell_type": "markdown",
   "id": "16768a7c",
   "metadata": {},
   "source": [
    "---"
   ]
  },
  {
   "cell_type": "markdown",
   "id": "1a17e487",
   "metadata": {},
   "source": [
    "### Setup 3\n",
    "    c = [\n",
    "        [1, 2, 3],\n",
    "        [4, 5, 6],\n",
    "        [7, 8, 9]\n",
    "    ]\n",
    "\n",
    "### HINT, you'll first need to make sure that the \"c\" variable is a numpy array prior to using numpy array methods."
   ]
  },
  {
   "cell_type": "code",
   "execution_count": 32,
   "id": "8ba75586",
   "metadata": {},
   "outputs": [],
   "source": [
    "c = np.matrix([\n",
    "    [1, 2, 3],\n",
    "    [4, 5, 6],\n",
    "    [7, 8, 9]\n",
    "])"
   ]
  },
  {
   "cell_type": "markdown",
   "id": "d91d1023",
   "metadata": {},
   "source": [
    "- Exercise 1 - Find the min, max, sum, and product of c."
   ]
  },
  {
   "cell_type": "code",
   "execution_count": 33,
   "id": "0b24ba76",
   "metadata": {},
   "outputs": [
    {
     "data": {
      "text/plain": [
       "1"
      ]
     },
     "execution_count": 33,
     "metadata": {},
     "output_type": "execute_result"
    }
   ],
   "source": [
    "np.min(c)"
   ]
  },
  {
   "cell_type": "code",
   "execution_count": 34,
   "id": "86f21ab1",
   "metadata": {},
   "outputs": [
    {
     "data": {
      "text/plain": [
       "9"
      ]
     },
     "execution_count": 34,
     "metadata": {},
     "output_type": "execute_result"
    }
   ],
   "source": [
    "np.max(c)"
   ]
  },
  {
   "cell_type": "code",
   "execution_count": 35,
   "id": "07cf8476",
   "metadata": {},
   "outputs": [
    {
     "data": {
      "text/plain": [
       "45"
      ]
     },
     "execution_count": 35,
     "metadata": {},
     "output_type": "execute_result"
    }
   ],
   "source": [
    "np.sum(c)"
   ]
  },
  {
   "cell_type": "code",
   "execution_count": 36,
   "id": "d281f68a",
   "metadata": {},
   "outputs": [
    {
     "data": {
      "text/plain": [
       "362880"
      ]
     },
     "execution_count": 36,
     "metadata": {},
     "output_type": "execute_result"
    }
   ],
   "source": [
    "np.product(c)"
   ]
  },
  {
   "cell_type": "markdown",
   "id": "4a8c021e",
   "metadata": {},
   "source": [
    "- Exercise 2 - Determine the standard deviation of c."
   ]
  },
  {
   "cell_type": "code",
   "execution_count": 37,
   "id": "ebb8e415",
   "metadata": {},
   "outputs": [
    {
     "data": {
      "text/plain": [
       "2.581988897471611"
      ]
     },
     "execution_count": 37,
     "metadata": {},
     "output_type": "execute_result"
    }
   ],
   "source": [
    "np.std(c)"
   ]
  },
  {
   "cell_type": "markdown",
   "id": "63d7c6ac",
   "metadata": {},
   "source": [
    "- Exercise 3 - Determine the variance of c."
   ]
  },
  {
   "cell_type": "code",
   "execution_count": 38,
   "id": "0c5b0b17",
   "metadata": {},
   "outputs": [
    {
     "data": {
      "text/plain": [
       "6.666666666666667"
      ]
     },
     "execution_count": 38,
     "metadata": {},
     "output_type": "execute_result"
    }
   ],
   "source": [
    "np.var(c)"
   ]
  },
  {
   "cell_type": "markdown",
   "id": "4769e681",
   "metadata": {},
   "source": [
    "- Exercise 4 - Print out the shape of the array c"
   ]
  },
  {
   "cell_type": "code",
   "execution_count": 40,
   "id": "4ec6b9a0",
   "metadata": {},
   "outputs": [
    {
     "data": {
      "text/plain": [
       "(3, 3)"
      ]
     },
     "execution_count": 40,
     "metadata": {},
     "output_type": "execute_result"
    }
   ],
   "source": [
    "np.shape(c)"
   ]
  },
  {
   "cell_type": "markdown",
   "id": "2f2d91b5",
   "metadata": {},
   "source": [
    "- Exercise 5 - Transpose c and print out transposed result."
   ]
  },
  {
   "cell_type": "code",
   "execution_count": 41,
   "id": "01cb44a8",
   "metadata": {},
   "outputs": [
    {
     "data": {
      "text/plain": [
       "matrix([[1, 4, 7],\n",
       "        [2, 5, 8],\n",
       "        [3, 6, 9]])"
      ]
     },
     "execution_count": 41,
     "metadata": {},
     "output_type": "execute_result"
    }
   ],
   "source": [
    "np.transpose(c)"
   ]
  },
  {
   "cell_type": "markdown",
   "id": "29b1852e",
   "metadata": {},
   "source": [
    "- Exercise 6 - Get the dot product of the array c with c."
   ]
  },
  {
   "cell_type": "code",
   "execution_count": 42,
   "id": "16900b45",
   "metadata": {},
   "outputs": [],
   "source": [
    "np.dot?\n"
   ]
  },
  {
   "cell_type": "code",
   "execution_count": 44,
   "id": "e11fe5c1",
   "metadata": {},
   "outputs": [
    {
     "data": {
      "text/plain": [
       "matrix([[ 30,  36,  42],\n",
       "        [ 66,  81,  96],\n",
       "        [102, 126, 150]])"
      ]
     },
     "execution_count": 44,
     "metadata": {},
     "output_type": "execute_result"
    }
   ],
   "source": [
    "np.dot(c,c)"
   ]
  },
  {
   "cell_type": "markdown",
   "id": "4bdac95b",
   "metadata": {},
   "source": [
    "- Exercise 7 - Write the code necessary to sum up the result of c times c transposed. Answer should be 261"
   ]
  },
  {
   "cell_type": "code",
   "execution_count": 52,
   "id": "c94565c4",
   "metadata": {},
   "outputs": [
    {
     "data": {
      "text/plain": [
       "261"
      ]
     },
     "execution_count": 52,
     "metadata": {},
     "output_type": "execute_result"
    }
   ],
   "source": [
    "np.sum(np.multiply(c, np.transpose(c)))"
   ]
  },
  {
   "cell_type": "markdown",
   "id": "a6cbaccd",
   "metadata": {},
   "source": [
    "- Exercise 8 - Write the code necessary to determine the product of c times c transposed. Answer should be 131681894400."
   ]
  },
  {
   "cell_type": "code",
   "execution_count": 56,
   "id": "3c56e98e",
   "metadata": {},
   "outputs": [
    {
     "data": {
      "text/plain": [
       "131681894400"
      ]
     },
     "execution_count": 56,
     "metadata": {},
     "output_type": "execute_result"
    }
   ],
   "source": [
    "np.product(np.multiply(c, np.transpose(c)))"
   ]
  },
  {
   "cell_type": "markdown",
   "id": "95eba605",
   "metadata": {},
   "source": [
    "---"
   ]
  },
  {
   "cell_type": "markdown",
   "id": "4b92c1ed",
   "metadata": {},
   "source": [
    "### Setup 4\n",
    "        d = [\n",
    "            [90, 30, 45, 0, 120, 180],\n",
    "            [45, -90, -30, 270, 90, 0],\n",
    "            [60, 45, -45, 90, -45, 180]\n",
    "        ]"
   ]
  },
  {
   "cell_type": "code",
   "execution_count": 57,
   "id": "6de3ee93",
   "metadata": {},
   "outputs": [],
   "source": [
    "d = np.matrix([\n",
    "        [90, 30, 45, 0, 120, 180],\n",
    "        [45, -90, -30, 270, 90, 0],\n",
    "        [60, 45, -45, 90, -45, 180]\n",
    "    ])"
   ]
  },
  {
   "cell_type": "markdown",
   "id": "22501560",
   "metadata": {},
   "source": [
    "- Exercise 1 - Find the sine of all the numbers in d"
   ]
  },
  {
   "cell_type": "code",
   "execution_count": 59,
   "id": "be7df0c9",
   "metadata": {},
   "outputs": [
    {
     "data": {
      "text/plain": [
       "matrix([[ 0.89399666, -0.98803162,  0.85090352,  0.        ,  0.58061118,\n",
       "         -0.80115264],\n",
       "        [ 0.85090352, -0.89399666,  0.98803162, -0.17604595,  0.89399666,\n",
       "          0.        ],\n",
       "        [-0.30481062,  0.85090352, -0.85090352,  0.89399666, -0.85090352,\n",
       "         -0.80115264]])"
      ]
     },
     "execution_count": 59,
     "metadata": {},
     "output_type": "execute_result"
    }
   ],
   "source": [
    "np.sin(d)"
   ]
  },
  {
   "cell_type": "markdown",
   "id": "3a521b0f",
   "metadata": {},
   "source": [
    "- Exercise 2 - Find the cosine of all the numbers in d"
   ]
  },
  {
   "cell_type": "code",
   "execution_count": 61,
   "id": "7bec7625",
   "metadata": {},
   "outputs": [
    {
     "data": {
      "text/plain": [
       "matrix([[-0.44807362,  0.15425145,  0.52532199,  1.        ,  0.81418097,\n",
       "         -0.59846007],\n",
       "        [ 0.52532199, -0.44807362,  0.15425145,  0.98438195, -0.44807362,\n",
       "          1.        ],\n",
       "        [-0.95241298,  0.52532199,  0.52532199, -0.44807362,  0.52532199,\n",
       "         -0.59846007]])"
      ]
     },
     "execution_count": 61,
     "metadata": {},
     "output_type": "execute_result"
    }
   ],
   "source": [
    "np.cos(d)"
   ]
  },
  {
   "cell_type": "markdown",
   "id": "c6331714",
   "metadata": {},
   "source": [
    "- Exercise 3 - Find the tangent of all the numbers in d"
   ]
  },
  {
   "cell_type": "code",
   "execution_count": 62,
   "id": "06442259",
   "metadata": {},
   "outputs": [
    {
     "data": {
      "text/plain": [
       "matrix([[-1.99520041, -6.4053312 ,  1.61977519,  0.        ,  0.71312301,\n",
       "          1.33869021],\n",
       "        [ 1.61977519,  1.99520041,  6.4053312 , -0.17883906, -1.99520041,\n",
       "          0.        ],\n",
       "        [ 0.32004039,  1.61977519, -1.61977519, -1.99520041, -1.61977519,\n",
       "          1.33869021]])"
      ]
     },
     "execution_count": 62,
     "metadata": {},
     "output_type": "execute_result"
    }
   ],
   "source": [
    "np.tan(d)"
   ]
  },
  {
   "cell_type": "markdown",
   "id": "6e24a354",
   "metadata": {},
   "source": [
    "- Exercise 4 - Find all the negative numbers in d"
   ]
  },
  {
   "cell_type": "code",
   "execution_count": 63,
   "id": "aad53825",
   "metadata": {},
   "outputs": [
    {
     "data": {
      "text/plain": [
       "matrix([[-90, -30, -45, -45]])"
      ]
     },
     "execution_count": 63,
     "metadata": {},
     "output_type": "execute_result"
    }
   ],
   "source": [
    "d[d<0]"
   ]
  },
  {
   "cell_type": "markdown",
   "id": "3bba6876",
   "metadata": {},
   "source": [
    "- Exercise 5 - Find all the positive numbers in d\n"
   ]
  },
  {
   "cell_type": "code",
   "execution_count": 64,
   "id": "0fbf60a3",
   "metadata": {},
   "outputs": [
    {
     "data": {
      "text/plain": [
       "matrix([[ 90,  30,  45, 120, 180,  45, 270,  90,  60,  45,  90, 180]])"
      ]
     },
     "execution_count": 64,
     "metadata": {},
     "output_type": "execute_result"
    }
   ],
   "source": [
    "d[d>0]"
   ]
  },
  {
   "cell_type": "markdown",
   "id": "c0af14c6",
   "metadata": {},
   "source": [
    "- Exercise 6 - Return an array of only the unique numbers in d."
   ]
  },
  {
   "cell_type": "code",
   "execution_count": 65,
   "id": "422c32f0",
   "metadata": {},
   "outputs": [
    {
     "data": {
      "text/plain": [
       "matrix([[-90, -45, -45, -30,   0,   0,  30,  45,  45,  45,  60,  90,  90,\n",
       "          90, 120, 180, 180, 270]])"
      ]
     },
     "execution_count": 65,
     "metadata": {},
     "output_type": "execute_result"
    }
   ],
   "source": [
    "np.unique(d)"
   ]
  },
  {
   "cell_type": "markdown",
   "id": "ee25d797",
   "metadata": {},
   "source": [
    "- Exercise 7 - Determine how many unique numbers there are in d."
   ]
  },
  {
   "cell_type": "code",
   "execution_count": 68,
   "id": "3115979e",
   "metadata": {},
   "outputs": [
    {
     "data": {
      "text/plain": [
       "(1, 18)"
      ]
     },
     "execution_count": 68,
     "metadata": {},
     "output_type": "execute_result"
    }
   ],
   "source": [
    "np.shape(np.unique(d))"
   ]
  },
  {
   "cell_type": "markdown",
   "id": "ebbb5203",
   "metadata": {},
   "source": [
    "- Exercise 8 - Print out the shape of d."
   ]
  },
  {
   "cell_type": "code",
   "execution_count": 70,
   "id": "523b1527",
   "metadata": {},
   "outputs": [
    {
     "data": {
      "text/plain": [
       "(3, 6)"
      ]
     },
     "execution_count": 70,
     "metadata": {},
     "output_type": "execute_result"
    }
   ],
   "source": [
    "np.shape(d)"
   ]
  },
  {
   "cell_type": "markdown",
   "id": "d97129c8",
   "metadata": {},
   "source": [
    "- Exercise 9 - Transpose and then print out the shape of d."
   ]
  },
  {
   "cell_type": "code",
   "execution_count": 71,
   "id": "5295091b",
   "metadata": {},
   "outputs": [
    {
     "data": {
      "text/plain": [
       "(6, 3)"
      ]
     },
     "execution_count": 71,
     "metadata": {},
     "output_type": "execute_result"
    }
   ],
   "source": [
    "np.shape(np.transpose(d))"
   ]
  },
  {
   "cell_type": "markdown",
   "id": "20e96f8a",
   "metadata": {},
   "source": [
    "- Exercise 10 - Reshape d into an array of 9 x 2"
   ]
  },
  {
   "cell_type": "code",
   "execution_count": 72,
   "id": "688c5392",
   "metadata": {},
   "outputs": [
    {
     "data": {
      "text/plain": [
       "matrix([[ 90,  30],\n",
       "        [ 45,   0],\n",
       "        [120, 180],\n",
       "        [ 45, -90],\n",
       "        [-30, 270],\n",
       "        [ 90,   0],\n",
       "        [ 60,  45],\n",
       "        [-45,  90],\n",
       "        [-45, 180]])"
      ]
     },
     "execution_count": 72,
     "metadata": {},
     "output_type": "execute_result"
    }
   ],
   "source": [
    "np.reshape(d, (9,2))"
   ]
  },
  {
   "cell_type": "markdown",
   "id": "d792f2c4",
   "metadata": {},
   "source": [
    "<strong> Awesome Bonus </strong>\n",
    "For much more practice with numpy, Go to <code>https://github.com/rougier/numpy-100</code> and clone the repo down to your laptop. Next, go to <code>https://github.com/new</code> to make a new repo. Name it <code>numpy-100</code>, and follow the directions to \"push an existing repository from the command line\" so that you can push up your changes to your own account.</p>"
   ]
  },
  {
   "cell_type": "code",
   "execution_count": null,
   "id": "2458867a",
   "metadata": {},
   "outputs": [],
   "source": []
  },
  {
   "cell_type": "code",
   "execution_count": null,
   "id": "fbc8fd51",
   "metadata": {},
   "outputs": [],
   "source": []
  }
 ],
 "metadata": {
  "kernelspec": {
   "display_name": "Python 3",
   "language": "python",
   "name": "python3"
  },
  "language_info": {
   "codemirror_mode": {
    "name": "ipython",
    "version": 3
   },
   "file_extension": ".py",
   "mimetype": "text/x-python",
   "name": "python",
   "nbconvert_exporter": "python",
   "pygments_lexer": "ipython3",
   "version": "3.8.8"
  }
 },
 "nbformat": 4,
 "nbformat_minor": 5
}
