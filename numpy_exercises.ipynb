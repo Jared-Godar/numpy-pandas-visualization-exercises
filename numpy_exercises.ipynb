{
 "cells": [
  {
   "cell_type": "markdown",
   "id": "6e247854",
   "metadata": {},
   "source": [
    "<h2 id=\"exercises\">Exercises</h2>\n",
    "<p>In your <code>numpy-pandas-visualization-exercises</code> repo, create a file named <code>numpy_exercises.py</code> for this exercise.</p>\n",
    "<p>Use the following code for the questions below:</p>\n",
    "<div class=\"highlight\"><pre><span></span>a = np.array([4, 10, 12, 23, -2, -1, 0, 0, 0, -6, 3, -7])\n",
    "</pre></div>\n",
    "\n",
    "<ol>\n",
    "<li>\n",
    "<p>How many negative numbers are there?</p>\n",
    "</li>\n",
    "<li>\n",
    "<p>How many positive numbers are there?</p>\n",
    "</li>\n",
    "<li>\n",
    "<p>How many even positive numbers are there?</p>\n",
    "</li>\n",
    "<li>\n",
    "<p>If you were to add 3 to each data point, how many positive numbers would\n",
    "   there be?</p>\n",
    "</li>\n",
    "<li>\n",
    "<p>If you squared each number, what would the new mean and standard deviation\n",
    "   be?</p>\n",
    "</li>\n",
    "<li>\n",
    "<p>A common statistical operation on a dataset is <strong>centering</strong>. This means to\n",
    "   adjust the data such that the mean of the data is 0. This is done by\n",
    "   subtracting the mean from each data point. Center the data set. See <a href=\"https://www.theanalysisfactor.com/centering-and-standardizing-predictors/\">this link</a> for more on centering.</p>\n",
    "</li>\n",
    "<li>\n",
    "<p>Calculate the z-score for each data point. Recall that the z-score is given\n",
    "   by:</p>\n",
    "<div>\n",
    "<div class=\"MathJax_Preview\">\n",
    "Z = \\frac{x - \\mu}{\\sigma}\n",
    "</div>\n",
    "<script type=\"math/tex; mode=display\">\n",
    "Z = \\frac{x - \\mu}{\\sigma}\n",
    "</script>\n",
    "</div>\n",
    "</li>\n",
    "<li>\n",
    "<p>Copy the setup and exercise directions from <a href=\"https://gist.github.com/ryanorsinger/c4cf5a64ec33c014ff2e56951bc8a42d\">More Numpy Practice</a> into your <code>numpy_exercises.py</code> and add your solutions.</p>\n",
    "</li>\n",
    "</ol>\n",
    "<p><strong> Awesome Bonus </strong>\n",
    "For much more practice with numpy, Go to <code>https://github.com/rougier/numpy-100</code> and clone the repo down to your laptop. Next, go to <code>https://github.com/new</code> to make a new repo. Name it <code>numpy-100</code>, and follow the directions to \"push an existing repository from the command line\" so that you can push up your changes to your own account.</p>\n",
    "                \n",
    "                  \n",
    "                \n",
    "              "
   ]
  },
  {
   "cell_type": "code",
   "execution_count": 2,
   "id": "14ec3cfc",
   "metadata": {},
   "outputs": [],
   "source": [
    "import numpy as np\n",
    "a = np.array([4, 10, 12, 23, -2, -1, 0, 0, 0, -6, 3, -7])"
   ]
  },
  {
   "cell_type": "markdown",
   "id": "28309722",
   "metadata": {},
   "source": [
    "1. How many negative numbers are there?\n"
   ]
  },
  {
   "cell_type": "code",
   "execution_count": null,
   "id": "4db23e8f",
   "metadata": {},
   "outputs": [],
   "source": [
    "1. How many negative numbers are there"
   ]
  },
  {
   "cell_type": "code",
   "execution_count": 8,
   "id": "ac5fbf3f",
   "metadata": {},
   "outputs": [
    {
     "data": {
      "text/plain": [
       "array([-2, -1, -6, -7])"
      ]
     },
     "execution_count": 8,
     "metadata": {},
     "output_type": "execute_result"
    }
   ],
   "source": [
    "a[a<0]"
   ]
  },
  {
   "cell_type": "code",
   "execution_count": 15,
   "id": "ca155307",
   "metadata": {},
   "outputs": [
    {
     "data": {
      "text/plain": [
       "4"
      ]
     },
     "execution_count": 15,
     "metadata": {},
     "output_type": "execute_result"
    }
   ],
   "source": [
    "len(a[a<0])"
   ]
  },
  {
   "cell_type": "markdown",
   "id": "4f885a88",
   "metadata": {},
   "source": [
    "2. How many positive numbers are there?"
   ]
  },
  {
   "cell_type": "code",
   "execution_count": 10,
   "id": "2fbed1d7",
   "metadata": {},
   "outputs": [
    {
     "data": {
      "text/plain": [
       "array([ 4, 10, 12, 23,  3])"
      ]
     },
     "execution_count": 10,
     "metadata": {},
     "output_type": "execute_result"
    }
   ],
   "source": [
    "a[a>0]"
   ]
  },
  {
   "cell_type": "code",
   "execution_count": 16,
   "id": "d361f735",
   "metadata": {},
   "outputs": [
    {
     "data": {
      "text/plain": [
       "4"
      ]
     },
     "execution_count": 16,
     "metadata": {},
     "output_type": "execute_result"
    }
   ],
   "source": [
    "len(a[a<0])"
   ]
  },
  {
   "cell_type": "markdown",
   "id": "78ac92dd",
   "metadata": {},
   "source": [
    "3. How many even positive numbers are there?"
   ]
  },
  {
   "cell_type": "code",
   "execution_count": 11,
   "id": "a7a1b016",
   "metadata": {},
   "outputs": [
    {
     "data": {
      "text/plain": [
       "array([ 4, 10, 12])"
      ]
     },
     "execution_count": 11,
     "metadata": {},
     "output_type": "execute_result"
    }
   ],
   "source": [
    "a[(a > 0) & (a % 2 ==0)]"
   ]
  },
  {
   "cell_type": "code",
   "execution_count": 17,
   "id": "5821aa22",
   "metadata": {},
   "outputs": [
    {
     "data": {
      "text/plain": [
       "3"
      ]
     },
     "execution_count": 17,
     "metadata": {},
     "output_type": "execute_result"
    }
   ],
   "source": [
    "len(a[(a > 0) & (a % 2 ==0)])"
   ]
  },
  {
   "cell_type": "markdown",
   "id": "13fefba8",
   "metadata": {},
   "source": [
    "4. If you were to add 3 to each data point, how many positive numbers would there be?"
   ]
  },
  {
   "cell_type": "code",
   "execution_count": 12,
   "id": "63c3dc8d",
   "metadata": {},
   "outputs": [
    {
     "data": {
      "text/plain": [
       "array([ 7, 13, 15, 26,  1,  2,  3,  3,  3,  6])"
      ]
     },
     "execution_count": 12,
     "metadata": {},
     "output_type": "execute_result"
    }
   ],
   "source": [
    "b=a+3\n",
    "b[b>0]"
   ]
  },
  {
   "cell_type": "code",
   "execution_count": 18,
   "id": "6afa85f5",
   "metadata": {},
   "outputs": [
    {
     "data": {
      "text/plain": [
       "10"
      ]
     },
     "execution_count": 18,
     "metadata": {},
     "output_type": "execute_result"
    }
   ],
   "source": [
    "len(b[b>0])"
   ]
  },
  {
   "cell_type": "markdown",
   "id": "71c1ad0d",
   "metadata": {},
   "source": [
    "5. If you squared each number, what would the new mean and standard deviation be?"
   ]
  },
  {
   "cell_type": "code",
   "execution_count": 14,
   "id": "dd395ce0",
   "metadata": {},
   "outputs": [
    {
     "data": {
      "text/plain": [
       "(74.0, 144.0243035046516)"
      ]
     },
     "execution_count": 14,
     "metadata": {},
     "output_type": "execute_result"
    }
   ],
   "source": [
    "c = a **2\n",
    "c.mean(), c.std()"
   ]
  },
  {
   "cell_type": "code",
   "execution_count": null,
   "id": "6e94848d",
   "metadata": {},
   "outputs": [],
   "source": []
  },
  {
   "cell_type": "markdown",
   "id": "b630d7b8",
   "metadata": {},
   "source": [
    "6. A common statistical operation on a dataset is <strong>centering</strong>. This means to\n",
    "   adjust the data such that the mean of the data is 0. This is done by\n",
    "   subtracting the mean from each data point. Center the data set. See <a href=\"https://www.theanalysisfactor.com/centering-and-standardizing-predictors/\">this link</a> for more on centering."
   ]
  },
  {
   "cell_type": "code",
   "execution_count": null,
   "id": "351182a6",
   "metadata": {},
   "outputs": [],
   "source": []
  },
  {
   "cell_type": "code",
   "execution_count": null,
   "id": "fed85e4a",
   "metadata": {},
   "outputs": [],
   "source": []
  },
  {
   "cell_type": "markdown",
   "id": "520cbe24",
   "metadata": {},
   "source": [
    "7. Calculate the z-score for each data point. Recall that the z-score is given\n",
    "   by:</p>\n",
    "<div>\n",
    "<div class=\"MathJax_Preview\">\n",
    "Z = \\frac{x - \\mu}{\\sigma}\n",
    "</div>\n",
    "<script type=\"math/tex; mode=display\">\n",
    "Z = \\frac{x - \\mu}{\\sigma}\n",
    "</script>\n",
    "</div>\n",
    "</li>"
   ]
  },
  {
   "cell_type": "code",
   "execution_count": null,
   "id": "97bbd905",
   "metadata": {},
   "outputs": [],
   "source": []
  },
  {
   "cell_type": "code",
   "execution_count": null,
   "id": "d9a746dd",
   "metadata": {},
   "outputs": [],
   "source": []
  },
  {
   "cell_type": "markdown",
   "id": "8fdc5b19",
   "metadata": {},
   "source": [
    "8. <p>Copy the setup and exercise directions from <a href=\"https://gist.github.com/ryanorsinger/c4cf5a64ec33c014ff2e56951bc8a42d\">More Numpy Practice</a> into your <code>numpy_exercises.py</code> and add your solutions.</p>"
   ]
  },
  {
   "cell_type": "code",
   "execution_count": null,
   "id": "d9382627",
   "metadata": {},
   "outputs": [],
   "source": []
  },
  {
   "cell_type": "code",
   "execution_count": null,
   "id": "60af9b3b",
   "metadata": {},
   "outputs": [],
   "source": []
  },
  {
   "cell_type": "markdown",
   "id": "d792f2c4",
   "metadata": {},
   "source": [
    "<strong> Awesome Bonus </strong>\n",
    "For much more practice with numpy, Go to <code>https://github.com/rougier/numpy-100</code> and clone the repo down to your laptop. Next, go to <code>https://github.com/new</code> to make a new repo. Name it <code>numpy-100</code>, and follow the directions to \"push an existing repository from the command line\" so that you can push up your changes to your own account.</p>"
   ]
  },
  {
   "cell_type": "code",
   "execution_count": null,
   "id": "2458867a",
   "metadata": {},
   "outputs": [],
   "source": []
  },
  {
   "cell_type": "code",
   "execution_count": null,
   "id": "fbc8fd51",
   "metadata": {},
   "outputs": [],
   "source": []
  }
 ],
 "metadata": {
  "kernelspec": {
   "display_name": "Python 3",
   "language": "python",
   "name": "python3"
  },
  "language_info": {
   "codemirror_mode": {
    "name": "ipython",
    "version": 3
   },
   "file_extension": ".py",
   "mimetype": "text/x-python",
   "name": "python",
   "nbconvert_exporter": "python",
   "pygments_lexer": "ipython3",
   "version": "3.8.8"
  }
 },
 "nbformat": 4,
 "nbformat_minor": 5
}
