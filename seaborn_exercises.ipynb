{
 "cells": [
  {
   "cell_type": "markdown",
   "id": "ae248330",
   "metadata": {},
   "source": [
    "<h2 id=\"exercises\">Exercises</h2>\n",
    "<p>Create a file named <code>seaborn_exercises.py</code> or <code>seaborn_exercises.ipynb</code> for this exercise.</p>"
   ]
  },
  {
   "cell_type": "code",
   "execution_count": null,
   "id": "d54eb6b4",
   "metadata": {},
   "outputs": [],
   "source": []
  },
  {
   "cell_type": "code",
   "execution_count": null,
   "id": "2085f3fc",
   "metadata": {},
   "outputs": [],
   "source": []
  },
  {
   "cell_type": "markdown",
   "id": "d91e43fd",
   "metadata": {},
   "source": [
    "<p>Use the <code>iris</code> database to answer the following quesitons:</p>\n",
    "<ol>\n",
    "<li>What does the distribution of petal lengths look like?</li>"
   ]
  },
  {
   "cell_type": "code",
   "execution_count": null,
   "id": "4d4fbbd8",
   "metadata": {},
   "outputs": [],
   "source": []
  },
  {
   "cell_type": "markdown",
   "id": "b9fe5704",
   "metadata": {},
   "source": [
    "2. Is there a correlation between petal length and petal width?"
   ]
  },
  {
   "cell_type": "code",
   "execution_count": null,
   "id": "0206d3ec",
   "metadata": {},
   "outputs": [],
   "source": []
  },
  {
   "cell_type": "markdown",
   "id": "3614dfbc",
   "metadata": {},
   "source": [
    "3. Would it be reasonable to predict species based on sepal width and sepal length?"
   ]
  },
  {
   "cell_type": "code",
   "execution_count": null,
   "id": "92fa371c",
   "metadata": {},
   "outputs": [],
   "source": []
  },
  {
   "cell_type": "markdown",
   "id": "b3869f34",
   "metadata": {},
   "source": [
    "3. Which features would be best used to predict species?"
   ]
  },
  {
   "cell_type": "code",
   "execution_count": null,
   "id": "e3835dab",
   "metadata": {},
   "outputs": [],
   "source": []
  },
  {
   "cell_type": "markdown",
   "id": "562f30ba",
   "metadata": {},
   "source": [
    "---"
   ]
  },
  {
   "cell_type": "markdown",
   "id": "47038b62",
   "metadata": {},
   "source": [
    "1. <p>Using the lesson as an example, use seaborn's <code>load_dataset</code> function to load the <code>anscombe</code> data set. Use pandas to group the data by the <code>dataset</code> column, and calculate summary statistics for each dataset. What do you notice?</p>\n",
    "<p>Plot the x and y values from the <code>anscombe</code> data. Each dataset should be in a separate column.</p>\n",
    "</li>\n"
   ]
  },
  {
   "cell_type": "code",
   "execution_count": null,
   "id": "6ecb8809",
   "metadata": {},
   "outputs": [],
   "source": []
  },
  {
   "cell_type": "markdown",
   "id": "a17a9341",
   "metadata": {},
   "source": [
    "2. <p>Load the <code>InsectSprays</code> dataset and read it's documentation. Create a boxplot that shows the effectiveness of the different insect sprays.</p>"
   ]
  },
  {
   "cell_type": "code",
   "execution_count": null,
   "id": "2abd35c5",
   "metadata": {},
   "outputs": [],
   "source": []
  },
  {
   "cell_type": "markdown",
   "id": "252c0b87",
   "metadata": {},
   "source": [
    "3. <p>Load the <code>swiss</code> dataset and read it's documentation. The <code>swiss</code> dataset is available from <code>pydatset</code> rather than seaborn. Create visualizations to answer the following questions:</p>"
   ]
  },
  {
   "cell_type": "code",
   "execution_count": null,
   "id": "d37e4d76",
   "metadata": {},
   "outputs": [],
   "source": []
  },
  {
   "cell_type": "markdown",
   "id": "e23327f1",
   "metadata": {},
   "source": [
    "<li>Create an attribute named <code>is_catholic</code> that holds a boolean value of whether or not the province is Catholic. (Choose a cutoff point for what constitutes catholic)</li>"
   ]
  },
  {
   "cell_type": "code",
   "execution_count": null,
   "id": "21bc18c6",
   "metadata": {},
   "outputs": [],
   "source": []
  },
  {
   "cell_type": "markdown",
   "id": "e0bee19f",
   "metadata": {},
   "source": [
    "<li>Does whether or not a province is Catholic influence fertility?</li>"
   ]
  },
  {
   "cell_type": "code",
   "execution_count": null,
   "id": "8e1138f5",
   "metadata": {},
   "outputs": [],
   "source": []
  },
  {
   "cell_type": "markdown",
   "id": "b2132103",
   "metadata": {},
   "source": [
    "<li>What measure correlates most strongly with fertility?</li>"
   ]
  },
  {
   "cell_type": "code",
   "execution_count": null,
   "id": "03ed301d",
   "metadata": {},
   "outputs": [],
   "source": []
  },
  {
   "cell_type": "markdown",
   "id": "311c32ad",
   "metadata": {},
   "source": [
    "4. <p>Using the chipotle dataset from the previous exercise, create a bar chart that shows the 4 most popular items and the revenue produced by each.</p>"
   ]
  },
  {
   "cell_type": "code",
   "execution_count": null,
   "id": "12f514e4",
   "metadata": {},
   "outputs": [],
   "source": []
  },
  {
   "cell_type": "markdown",
   "id": "2a1d48b3",
   "metadata": {},
   "source": [
    "5. <p>Load the <code>sleepstudy</code> data and read it's documentation. Use seaborn to create a line chart of all the individual subject's reaction times and a more prominant line showing the average change in reaction time.</p>\n"
   ]
  },
  {
   "cell_type": "code",
   "execution_count": null,
   "id": "da07e6d8",
   "metadata": {},
   "outputs": [],
   "source": []
  },
  {
   "cell_type": "code",
   "execution_count": null,
   "id": "53d66362",
   "metadata": {},
   "outputs": [],
   "source": []
  },
  {
   "cell_type": "code",
   "execution_count": null,
   "id": "d9c74110",
   "metadata": {},
   "outputs": [],
   "source": []
  }
 ],
 "metadata": {
  "kernelspec": {
   "display_name": "Python 3",
   "language": "python",
   "name": "python3"
  },
  "language_info": {
   "codemirror_mode": {
    "name": "ipython",
    "version": 3
   },
   "file_extension": ".py",
   "mimetype": "text/x-python",
   "name": "python",
   "nbconvert_exporter": "python",
   "pygments_lexer": "ipython3",
   "version": "3.8.8"
  }
 },
 "nbformat": 4,
 "nbformat_minor": 5
}
