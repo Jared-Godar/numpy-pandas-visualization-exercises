{
 "cells": [
  {
   "cell_type": "markdown",
   "id": "71505ccc",
   "metadata": {},
   "source": [
    "<h2 id=\"exercises-part-i\">Exercises Part I</h2>\n",
    "<p>Make a file named <code>pandas_series.py</code> or <code>pandas_series.ipynb</code> for the following exercises.</p>\n",
    "<p>Use pandas to create a Series named fruits from the following list:</p>\n",
    "<pre><code>    [\"kiwi\", \"mango\", \"strawberry\", \"pineapple\", \"gala apple\", \"honeycrisp apple\", \"tomato\", \"watermelon\", \"honeydew\", \"kiwi\", \"kiwi\", \"kiwi\", \"mango\", \"blueberry\", \"blackberry\", \"gooseberry\", \"papaya\"]\n",
    "</code></pre>\n",
    "<p>Use Series attributes and methods to explore your fruits Series.</p>\n",
    "<ol>\n",
    "<li>\n",
    "<p>Determine the number of elements in fruits.</p>\n",
    "</li>\n",
    "<li>\n",
    "<p>Output only the index from fruits.</p>\n",
    "</li>\n",
    "<li>\n",
    "<p>Output only the values from fruits.</p>\n",
    "</li>\n",
    "<li>\n",
    "<p>Confirm the data type of the values in fruits.</p>\n",
    "</li>\n",
    "<li>\n",
    "<p>Output only the first five values from fruits. Output the last three values. Output two random values from fruits.</p>\n",
    "</li>\n",
    "<li>\n",
    "<p>Run the <code>.describe()</code> on fruits to see what information it returns when called on a  Series with string values.</p>\n",
    "</li>\n",
    "<li>\n",
    "<p>Run the code necessary to produce only the unique string values from fruits.</p>\n",
    "</li>\n",
    "<li>\n",
    "<p>Determine how many times each unique string value occurs in fruits.</p>\n",
    "</li>\n",
    "<li>\n",
    "<p>Determine the string value that occurs most frequently in fruits.</p>\n",
    "</li>\n",
    "<li>\n",
    "<p>Determine the string value that occurs least frequently in fruits.</p>\n",
    "</li>"
   ]
  },
  {
   "cell_type": "code",
   "execution_count": 1,
   "id": "3e0bcb93",
   "metadata": {},
   "outputs": [],
   "source": [
    "import numpy as np\n",
    "import pandas as pd\n",
    "import matplotlib.pyplot as plt\n",
    "\n",
    "plt.rc('figure')"
   ]
  },
  {
   "cell_type": "code",
   "execution_count": 3,
   "id": "7c222a0d",
   "metadata": {},
   "outputs": [
    {
     "data": {
      "text/plain": [
       "0                 kiwi\n",
       "1                mango\n",
       "2           strawberry\n",
       "3            pineapple\n",
       "4           gala apple\n",
       "5     honeycrisp apple\n",
       "6               tomato\n",
       "7           watermelon\n",
       "8             honeydew\n",
       "9                 kiwi\n",
       "10                kiwi\n",
       "11                kiwi\n",
       "12               mango\n",
       "13           blueberry\n",
       "14          blackberry\n",
       "15          gooseberry\n",
       "16              papaya\n",
       "dtype: object"
      ]
     },
     "execution_count": 3,
     "metadata": {},
     "output_type": "execute_result"
    }
   ],
   "source": [
    "fruits = pd.Series([\"kiwi\", \"mango\", \"strawberry\", \"pineapple\", \"gala apple\", \"honeycrisp apple\", \"tomato\", \"watermelon\", \"honeydew\", \"kiwi\", \"kiwi\", \"kiwi\", \"mango\", \"blueberry\", \"blackberry\", \"gooseberry\", \"papaya\"])\n",
    "fruits"
   ]
  },
  {
   "cell_type": "code",
   "execution_count": 4,
   "id": "3c26c0fc",
   "metadata": {},
   "outputs": [
    {
     "data": {
      "text/plain": [
       "17"
      ]
     },
     "execution_count": 4,
     "metadata": {},
     "output_type": "execute_result"
    }
   ],
   "source": [
    "# 1. Determine the number of elements in fruits.\n",
    "\n",
    "fruits.size"
   ]
  },
  {
   "cell_type": "code",
   "execution_count": 6,
   "id": "c492503d",
   "metadata": {},
   "outputs": [
    {
     "data": {
      "text/plain": [
       "RangeIndex(start=0, stop=17, step=1)"
      ]
     },
     "execution_count": 6,
     "metadata": {},
     "output_type": "execute_result"
    }
   ],
   "source": [
    "# 2. Output only the index from fruits.\n",
    "\n",
    "fruits.index"
   ]
  },
  {
   "cell_type": "code",
   "execution_count": 18,
   "id": "48dfede1",
   "metadata": {},
   "outputs": [
    {
     "data": {
      "text/plain": [
       "[0, 1, 2, 3, 4, 5, 6, 7, 8, 9, 10, 11, 12, 13, 14, 15, 16]"
      ]
     },
     "execution_count": 18,
     "metadata": {},
     "output_type": "execute_result"
    }
   ],
   "source": [
    "list(fruits.index)"
   ]
  },
  {
   "cell_type": "code",
   "execution_count": 7,
   "id": "f4d62839",
   "metadata": {},
   "outputs": [
    {
     "data": {
      "text/plain": [
       "array(['kiwi', 'mango', 'strawberry', 'pineapple', 'gala apple',\n",
       "       'honeycrisp apple', 'tomato', 'watermelon', 'honeydew', 'kiwi',\n",
       "       'kiwi', 'kiwi', 'mango', 'blueberry', 'blackberry', 'gooseberry',\n",
       "       'papaya'], dtype=object)"
      ]
     },
     "execution_count": 7,
     "metadata": {},
     "output_type": "execute_result"
    }
   ],
   "source": [
    "#3. Output only the values from fruits.\n",
    "\n",
    "fruits.values"
   ]
  },
  {
   "cell_type": "code",
   "execution_count": 8,
   "id": "50d166a7",
   "metadata": {},
   "outputs": [
    {
     "data": {
      "text/plain": [
       "dtype('O')"
      ]
     },
     "execution_count": 8,
     "metadata": {},
     "output_type": "execute_result"
    }
   ],
   "source": [
    "# 4. Confirm the data type of the values in fruits.\n",
    "fruits.dtype"
   ]
  },
  {
   "cell_type": "code",
   "execution_count": 11,
   "id": "fd74ef24",
   "metadata": {},
   "outputs": [
    {
     "data": {
      "text/plain": [
       "10    kiwi\n",
       "0     kiwi\n",
       "dtype: object"
      ]
     },
     "execution_count": 11,
     "metadata": {},
     "output_type": "execute_result"
    }
   ],
   "source": [
    "#5. Output only the first five values from fruits. \n",
    "\n",
    "fruits.head(5)\n",
    "\n",
    "# Output the last three values. \n",
    "\n",
    "fruits.tail(3)\n",
    "\n",
    "#Output two random values from fruits.\n",
    "\n",
    "fruits.sample(2)"
   ]
  },
  {
   "cell_type": "code",
   "execution_count": 12,
   "id": "0f74a519",
   "metadata": {},
   "outputs": [
    {
     "data": {
      "text/plain": [
       "count       17\n",
       "unique      13\n",
       "top       kiwi\n",
       "freq         4\n",
       "dtype: object"
      ]
     },
     "execution_count": 12,
     "metadata": {},
     "output_type": "execute_result"
    }
   ],
   "source": [
    "#6 Run the .describe() on fruits to see what information it returns when called on a Series with string values.\n",
    "\n",
    "fruits.describe()"
   ]
  },
  {
   "cell_type": "code",
   "execution_count": 13,
   "id": "b78e1b2e",
   "metadata": {},
   "outputs": [
    {
     "data": {
      "text/plain": [
       "kiwi                4\n",
       "mango               2\n",
       "honeycrisp apple    1\n",
       "honeydew            1\n",
       "strawberry          1\n",
       "papaya              1\n",
       "gala apple          1\n",
       "pineapple           1\n",
       "blueberry           1\n",
       "tomato              1\n",
       "watermelon          1\n",
       "gooseberry          1\n",
       "blackberry          1\n",
       "dtype: int64"
      ]
     },
     "execution_count": 13,
     "metadata": {},
     "output_type": "execute_result"
    }
   ],
   "source": [
    "#7. Run the code necessary to produce only the unique string values from fruits.\n",
    "#8. Determine how many times each unique string value occurs in fruits.\n",
    "#9. Determine the string value that occurs most frequently in fruits.\n",
    "#10.Determine the string value that occurs least frequently in fruits.\n",
    "\n",
    "fruits.value_counts()"
   ]
  },
  {
   "cell_type": "code",
   "execution_count": 21,
   "id": "264b2ee6",
   "metadata": {},
   "outputs": [
    {
     "data": {
      "text/plain": [
       "array(['kiwi', 'mango', 'strawberry', 'pineapple', 'gala apple',\n",
       "       'honeycrisp apple', 'tomato', 'watermelon', 'honeydew',\n",
       "       'blueberry', 'blackberry', 'gooseberry', 'papaya'], dtype=object)"
      ]
     },
     "execution_count": 21,
     "metadata": {},
     "output_type": "execute_result"
    }
   ],
   "source": [
    "fruits.unique()"
   ]
  },
  {
   "cell_type": "code",
   "execution_count": 22,
   "id": "9ef1c88a",
   "metadata": {},
   "outputs": [
    {
     "data": {
      "text/plain": [
       "13"
      ]
     },
     "execution_count": 22,
     "metadata": {},
     "output_type": "execute_result"
    }
   ],
   "source": [
    "fruits.nunique()"
   ]
  },
  {
   "cell_type": "code",
   "execution_count": 23,
   "id": "d767928f",
   "metadata": {},
   "outputs": [
    {
     "data": {
      "text/plain": [
       "kiwi                4\n",
       "mango               2\n",
       "honeycrisp apple    1\n",
       "honeydew            1\n",
       "strawberry          1\n",
       "papaya              1\n",
       "gala apple          1\n",
       "pineapple           1\n",
       "blueberry           1\n",
       "tomato              1\n",
       "watermelon          1\n",
       "gooseberry          1\n",
       "blackberry          1\n",
       "dtype: int64"
      ]
     },
     "execution_count": 23,
     "metadata": {},
     "output_type": "execute_result"
    }
   ],
   "source": [
    "# 8. Determine how many times each unique string value occurs in fruits.\n",
    "\n",
    "fruits.value_counts()\n"
   ]
  },
  {
   "cell_type": "code",
   "execution_count": 24,
   "id": "699a9f90",
   "metadata": {},
   "outputs": [
    {
     "data": {
      "text/plain": [
       "kiwi    4\n",
       "dtype: int64"
      ]
     },
     "execution_count": 24,
     "metadata": {},
     "output_type": "execute_result"
    }
   ],
   "source": [
    "#9. Determine the string value that occurs most frequently in fruits.\n",
    "\n",
    "fruits.value_counts().head(1)\n"
   ]
  },
  {
   "cell_type": "code",
   "execution_count": 26,
   "id": "83ec4be8",
   "metadata": {},
   "outputs": [
    {
     "data": {
      "text/plain": [
       "'kiwi'"
      ]
     },
     "execution_count": 26,
     "metadata": {},
     "output_type": "execute_result"
    }
   ],
   "source": [
    "#index of max value\n",
    "fruits.value_counts().idxmax()"
   ]
  },
  {
   "cell_type": "code",
   "execution_count": 30,
   "id": "1f84802b",
   "metadata": {},
   "outputs": [
    {
     "data": {
      "text/plain": [
       "kiwi    4\n",
       "dtype: int64"
      ]
     },
     "execution_count": 30,
     "metadata": {},
     "output_type": "execute_result"
    }
   ],
   "source": [
    "# What if multiple tied max?\n",
    "\n",
    "fruits.value_counts().nlargest(n = 1, keep = 'all')"
   ]
  },
  {
   "cell_type": "code",
   "execution_count": null,
   "id": "4f02a12d",
   "metadata": {},
   "outputs": [],
   "source": []
  },
  {
   "cell_type": "code",
   "execution_count": 25,
   "id": "20a90ab6",
   "metadata": {},
   "outputs": [
    {
     "data": {
      "text/plain": [
       "blackberry    1\n",
       "dtype: int64"
      ]
     },
     "execution_count": 25,
     "metadata": {},
     "output_type": "execute_result"
    }
   ],
   "source": [
    "#10.Determine the string value that occurs least frequently in fruits.\n",
    "\n",
    "fruits.value_counts().tail(1)\n",
    "\n",
    "\n"
   ]
  },
  {
   "cell_type": "code",
   "execution_count": 31,
   "id": "8f310dde",
   "metadata": {},
   "outputs": [
    {
     "data": {
      "text/plain": [
       "honeycrisp apple    1\n",
       "honeydew            1\n",
       "strawberry          1\n",
       "papaya              1\n",
       "gala apple          1\n",
       "pineapple           1\n",
       "blueberry           1\n",
       "tomato              1\n",
       "watermelon          1\n",
       "gooseberry          1\n",
       "blackberry          1\n",
       "dtype: int64"
      ]
     },
     "execution_count": 31,
     "metadata": {},
     "output_type": "execute_result"
    }
   ],
   "source": [
    "fruits.value_counts().nsmallest(n = 1, keep = 'all')"
   ]
  }
 ],
 "metadata": {
  "kernelspec": {
   "display_name": "Python 3",
   "language": "python",
   "name": "python3"
  },
  "language_info": {
   "codemirror_mode": {
    "name": "ipython",
    "version": 3
   },
   "file_extension": ".py",
   "mimetype": "text/x-python",
   "name": "python",
   "nbconvert_exporter": "python",
   "pygments_lexer": "ipython3",
   "version": "3.8.8"
  }
 },
 "nbformat": 4,
 "nbformat_minor": 5
}
