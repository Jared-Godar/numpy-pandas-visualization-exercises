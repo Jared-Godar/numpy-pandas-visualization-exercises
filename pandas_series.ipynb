{
 "cells": [
  {
   "cell_type": "markdown",
   "id": "8e9bf6e0",
   "metadata": {},
   "source": [
    "<h2 id=\"exercises-part-i\">Exercises Part I</h2>\n",
    "<p>Make a file named <code>pandas_series.py</code> or <code>pandas_series.ipynb</code> for the following exercises.</p>\n",
    "<p>Use pandas to create a Series named fruits from the following list:</p>\n",
    "<pre><code>    [\"kiwi\", \"mango\", \"strawberry\", \"pineapple\", \"gala apple\", \"honeycrisp apple\", \"tomato\", \"watermelon\", \"honeydew\", \"kiwi\", \"kiwi\", \"kiwi\", \"mango\", \"blueberry\", \"blackberry\", \"gooseberry\", \"papaya\"]\n",
    "</code></pre>\n",
    "<p>Use Series attributes and methods to explore your fruits Series.</p>\n",
    "<ol>\n",
    "<li>\n",
    "<p>Determine the number of elements in fruits.</p>\n",
    "</li>\n",
    "<li>\n",
    "<p>Output only the index from fruits.</p>\n",
    "</li>\n",
    "<li>\n",
    "<p>Output only the values from fruits.</p>\n",
    "</li>\n",
    "<li>\n",
    "<p>Confirm the data type of the values in fruits.</p>\n",
    "</li>\n",
    "<li>\n",
    "<p>Output only the first five values from fruits. Output the last three values. Output two random values from fruits.</p>\n",
    "</li>\n",
    "<li>\n",
    "<p>Run the <code>.describe()</code> on fruits to see what information it returns when called on a  Series with string values.</p>\n",
    "</li>\n",
    "<li>\n",
    "<p>Run the code necessary to produce only the unique string values from fruits.</p>\n",
    "</li>\n",
    "<li>\n",
    "<p>Determine how many times each unique string value occurs in fruits.</p>\n",
    "</li>\n",
    "<li>\n",
    "<p>Determine the string value that occurs most frequently in fruits.</p>\n",
    "</li>\n",
    "<li>\n",
    "<p>Determine the string value that occurs least frequently in fruits.</p>\n",
    "</li>"
   ]
  },
  {
   "cell_type": "code",
   "execution_count": 1,
   "id": "2714acac",
   "metadata": {},
   "outputs": [],
   "source": [
    "import numpy as np\n",
    "import pandas as pd\n",
    "import matplotlib.pyplot as plt\n",
    "\n",
    "plt.rc('figure')"
   ]
  },
  {
   "cell_type": "code",
   "execution_count": 2,
   "id": "e9e2c22a",
   "metadata": {},
   "outputs": [
    {
     "data": {
      "text/plain": [
       "0                 kiwi\n",
       "1                mango\n",
       "2           strawberry\n",
       "3            pineapple\n",
       "4           gala apple\n",
       "5     honeycrisp apple\n",
       "6               tomato\n",
       "7           watermelon\n",
       "8             honeydew\n",
       "9                 kiwi\n",
       "10                kiwi\n",
       "11                kiwi\n",
       "12               mango\n",
       "13           blueberry\n",
       "14          blackberry\n",
       "15          gooseberry\n",
       "16              papaya\n",
       "dtype: object"
      ]
     },
     "execution_count": 2,
     "metadata": {},
     "output_type": "execute_result"
    }
   ],
   "source": [
    "fruits = pd.Series([\"kiwi\", \"mango\", \"strawberry\", \"pineapple\", \"gala apple\", \"honeycrisp apple\", \"tomato\", \"watermelon\", \"honeydew\", \"kiwi\", \"kiwi\", \"kiwi\", \"mango\", \"blueberry\", \"blackberry\", \"gooseberry\", \"papaya\"])\n",
    "fruits"
   ]
  },
  {
   "cell_type": "code",
   "execution_count": 3,
   "id": "d4def5ca",
   "metadata": {},
   "outputs": [
    {
     "data": {
      "text/plain": [
       "17"
      ]
     },
     "execution_count": 3,
     "metadata": {},
     "output_type": "execute_result"
    }
   ],
   "source": [
    "# 1. Determine the number of elements in fruits.\n",
    "\n",
    "fruits.size"
   ]
  },
  {
   "cell_type": "code",
   "execution_count": 4,
   "id": "92b29c11",
   "metadata": {},
   "outputs": [
    {
     "data": {
      "text/plain": [
       "RangeIndex(start=0, stop=17, step=1)"
      ]
     },
     "execution_count": 4,
     "metadata": {},
     "output_type": "execute_result"
    }
   ],
   "source": [
    "# 2. Output only the index from fruits.\n",
    "\n",
    "fruits.index"
   ]
  },
  {
   "cell_type": "code",
   "execution_count": 5,
   "id": "d48bf30d",
   "metadata": {},
   "outputs": [
    {
     "data": {
      "text/plain": [
       "[0, 1, 2, 3, 4, 5, 6, 7, 8, 9, 10, 11, 12, 13, 14, 15, 16]"
      ]
     },
     "execution_count": 5,
     "metadata": {},
     "output_type": "execute_result"
    }
   ],
   "source": [
    "list(fruits.index)"
   ]
  },
  {
   "cell_type": "code",
   "execution_count": 6,
   "id": "97aa18bc",
   "metadata": {},
   "outputs": [
    {
     "data": {
      "text/plain": [
       "array(['kiwi', 'mango', 'strawberry', 'pineapple', 'gala apple',\n",
       "       'honeycrisp apple', 'tomato', 'watermelon', 'honeydew', 'kiwi',\n",
       "       'kiwi', 'kiwi', 'mango', 'blueberry', 'blackberry', 'gooseberry',\n",
       "       'papaya'], dtype=object)"
      ]
     },
     "execution_count": 6,
     "metadata": {},
     "output_type": "execute_result"
    }
   ],
   "source": [
    "#3. Output only the values from fruits.\n",
    "\n",
    "fruits.values"
   ]
  },
  {
   "cell_type": "code",
   "execution_count": 7,
   "id": "6dfb46ba",
   "metadata": {},
   "outputs": [
    {
     "data": {
      "text/plain": [
       "dtype('O')"
      ]
     },
     "execution_count": 7,
     "metadata": {},
     "output_type": "execute_result"
    }
   ],
   "source": [
    "# 4. Confirm the data type of the values in fruits.\n",
    "fruits.dtype"
   ]
  },
  {
   "cell_type": "code",
   "execution_count": 8,
   "id": "ded8f5c7",
   "metadata": {},
   "outputs": [
    {
     "data": {
      "text/plain": [
       "13     blueberry\n",
       "2     strawberry\n",
       "dtype: object"
      ]
     },
     "execution_count": 8,
     "metadata": {},
     "output_type": "execute_result"
    }
   ],
   "source": [
    "#5. Output only the first five values from fruits. \n",
    "\n",
    "fruits.head(5)\n",
    "\n",
    "# Output the last three values. \n",
    "\n",
    "fruits.tail(3)\n",
    "\n",
    "#Output two random values from fruits.\n",
    "\n",
    "fruits.sample(2)"
   ]
  },
  {
   "cell_type": "code",
   "execution_count": 9,
   "id": "6f89436d",
   "metadata": {},
   "outputs": [
    {
     "data": {
      "text/plain": [
       "count       17\n",
       "unique      13\n",
       "top       kiwi\n",
       "freq         4\n",
       "dtype: object"
      ]
     },
     "execution_count": 9,
     "metadata": {},
     "output_type": "execute_result"
    }
   ],
   "source": [
    "#6 Run the .describe() on fruits to see what information it returns when called on a Series with string values.\n",
    "\n",
    "fruits.describe()"
   ]
  },
  {
   "cell_type": "code",
   "execution_count": 10,
   "id": "ff059017",
   "metadata": {},
   "outputs": [
    {
     "data": {
      "text/plain": [
       "kiwi                4\n",
       "mango               2\n",
       "honeycrisp apple    1\n",
       "papaya              1\n",
       "watermelon          1\n",
       "blueberry           1\n",
       "blackberry          1\n",
       "tomato              1\n",
       "pineapple           1\n",
       "gala apple          1\n",
       "honeydew            1\n",
       "gooseberry          1\n",
       "strawberry          1\n",
       "dtype: int64"
      ]
     },
     "execution_count": 10,
     "metadata": {},
     "output_type": "execute_result"
    }
   ],
   "source": [
    "#7. Run the code necessary to produce only the unique string values from fruits.\n",
    "#8. Determine how many times each unique string value occurs in fruits.\n",
    "#9. Determine the string value that occurs most frequently in fruits.\n",
    "#10.Determine the string value that occurs least frequently in fruits.\n",
    "\n",
    "fruits.value_counts()"
   ]
  },
  {
   "cell_type": "code",
   "execution_count": 11,
   "id": "5285fcb0",
   "metadata": {},
   "outputs": [
    {
     "data": {
      "text/plain": [
       "array(['kiwi', 'mango', 'strawberry', 'pineapple', 'gala apple',\n",
       "       'honeycrisp apple', 'tomato', 'watermelon', 'honeydew',\n",
       "       'blueberry', 'blackberry', 'gooseberry', 'papaya'], dtype=object)"
      ]
     },
     "execution_count": 11,
     "metadata": {},
     "output_type": "execute_result"
    }
   ],
   "source": [
    "fruits.unique()"
   ]
  },
  {
   "cell_type": "code",
   "execution_count": 12,
   "id": "3195c2a0",
   "metadata": {},
   "outputs": [
    {
     "data": {
      "text/plain": [
       "13"
      ]
     },
     "execution_count": 12,
     "metadata": {},
     "output_type": "execute_result"
    }
   ],
   "source": [
    "fruits.nunique()"
   ]
  },
  {
   "cell_type": "code",
   "execution_count": 13,
   "id": "06f00797",
   "metadata": {},
   "outputs": [
    {
     "data": {
      "text/plain": [
       "kiwi                4\n",
       "mango               2\n",
       "honeycrisp apple    1\n",
       "papaya              1\n",
       "watermelon          1\n",
       "blueberry           1\n",
       "blackberry          1\n",
       "tomato              1\n",
       "pineapple           1\n",
       "gala apple          1\n",
       "honeydew            1\n",
       "gooseberry          1\n",
       "strawberry          1\n",
       "dtype: int64"
      ]
     },
     "execution_count": 13,
     "metadata": {},
     "output_type": "execute_result"
    }
   ],
   "source": [
    "# 8. Determine how many times each unique string value occurs in fruits.\n",
    "\n",
    "fruits.value_counts()\n"
   ]
  },
  {
   "cell_type": "code",
   "execution_count": 14,
   "id": "7bec642d",
   "metadata": {},
   "outputs": [
    {
     "data": {
      "text/plain": [
       "kiwi    4\n",
       "dtype: int64"
      ]
     },
     "execution_count": 14,
     "metadata": {},
     "output_type": "execute_result"
    }
   ],
   "source": [
    "#9. Determine the string value that occurs most frequently in fruits.\n",
    "\n",
    "fruits.value_counts().head(1)\n"
   ]
  },
  {
   "cell_type": "code",
   "execution_count": 15,
   "id": "1644b273",
   "metadata": {},
   "outputs": [
    {
     "data": {
      "text/plain": [
       "'kiwi'"
      ]
     },
     "execution_count": 15,
     "metadata": {},
     "output_type": "execute_result"
    }
   ],
   "source": [
    "#index of max value\n",
    "fruits.value_counts().idxmax()"
   ]
  },
  {
   "cell_type": "code",
   "execution_count": 16,
   "id": "490fb320",
   "metadata": {},
   "outputs": [
    {
     "data": {
      "text/plain": [
       "kiwi    4\n",
       "dtype: int64"
      ]
     },
     "execution_count": 16,
     "metadata": {},
     "output_type": "execute_result"
    }
   ],
   "source": [
    "# What if multiple tied max?\n",
    "\n",
    "fruits.value_counts().nlargest(n = 1, keep = 'all')"
   ]
  },
  {
   "cell_type": "code",
   "execution_count": null,
   "id": "08336dde",
   "metadata": {},
   "outputs": [],
   "source": []
  },
  {
   "cell_type": "code",
   "execution_count": 17,
   "id": "467e1141",
   "metadata": {},
   "outputs": [
    {
     "data": {
      "text/plain": [
       "strawberry    1\n",
       "dtype: int64"
      ]
     },
     "execution_count": 17,
     "metadata": {},
     "output_type": "execute_result"
    }
   ],
   "source": [
    "#10.Determine the string value that occurs least frequently in fruits.\n",
    "\n",
    "fruits.value_counts().tail(1)\n",
    "\n",
    "\n"
   ]
  },
  {
   "cell_type": "code",
   "execution_count": 18,
   "id": "43c421e8",
   "metadata": {},
   "outputs": [
    {
     "data": {
      "text/plain": [
       "honeycrisp apple    1\n",
       "papaya              1\n",
       "watermelon          1\n",
       "blueberry           1\n",
       "blackberry          1\n",
       "tomato              1\n",
       "pineapple           1\n",
       "gala apple          1\n",
       "honeydew            1\n",
       "gooseberry          1\n",
       "strawberry          1\n",
       "dtype: int64"
      ]
     },
     "execution_count": 18,
     "metadata": {},
     "output_type": "execute_result"
    }
   ],
   "source": [
    "fruits.value_counts().nsmallest(n = 1, keep = 'all')"
   ]
  },
  {
   "cell_type": "markdown",
   "id": "6f0bb7a1",
   "metadata": {},
   "source": [
    "<h2 id=\"exercises-part-ii\">Exercises Part II</h2>\n",
    "<p>Explore more attributes and methods while you continue to work with the fruits Series.</p>\n",
    "<ol>\n",
    "<li>\n",
    "<p>Capitalize all the string values in fruits.</p>\n",
    "</li>\n",
    "<li>\n",
    "<p>Count the letter \"a\" in all the string values (use string vectorization).</p>\n",
    "</li>\n",
    "<li>\n",
    "<p>Output the number of vowels in each and every string value.</p>\n",
    "</li>\n",
    "<li>\n",
    "<p>Write the code to get the longest string value from fruits.</p>\n",
    "</li>\n",
    "<li>\n",
    "<p>Write the code to get the string values with 5 or more letters in the name.</p>\n",
    "</li>\n",
    "<li>\n",
    "<p>Use the <code>.apply</code> method with a lambda function to find the fruit(s) containing the letter <code>\"o\"</code> two or more times.</p>\n",
    "</li>\n",
    "<li>\n",
    "<p>Write the code to get only the string values containing the substring \"berry\".</p>\n",
    "</li>\n",
    "<li>\n",
    "<p>Write the code to get only the string values containing the substring \"apple\".</p>\n",
    "</li>\n",
    "<li>\n",
    "<p>Which string value contains the most vowels?</p>\n",
    "</li>\n",
    "</ol>"
   ]
  },
  {
   "cell_type": "markdown",
   "id": "93eb37b2",
   "metadata": {},
   "source": [
    "1. Capitalize all the string values in fruits."
   ]
  },
  {
   "cell_type": "code",
   "execution_count": 23,
   "id": "55ace031",
   "metadata": {},
   "outputs": [
    {
     "data": {
      "text/plain": [
       "0                 Kiwi\n",
       "1                Mango\n",
       "2           Strawberry\n",
       "3            Pineapple\n",
       "4           Gala apple\n",
       "5     Honeycrisp apple\n",
       "6               Tomato\n",
       "7           Watermelon\n",
       "8             Honeydew\n",
       "9                 Kiwi\n",
       "10                Kiwi\n",
       "11                Kiwi\n",
       "12               Mango\n",
       "13           Blueberry\n",
       "14          Blackberry\n",
       "15          Gooseberry\n",
       "16              Papaya\n",
       "dtype: object"
      ]
     },
     "execution_count": 23,
     "metadata": {},
     "output_type": "execute_result"
    }
   ],
   "source": [
    "fruits.str.capitalize()"
   ]
  },
  {
   "cell_type": "markdown",
   "id": "3864ad3e",
   "metadata": {},
   "source": [
    "2. Count the letter \"a\" in all the string values (use string vectorization)."
   ]
  },
  {
   "cell_type": "code",
   "execution_count": 27,
   "id": "573aca1f",
   "metadata": {},
   "outputs": [
    {
     "data": {
      "text/plain": [
       "14"
      ]
     },
     "execution_count": 27,
     "metadata": {},
     "output_type": "execute_result"
    }
   ],
   "source": [
    "fruits.str.count('a').sum()"
   ]
  },
  {
   "cell_type": "markdown",
   "id": "084e8f0a",
   "metadata": {},
   "source": [
    "3. Output the number of vowels in each and every string value."
   ]
  },
  {
   "cell_type": "code",
   "execution_count": 56,
   "id": "9781ea6c",
   "metadata": {},
   "outputs": [
    {
     "data": {
      "text/plain": [
       "0     2\n",
       "1     2\n",
       "2     2\n",
       "3     4\n",
       "4     4\n",
       "5     5\n",
       "6     3\n",
       "7     4\n",
       "8     3\n",
       "9     2\n",
       "10    2\n",
       "11    2\n",
       "12    2\n",
       "13    3\n",
       "14    2\n",
       "15    4\n",
       "16    3\n",
       "dtype: int64"
      ]
     },
     "execution_count": 56,
     "metadata": {},
     "output_type": "execute_result"
    }
   ],
   "source": [
    "fruits.str.count('[aeiou]')"
   ]
  },
  {
   "cell_type": "markdown",
   "id": "7cb792d0",
   "metadata": {},
   "source": [
    "4. Write the code to get the longest string value from fruits."
   ]
  },
  {
   "cell_type": "code",
   "execution_count": 70,
   "id": "ecaf1330",
   "metadata": {},
   "outputs": [
    {
     "data": {
      "text/plain": [
       "5    honeycrisp apple\n",
       "dtype: object"
      ]
     },
     "execution_count": 70,
     "metadata": {},
     "output_type": "execute_result"
    }
   ],
   "source": [
    "fruits[fruits.str.len() == max(fruits.apply(len))]"
   ]
  },
  {
   "cell_type": "code",
   "execution_count": 71,
   "id": "3c6711e1",
   "metadata": {},
   "outputs": [
    {
     "data": {
      "text/plain": [
       "'honeycrisp apple'"
      ]
     },
     "execution_count": 71,
     "metadata": {},
     "output_type": "execute_result"
    }
   ],
   "source": [
    "#idxmax - index max useful\n",
    "fruits[fruits.str.len().idxmax()]"
   ]
  },
  {
   "cell_type": "markdown",
   "id": "1d47237f",
   "metadata": {},
   "source": [
    "5. Write the code to get the string values with 5 or more letters in the name."
   ]
  },
  {
   "cell_type": "code",
   "execution_count": 49,
   "id": "43f42839",
   "metadata": {},
   "outputs": [
    {
     "data": {
      "text/plain": [
       "2           strawberry\n",
       "3            pineapple\n",
       "4           gala apple\n",
       "5     honeycrisp apple\n",
       "6               tomato\n",
       "7           watermelon\n",
       "8             honeydew\n",
       "13           blueberry\n",
       "14          blackberry\n",
       "15          gooseberry\n",
       "16              papaya\n",
       "dtype: object"
      ]
     },
     "execution_count": 49,
     "metadata": {},
     "output_type": "execute_result"
    }
   ],
   "source": [
    "fruits[fruits.str.len()>5]"
   ]
  },
  {
   "cell_type": "markdown",
   "id": "c6ca2950",
   "metadata": {},
   "source": [
    "6. Use the `.apply` method with a lambda function to find the fruit(s) containing the letter \"o\" two or more times."
   ]
  },
  {
   "cell_type": "code",
   "execution_count": 53,
   "id": "6864decb",
   "metadata": {},
   "outputs": [
    {
     "data": {
      "text/plain": [
       "6         tomato\n",
       "15    gooseberry\n",
       "dtype: object"
      ]
     },
     "execution_count": 53,
     "metadata": {},
     "output_type": "execute_result"
    }
   ],
   "source": [
    "fruits[fruits.apply(lambda row: row.count('o') >=2)]"
   ]
  },
  {
   "cell_type": "code",
   "execution_count": 73,
   "id": "37164fc7",
   "metadata": {},
   "outputs": [
    {
     "data": {
      "text/plain": [
       "6         tomato\n",
       "15    gooseberry\n",
       "dtype: object"
      ]
     },
     "execution_count": 73,
     "metadata": {},
     "output_type": "execute_result"
    }
   ],
   "source": [
    "fruits[fruits.str.count('o') >1]"
   ]
  },
  {
   "cell_type": "markdown",
   "id": "91f373db",
   "metadata": {},
   "source": [
    "7. Write the code to get only the string values containing the substring \"berry\"."
   ]
  },
  {
   "cell_type": "code",
   "execution_count": 72,
   "id": "9862c183",
   "metadata": {},
   "outputs": [
    {
     "data": {
      "text/plain": [
       "2     strawberry\n",
       "13     blueberry\n",
       "14    blackberry\n",
       "15    gooseberry\n",
       "dtype: object"
      ]
     },
     "execution_count": 72,
     "metadata": {},
     "output_type": "execute_result"
    }
   ],
   "source": [
    "fruits[fruits.apply(lambda row: row.count('berry') >=1)]"
   ]
  },
  {
   "cell_type": "code",
   "execution_count": 75,
   "id": "d1d83c8c",
   "metadata": {},
   "outputs": [
    {
     "data": {
      "text/plain": [
       "2     strawberry\n",
       "13     blueberry\n",
       "14    blackberry\n",
       "15    gooseberry\n",
       "dtype: object"
      ]
     },
     "execution_count": 75,
     "metadata": {},
     "output_type": "execute_result"
    }
   ],
   "source": [
    "fruits[fruits.str.contains('berry')]"
   ]
  },
  {
   "cell_type": "markdown",
   "id": "f0745730",
   "metadata": {},
   "source": [
    "8. Write the code to get only the string values containing the substring \"apple\"."
   ]
  },
  {
   "cell_type": "code",
   "execution_count": 54,
   "id": "0340feac",
   "metadata": {},
   "outputs": [
    {
     "data": {
      "text/plain": [
       "3           pineapple\n",
       "4          gala apple\n",
       "5    honeycrisp apple\n",
       "dtype: object"
      ]
     },
     "execution_count": 54,
     "metadata": {},
     "output_type": "execute_result"
    }
   ],
   "source": [
    "fruits[fruits.apply(lambda row: row.count('apple') >=1)]"
   ]
  },
  {
   "cell_type": "code",
   "execution_count": 76,
   "id": "67397961",
   "metadata": {},
   "outputs": [
    {
     "data": {
      "text/plain": [
       "3           pineapple\n",
       "4          gala apple\n",
       "5    honeycrisp apple\n",
       "dtype: object"
      ]
     },
     "execution_count": 76,
     "metadata": {},
     "output_type": "execute_result"
    }
   ],
   "source": [
    "fruits[fruits.str.contains('apple')]"
   ]
  },
  {
   "cell_type": "markdown",
   "id": "0882153b",
   "metadata": {},
   "source": [
    "9. Which string value contains the most vowels?"
   ]
  },
  {
   "cell_type": "code",
   "execution_count": 69,
   "id": "da0b1906",
   "metadata": {},
   "outputs": [
    {
     "data": {
      "text/plain": [
       "5    honeycrisp apple\n",
       "dtype: object"
      ]
     },
     "execution_count": 69,
     "metadata": {},
     "output_type": "execute_result"
    }
   ],
   "source": [
    "fruits[fruits.str.count('[aeiou]') == max(fruits.str.count('[aeiou]'))]"
   ]
  },
  {
   "cell_type": "code",
   "execution_count": 81,
   "id": "3a097694",
   "metadata": {},
   "outputs": [
    {
     "data": {
      "text/plain": [
       "'honeycrisp apple'"
      ]
     },
     "execution_count": 81,
     "metadata": {},
     "output_type": "execute_result"
    }
   ],
   "source": [
    "fruits[fruits.str.count('[aeiou]').idxmax()]"
   ]
  },
  {
   "cell_type": "markdown",
   "id": "285253d0",
   "metadata": {},
   "source": [
    "<h2 id=\"exercises-part-iii\">Exercises Part III</h2>\n",
    "<p>Use pandas to create a Series named letters from the following string:</p>\n",
    "<pre><code>    'hnvidduckkqxwymbimkccexbkmqygkxoyndmcxnwqarhyffsjpsrabtjzsypmzadfavyrnndndvswreauxovncxtwzpwejilzjrmmbbgbyxvjtewqthafnbkqplarokkyydtubbmnexoypulzwfhqvckdpqtpoppzqrmcvhhpwgjwupgzhiofohawytlsiyecuproguy'\n",
    "</code></pre>"
   ]
  },
  {
   "cell_type": "code",
   "execution_count": 99,
   "id": "b4023842",
   "metadata": {},
   "outputs": [],
   "source": [
    "letters = pd.Series(list('hnvidduckkqxwymbimkccexbkmqygkxoyndmcxnwqarhyffsjpsrabtjzsypmzadfavyrnndndvswreauxovncxtwzpwejilzjrmmbbgbyxvjtewqthafnbkqplarokkyydtubbmnexoypulzwfhqvckdpqtpoppzqrmcvhhpwgjwupgzhiofohawytlsiyecuproguy'))"
   ]
  },
  {
   "cell_type": "code",
   "execution_count": 100,
   "id": "24151329",
   "metadata": {},
   "outputs": [
    {
     "data": {
      "text/plain": [
       "0      h\n",
       "1      n\n",
       "2      v\n",
       "3      i\n",
       "4      d\n",
       "      ..\n",
       "195    r\n",
       "196    o\n",
       "197    g\n",
       "198    u\n",
       "199    y\n",
       "Length: 200, dtype: object"
      ]
     },
     "execution_count": 100,
     "metadata": {},
     "output_type": "execute_result"
    }
   ],
   "source": [
    "letters"
   ]
  },
  {
   "cell_type": "markdown",
   "id": "c0ba1d77",
   "metadata": {},
   "source": [
    "1. Which letter occurs the most frequently in the letters Series? </p>\n"
   ]
  },
  {
   "cell_type": "code",
   "execution_count": 104,
   "id": "1c4bb74f",
   "metadata": {},
   "outputs": [
    {
     "data": {
      "text/plain": [
       "8"
      ]
     },
     "execution_count": 104,
     "metadata": {},
     "output_type": "execute_result"
    }
   ],
   "source": [
    "# Can do this 26 times, or write a loop\n",
    "\n",
    "\n",
    "\n",
    "\n",
    "letters.str.count('a').sum()"
   ]
  },
  {
   "cell_type": "code",
   "execution_count": 115,
   "id": "f9006058",
   "metadata": {},
   "outputs": [
    {
     "data": {
      "text/plain": [
       "['a',\n",
       " 'b',\n",
       " 'c',\n",
       " 'd',\n",
       " 'e',\n",
       " 'f',\n",
       " 'g',\n",
       " 'h',\n",
       " 'i',\n",
       " 'j',\n",
       " 'k',\n",
       " 'l',\n",
       " 'm',\n",
       " 'n',\n",
       " 'o',\n",
       " 'p',\n",
       " 'q',\n",
       " 'r',\n",
       " 's',\n",
       " 't',\n",
       " 'u',\n",
       " 'v',\n",
       " 'w',\n",
       " 'x',\n",
       " 'y',\n",
       " 'z']"
      ]
     },
     "execution_count": 115,
     "metadata": {},
     "output_type": "execute_result"
    }
   ],
   "source": [
    "alpha = list('abcdefghijklmnopqrstuvwxyz')\n",
    "alpha"
   ]
  },
  {
   "cell_type": "code",
   "execution_count": 117,
   "id": "7a37233e",
   "metadata": {},
   "outputs": [],
   "source": [
    "letter_counts = []"
   ]
  },
  {
   "cell_type": "code",
   "execution_count": 120,
   "id": "8dc35ed9",
   "metadata": {},
   "outputs": [
    {
     "data": {
      "text/plain": [
       "['a',\n",
       " 8,\n",
       " 'b',\n",
       " 9,\n",
       " 'c',\n",
       " 8,\n",
       " 'd',\n",
       " 8,\n",
       " 'e',\n",
       " 6,\n",
       " 'f',\n",
       " 6,\n",
       " 'g',\n",
       " 5,\n",
       " 'h',\n",
       " 8,\n",
       " 'i',\n",
       " 5,\n",
       " 'j',\n",
       " 6,\n",
       " 'k',\n",
       " 9,\n",
       " 'l',\n",
       " 4,\n",
       " 'm',\n",
       " 9,\n",
       " 'n',\n",
       " 9,\n",
       " 'o',\n",
       " 8,\n",
       " 'p',\n",
       " 12,\n",
       " 'q',\n",
       " 8,\n",
       " 'r',\n",
       " 8,\n",
       " 's',\n",
       " 5,\n",
       " 't',\n",
       " 7,\n",
       " 'u',\n",
       " 7,\n",
       " 'v',\n",
       " 7,\n",
       " 'w',\n",
       " 10,\n",
       " 'x',\n",
       " 8,\n",
       " 'y',\n",
       " 13,\n",
       " 'z',\n",
       " 7,\n",
       " 'a',\n",
       " 8,\n",
       " 'b',\n",
       " 9,\n",
       " 'c',\n",
       " 8,\n",
       " 'd',\n",
       " 8,\n",
       " 'e',\n",
       " 6,\n",
       " 'f',\n",
       " 6,\n",
       " 'g',\n",
       " 5,\n",
       " 'h',\n",
       " 8,\n",
       " 'i',\n",
       " 5,\n",
       " 'j',\n",
       " 6,\n",
       " 'k',\n",
       " 9,\n",
       " 'l',\n",
       " 4,\n",
       " 'm',\n",
       " 9,\n",
       " 'n',\n",
       " 9,\n",
       " 'o',\n",
       " 8,\n",
       " 'p',\n",
       " 12,\n",
       " 'q',\n",
       " 8,\n",
       " 'r',\n",
       " 8,\n",
       " 's',\n",
       " 5,\n",
       " 't',\n",
       " 7,\n",
       " 'u',\n",
       " 7,\n",
       " 'v',\n",
       " 7,\n",
       " 'w',\n",
       " 10,\n",
       " 'x',\n",
       " 8,\n",
       " 'y',\n",
       " 13,\n",
       " 'z',\n",
       " 7]"
      ]
     },
     "execution_count": 120,
     "metadata": {},
     "output_type": "execute_result"
    }
   ],
   "source": [
    "for x in alpha:\n",
    "    letter_counts.append(x)\n",
    "    letter_counts.append(letters.str.count(x).sum())\n",
    "\n",
    "letter_counts"
   ]
  },
  {
   "cell_type": "markdown",
   "id": "34116adb",
   "metadata": {},
   "source": [
    "2. Which letter occurs the Least frequently?'\n"
   ]
  },
  {
   "cell_type": "code",
   "execution_count": null,
   "id": "9132a007",
   "metadata": {},
   "outputs": [],
   "source": []
  },
  {
   "cell_type": "code",
   "execution_count": null,
   "id": "77e0ca58",
   "metadata": {},
   "outputs": [],
   "source": []
  },
  {
   "cell_type": "markdown",
   "id": "60108032",
   "metadata": {},
   "source": [
    "3. How many vowels are in the Series?"
   ]
  },
  {
   "cell_type": "code",
   "execution_count": null,
   "id": "9420ee12",
   "metadata": {},
   "outputs": [],
   "source": []
  },
  {
   "cell_type": "code",
   "execution_count": null,
   "id": "aa29bed5",
   "metadata": {},
   "outputs": [],
   "source": []
  },
  {
   "cell_type": "markdown",
   "id": "1ce3a57f",
   "metadata": {},
   "source": [
    "4. How many consonants are in the Series?"
   ]
  },
  {
   "cell_type": "code",
   "execution_count": null,
   "id": "97a70ec9",
   "metadata": {},
   "outputs": [],
   "source": []
  },
  {
   "cell_type": "code",
   "execution_count": null,
   "id": "250c6a5c",
   "metadata": {},
   "outputs": [],
   "source": []
  },
  {
   "cell_type": "markdown",
   "id": "0f3fd98f",
   "metadata": {},
   "source": [
    "5. Create a Series that has all of the same letters but uppercased."
   ]
  },
  {
   "cell_type": "code",
   "execution_count": null,
   "id": "40e4f3b7",
   "metadata": {},
   "outputs": [],
   "source": []
  },
  {
   "cell_type": "code",
   "execution_count": null,
   "id": "142b71a6",
   "metadata": {},
   "outputs": [],
   "source": []
  },
  {
   "cell_type": "markdown",
   "id": "af52426b",
   "metadata": {},
   "source": [
    "6. Create a bar plot of the frequencies of the 6 most commonly occuring letters."
   ]
  },
  {
   "cell_type": "code",
   "execution_count": null,
   "id": "0c24033b",
   "metadata": {},
   "outputs": [],
   "source": []
  },
  {
   "cell_type": "code",
   "execution_count": null,
   "id": "33936a30",
   "metadata": {},
   "outputs": [],
   "source": []
  },
  {
   "cell_type": "code",
   "execution_count": null,
   "id": "44df9b91",
   "metadata": {},
   "outputs": [],
   "source": []
  },
  {
   "cell_type": "code",
   "execution_count": null,
   "id": "35a2a796",
   "metadata": {},
   "outputs": [],
   "source": []
  }
 ],
 "metadata": {
  "kernelspec": {
   "display_name": "Python 3",
   "language": "python",
   "name": "python3"
  },
  "language_info": {
   "codemirror_mode": {
    "name": "ipython",
    "version": 3
   },
   "file_extension": ".py",
   "mimetype": "text/x-python",
   "name": "python",
   "nbconvert_exporter": "python",
   "pygments_lexer": "ipython3",
   "version": "3.8.8"
  }
 },
 "nbformat": 4,
 "nbformat_minor": 5
}
