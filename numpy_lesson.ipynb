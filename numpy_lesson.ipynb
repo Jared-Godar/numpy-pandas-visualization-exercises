{
 "cells": [
  {
   "cell_type": "markdown",
   "id": "67cea0d0",
   "metadata": {},
   "source": [
    "# Numpy\n",
    "\n",
    "- Numpy is a library for representing and working with large and multi-dimensional arrays. Most other libraries in the data-science ecosystem depend on numpy, making it one of the fundamental data science libraries.\n",
    "\n",
    "- Numpy provides a number of useful tools for scientific programming, and in this lesson, we'll take a look at some of the most common.\n",
    "\n",
    "- Convention is to import the numpy module as np.\n",
    "\n",
    "`import numpy as np`"
   ]
  },
  {
   "cell_type": "markdown",
   "id": "4f0af98d",
   "metadata": {},
   "source": [
    "## Indexing\n",
    "\n",
    "- Numpy provides an array type that goes above and beyond what Python's built-in lists can do.\n",
    "\n",
    "- We can create a numpy array by passing a list to the np.array function:\n",
    "\n",
    "    `a = np.array([1, 2, 3])`\n",
    "    \n",
    "    `a`\n",
    "    \n",
    "    `array([1, 2, 3])`"
   ]
  },
  {
   "cell_type": "markdown",
   "id": "75b6115c",
   "metadata": {},
   "source": [
    "- We can create a multi-dimensional array by passing a list of lists to the array function\n",
    "\n",
    "        matrix = np.array([[1, 2, 3],\n",
    "                           [4, 5, 6],\n",
    "                           [7, 8, 9]])\n",
    "        matrix\n",
    "\n",
    "        array([[1, 2, 3],\n",
    "               [4, 5, 6],\n",
    "               [7, 8, 9]])\n"
   ]
  },
  {
   "cell_type": "markdown",
   "id": "a1fb183c",
   "metadata": {},
   "source": [
    "- Referencing elements in numpy arrays at it's most basic is the same as referencing elements in Python lists.\n",
    "\n",
    "        a[0]\n",
    "\n",
    "        1\n"
   ]
  },
  {
   "cell_type": "markdown",
   "id": "73857b45",
   "metadata": {},
   "source": [
    "        print('a    == {}'.format(a))\n",
    "        print('a[0] == {}'.format(a[0]))\n",
    "        print('a[1] == {}'.format(a[1]))\n",
    "        print('a[2] == {}'.format(a[2]))\n",
    "\n",
    "        a    == [1 2 3]\n",
    "        a[0] == 1\n",
    "        a[1] == 2\n",
    "        a[2] == 3\n"
   ]
  },
  {
   "cell_type": "markdown",
   "id": "17d4ceb3",
   "metadata": {},
   "source": [
    "- However, multidimensional numpy arrays are easier to index into. To obtain the element at the second column in the second row, we would write:\n",
    "\n",
    "        matrix[1, 1]\n",
    "\n",
    "        5\n",
    "\n",
    "- To get the first 2 elements of the last 2 rows:\n",
    "\n",
    "        matrix[1:, :2]\n",
    "\n",
    "        array([[4, 5],\n",
    "               [7, 8]])\n"
   ]
  },
  {
   "cell_type": "markdown",
   "id": "db0e862f",
   "metadata": {},
   "source": [
    "- Arrays can also be indexed with a boolean sequence used to indicate which values should be included in the resulting array.\n",
    "\n",
    "        should_include_elements = [True, False, True]\n",
    "        a[should_include_elements]\n",
    "\n",
    "        array([1, 3])\n"
   ]
  },
  {
   "cell_type": "markdown",
   "id": "4eb5ea2a",
   "metadata": {},
   "source": [
    "## Vectorized Operations\n",
    "\n",
    "\n",
    "- Another useful feature of numpy arrays is vectorized operations.\n",
    "\n",
    "- If we wanted to add 1 to every element in a list, without numpy, we can't simply add 1 to the list, as that will result in a TypeError.\n",
    "\n",
    "        original_array = [1, 2, 3, 4, 5]\n",
    "        try:\n",
    "            original_array + 1\n",
    "        except TypeError as e:\n",
    "            print('An Error Occured!')\n",
    "            print(f'TypeError: {e}')"
   ]
  },
  {
   "cell_type": "markdown",
   "id": "33d094a0",
   "metadata": {},
   "source": [
    "- Instead, we might write a for loop or a list comprehension:\n",
    "\n",
    "        original_array = [1, 2, 3, 4, 5]\n",
    "        array_with_one_added = []\n",
    "        for n in original_array:\n",
    "            array_with_one_added.append(n + 1)\n",
    "        print(array_with_one_added)\n",
    "\n",
    "        [2, 3, 4, 5, 6]"
   ]
  },
  {
   "cell_type": "markdown",
   "id": "afcf0cff",
   "metadata": {},
   "source": [
    "        original_array = [1, 2, 3, 4, 5]\n",
    "        array_with_one_added = [n + 1 for n in original_array]\n",
    "        print(array_with_one_added)\n",
    "\n",
    "        [2, 3, 4, 5, 6]"
   ]
  },
  {
   "cell_type": "markdown",
   "id": "3052751b",
   "metadata": {},
   "source": [
    "- Vectorizing operations means that operations are automatically applied to every element in a vector, which in our case will be a numpy array. So if we are working with a numpy array, we can simply add 1:\n",
    "\n",
    "        original_array = np.array([1, 2, 3, 4, 5])\n",
    "        original_array + 1\n",
    "\n",
    "        array([2, 3, 4, 5, 6])"
   ]
  },
  {
   "cell_type": "code",
   "execution_count": 2,
   "id": "8d4b7bbe",
   "metadata": {},
   "outputs": [],
   "source": [
    "import numpy as np"
   ]
  },
  {
   "cell_type": "code",
   "execution_count": 3,
   "id": "7705436a",
   "metadata": {},
   "outputs": [
    {
     "name": "stdout",
     "output_type": "stream",
     "text": [
      "244 ms ± 1.97 ms per loop (mean ± std. dev. of 7 runs, 1 loop each)\n"
     ]
    }
   ],
   "source": [
    "%%timeit\n",
    "[x ** 2 for x in range(1, 1_000_000)]"
   ]
  },
  {
   "cell_type": "code",
   "execution_count": 5,
   "id": "3f358712",
   "metadata": {},
   "outputs": [
    {
     "name": "stdout",
     "output_type": "stream",
     "text": [
      "754 µs ± 81.8 µs per loop (mean ± std. dev. of 7 runs, 1000 loops each)\n"
     ]
    }
   ],
   "source": [
    "%%timeit\n",
    "np.arange(1, 1_000_000) ** 2"
   ]
  },
  {
   "cell_type": "code",
   "execution_count": 6,
   "id": "19fef341",
   "metadata": {},
   "outputs": [
    {
     "data": {
      "text/plain": [
       "array([1, 2, 3, 4, 5])"
      ]
     },
     "execution_count": 6,
     "metadata": {},
     "output_type": "execute_result"
    }
   ],
   "source": [
    "#lets make our first numpy array!\n",
    "x = [1,2,3,4,5]\n",
    "x = np.array(x)\n",
    "x"
   ]
  },
  {
   "cell_type": "code",
   "execution_count": 7,
   "id": "d9aa7a72",
   "metadata": {},
   "outputs": [
    {
     "data": {
      "text/plain": [
       "(5,)"
      ]
     },
     "execution_count": 7,
     "metadata": {},
     "output_type": "execute_result"
    }
   ],
   "source": [
    "# shape tells us the shape of our n-dimensional array\n",
    "x.shape"
   ]
  },
  {
   "cell_type": "code",
   "execution_count": 8,
   "id": "b2e6edd1",
   "metadata": {},
   "outputs": [
    {
     "data": {
      "text/plain": [
       "numpy.ndarray"
      ]
     },
     "execution_count": 8,
     "metadata": {},
     "output_type": "execute_result"
    }
   ],
   "source": [
    "type(x)"
   ]
  },
  {
   "cell_type": "code",
   "execution_count": 14,
   "id": "5978c5ff",
   "metadata": {},
   "outputs": [
    {
     "data": {
      "text/plain": [
       "array([[1, 2, 3],\n",
       "       [4, 5, 6],\n",
       "       [7, 8, 9]])"
      ]
     },
     "execution_count": 14,
     "metadata": {},
     "output_type": "execute_result"
    }
   ],
   "source": [
    "matrix = np.array([\n",
    "    [1, 2, 3],\n",
    "    [4, 5, 6],\n",
    "    [7, 8, 9]\n",
    "])\n",
    "matrix"
   ]
  },
  {
   "cell_type": "code",
   "execution_count": 15,
   "id": "de92e3cd",
   "metadata": {},
   "outputs": [
    {
     "data": {
      "text/plain": [
       "numpy.ndarray"
      ]
     },
     "execution_count": 15,
     "metadata": {},
     "output_type": "execute_result"
    }
   ],
   "source": [
    "type(matrix)"
   ]
  },
  {
   "cell_type": "code",
   "execution_count": 16,
   "id": "998ccad1",
   "metadata": {},
   "outputs": [
    {
     "data": {
      "text/plain": [
       "(3, 3)"
      ]
     },
     "execution_count": 16,
     "metadata": {},
     "output_type": "execute_result"
    }
   ],
   "source": [
    "matrix.shape"
   ]
  },
  {
   "cell_type": "code",
   "execution_count": 17,
   "id": "8ff1ceb7",
   "metadata": {},
   "outputs": [
    {
     "data": {
      "text/plain": [
       "array([1, 2, 3])"
      ]
     },
     "execution_count": 17,
     "metadata": {},
     "output_type": "execute_result"
    }
   ],
   "source": [
    "#list index syntex works on numpy arrays\n",
    "matrix[0]"
   ]
  },
  {
   "cell_type": "code",
   "execution_count": 18,
   "id": "6ea5f8bf",
   "metadata": {},
   "outputs": [
    {
     "data": {
      "text/plain": [
       "1"
      ]
     },
     "execution_count": 18,
     "metadata": {},
     "output_type": "execute_result"
    }
   ],
   "source": [
    "matrix[0][0]"
   ]
  },
  {
   "cell_type": "code",
   "execution_count": 19,
   "id": "273cdd92",
   "metadata": {},
   "outputs": [
    {
     "data": {
      "text/plain": [
       "1"
      ]
     },
     "execution_count": 19,
     "metadata": {},
     "output_type": "execute_result"
    }
   ],
   "source": [
    "matrix [0,0]"
   ]
  },
  {
   "cell_type": "code",
   "execution_count": 21,
   "id": "a9b8d6c1",
   "metadata": {},
   "outputs": [
    {
     "data": {
      "text/plain": [
       "array([1, 2, 3])"
      ]
     },
     "execution_count": 21,
     "metadata": {},
     "output_type": "execute_result"
    }
   ],
   "source": [
    "first_row = matrix[0]\n",
    "first_row"
   ]
  },
  {
   "cell_type": "code",
   "execution_count": 23,
   "id": "2cbb8b62",
   "metadata": {},
   "outputs": [
    {
     "data": {
      "text/plain": [
       "1"
      ]
     },
     "execution_count": 23,
     "metadata": {},
     "output_type": "execute_result"
    }
   ],
   "source": [
    "first_element = first_row[0]\n",
    "first_element"
   ]
  },
  {
   "cell_type": "code",
   "execution_count": 24,
   "id": "f3654b70",
   "metadata": {},
   "outputs": [
    {
     "data": {
      "text/plain": [
       "array([1, 2, 3, 4])"
      ]
     },
     "execution_count": 24,
     "metadata": {},
     "output_type": "execute_result"
    }
   ],
   "source": [
    "a = (1,2,3,4)\n",
    "a = np.array(a)\n",
    "a"
   ]
  },
  {
   "cell_type": "code",
   "execution_count": 26,
   "id": "2e0d36d4",
   "metadata": {},
   "outputs": [
    {
     "name": "stderr",
     "output_type": "stream",
     "text": [
      "<ipython-input-26-2000cd99e966>:1: VisibleDeprecationWarning: Creating an ndarray from ragged nested sequences (which is a list-or-tuple of lists-or-tuples-or ndarrays with different lengths or shapes) is deprecated. If you meant to do this, you must specify 'dtype=object' when creating the ndarray.\n",
      "  b = np.array([\n"
     ]
    },
    {
     "data": {
      "text/plain": [
       "array([list([1]), list([1, 2]), list([1, 2, 3]), list([1, 2, 3, 4])],\n",
       "      dtype=object)"
      ]
     },
     "execution_count": 26,
     "metadata": {},
     "output_type": "execute_result"
    }
   ],
   "source": [
    "b = np.array([\n",
    "    [1],\n",
    "    [1,2],\n",
    "    [1,2,3],\n",
    "    [1,2,3,4]\n",
    "])\n",
    "\n",
    "b"
   ]
  },
  {
   "cell_type": "markdown",
   "id": "18584543",
   "metadata": {},
   "source": [
    "## Slicing notation\n"
   ]
  },
  {
   "cell_type": "code",
   "execution_count": 27,
   "id": "69655a5e",
   "metadata": {},
   "outputs": [
    {
     "data": {
      "text/plain": [
       "array([1, 2, 3, 4, 5])"
      ]
     },
     "execution_count": 27,
     "metadata": {},
     "output_type": "execute_result"
    }
   ],
   "source": [
    "x"
   ]
  },
  {
   "cell_type": "code",
   "execution_count": 28,
   "id": "9b40c4fc",
   "metadata": {},
   "outputs": [
    {
     "data": {
      "text/plain": [
       "array([2, 3])"
      ]
     },
     "execution_count": 28,
     "metadata": {},
     "output_type": "execute_result"
    }
   ],
   "source": [
    "#inclusve start:exclusive range\n",
    "x[1:3]"
   ]
  },
  {
   "cell_type": "code",
   "execution_count": 29,
   "id": "aea8a501",
   "metadata": {},
   "outputs": [
    {
     "data": {
      "text/plain": [
       "array([4, 5])"
      ]
     },
     "execution_count": 29,
     "metadata": {},
     "output_type": "execute_result"
    }
   ],
   "source": [
    "# 3 to the end\n",
    "x[3:]"
   ]
  },
  {
   "cell_type": "code",
   "execution_count": 30,
   "id": "27a3338b",
   "metadata": {},
   "outputs": [
    {
     "data": {
      "text/plain": [
       "array([ 1,  2,  3,  4,  5,  6,  7,  8,  9, 10, 11, 12, 13, 14, 15, 16, 17,\n",
       "       18, 19, 20, 21, 22, 23, 24, 25, 26, 27, 28, 29, 30, 31, 32, 33, 34,\n",
       "       35, 36, 37, 38, 39, 40, 41, 42, 43, 44, 45, 46, 47, 48, 49, 50, 51,\n",
       "       52, 53, 54, 55, 56, 57, 58, 59, 60, 61, 62, 63, 64, 65, 66, 67, 68,\n",
       "       69, 70, 71, 72, 73, 74, 75, 76, 77, 78, 79, 80, 81, 82, 83, 84, 85,\n",
       "       86, 87, 88, 89, 90, 91, 92, 93, 94, 95, 96, 97, 98, 99])"
      ]
     },
     "execution_count": 30,
     "metadata": {},
     "output_type": "execute_result"
    }
   ],
   "source": [
    "a = np.array(range(1,100))\n",
    "a"
   ]
  },
  {
   "cell_type": "code",
   "execution_count": 31,
   "id": "47f97cae",
   "metadata": {},
   "outputs": [
    {
     "data": {
      "text/plain": [
       "array([1, 2, 3, 4, 5])"
      ]
     },
     "execution_count": 31,
     "metadata": {},
     "output_type": "execute_result"
    }
   ],
   "source": [
    "a[0:5]"
   ]
  },
  {
   "cell_type": "code",
   "execution_count": 35,
   "id": "49cc1140",
   "metadata": {},
   "outputs": [
    {
     "data": {
      "text/plain": [
       "array(['squash', 'pumpkin', 'kale'], dtype='<U7')"
      ]
     },
     "execution_count": 35,
     "metadata": {},
     "output_type": "execute_result"
    }
   ],
   "source": [
    "list_of_vegetables = ['squash', 'pumpkin', 'kale']\n",
    "veggies = np.array(list_of_vegetables)\n",
    "veggies"
   ]
  },
  {
   "cell_type": "code",
   "execution_count": 37,
   "id": "52c51f14",
   "metadata": {},
   "outputs": [],
   "source": [
    "#Tab on arrayname.\n",
    "#if you put a question mark on the end and run it, it will bring up documentation\n",
    "veggies.nonzero?\n"
   ]
  },
  {
   "cell_type": "markdown",
   "id": "dfab8dca",
   "metadata": {},
   "source": [
    "## Built-in Functions and Methods"
   ]
  },
  {
   "cell_type": "code",
   "execution_count": 39,
   "id": "8f69f12b",
   "metadata": {},
   "outputs": [
    {
     "data": {
      "text/plain": [
       "array([1, 2, 3, 4, 5, 6, 7, 8, 9])"
      ]
     },
     "execution_count": 39,
     "metadata": {},
     "output_type": "execute_result"
    }
   ],
   "source": [
    "a = np.array(range(1,10))\n",
    "a"
   ]
  },
  {
   "cell_type": "code",
   "execution_count": 40,
   "id": "072b2742",
   "metadata": {},
   "outputs": [
    {
     "data": {
      "text/plain": [
       "(45, 5.0, 1, 9, 2.581988897471611)"
      ]
     },
     "execution_count": 40,
     "metadata": {},
     "output_type": "execute_result"
    }
   ],
   "source": [
    "a.sum(), a.mean(), a.min(), a.max(), a.std()"
   ]
  },
  {
   "cell_type": "code",
   "execution_count": 41,
   "id": "3070e232",
   "metadata": {},
   "outputs": [
    {
     "data": {
      "text/plain": [
       "5.0"
      ]
     },
     "execution_count": 41,
     "metadata": {},
     "output_type": "execute_result"
    }
   ],
   "source": [
    "#median is different\n",
    "np.median(a)"
   ]
  },
  {
   "cell_type": "code",
   "execution_count": 44,
   "id": "24ac25e9",
   "metadata": {},
   "outputs": [
    {
     "data": {
      "text/plain": [
       "array([3, 5])"
      ]
     },
     "execution_count": 44,
     "metadata": {},
     "output_type": "execute_result"
    }
   ],
   "source": [
    "b = np.array([2, 3, 4, 5])\n",
    "should_include_elements = np.array([False, True, False, True])\n",
    "b[should_include_elements]"
   ]
  },
  {
   "cell_type": "markdown",
   "id": "d1b883c3",
   "metadata": {},
   "source": [
    "# NP Magic 1\n",
    "\n",
    "- Vectorization and vectorized operations\n"
   ]
  },
  {
   "cell_type": "code",
   "execution_count": 45,
   "id": "2d63391c",
   "metadata": {},
   "outputs": [
    {
     "data": {
      "text/plain": [
       "array([1, 2, 3, 4, 5, 6, 7, 8, 9])"
      ]
     },
     "execution_count": 45,
     "metadata": {},
     "output_type": "execute_result"
    }
   ],
   "source": [
    "a"
   ]
  },
  {
   "cell_type": "code",
   "execution_count": 46,
   "id": "ca6309d3",
   "metadata": {},
   "outputs": [
    {
     "data": {
      "text/plain": [
       "array([ 2,  4,  6,  8, 10, 12, 14, 16, 18])"
      ]
     },
     "execution_count": 46,
     "metadata": {},
     "output_type": "execute_result"
    }
   ],
   "source": [
    "a * 2"
   ]
  },
  {
   "cell_type": "code",
   "execution_count": 48,
   "id": "366d8cc8",
   "metadata": {},
   "outputs": [],
   "source": [
    "#doesn't change original a\n",
    "a\n",
    "b = a *2"
   ]
  },
  {
   "cell_type": "code",
   "execution_count": 50,
   "id": "07a57b34",
   "metadata": {},
   "outputs": [
    {
     "data": {
      "text/plain": [
       "array([ 4,  8, 12, 16, 20, 24, 28, 32, 36])"
      ]
     },
     "execution_count": 50,
     "metadata": {},
     "output_type": "execute_result"
    }
   ],
   "source": [
    "a *= 2\n",
    "a"
   ]
  },
  {
   "cell_type": "code",
   "execution_count": null,
   "id": "75616e82",
   "metadata": {},
   "outputs": [],
   "source": [
    "# dont have new operators"
   ]
  },
  {
   "cell_type": "code",
   "execution_count": 51,
   "id": "5ef92054",
   "metadata": {},
   "outputs": [
    {
     "data": {
      "text/plain": [
       "array([  16,   64,  144,  256,  400,  576,  784, 1024, 1296])"
      ]
     },
     "execution_count": 51,
     "metadata": {},
     "output_type": "execute_result"
    }
   ],
   "source": [
    "a ** 2"
   ]
  },
  {
   "cell_type": "code",
   "execution_count": 54,
   "id": "e91b9f3e",
   "metadata": {},
   "outputs": [
    {
     "data": {
      "text/plain": [
       "array([0.        , 0.69314718, 1.09861229, 1.38629436, 1.60943791,\n",
       "       1.79175947, 1.94591015, 2.07944154, 2.19722458, 2.30258509,\n",
       "       2.39789527, 2.48490665, 2.56494936, 2.63905733, 2.7080502 ,\n",
       "       2.77258872, 2.83321334, 2.89037176, 2.94443898, 2.99573227,\n",
       "       3.04452244, 3.09104245, 3.13549422, 3.17805383, 3.21887582,\n",
       "       3.25809654, 3.29583687, 3.33220451, 3.36729583, 3.40119738,\n",
       "       3.4339872 , 3.4657359 , 3.49650756, 3.52636052, 3.55534806,\n",
       "       3.58351894, 3.61091791, 3.63758616, 3.66356165, 3.68887945,\n",
       "       3.71357207, 3.73766962, 3.76120012, 3.78418963, 3.80666249,\n",
       "       3.8286414 , 3.8501476 , 3.87120101, 3.8918203 , 3.91202301,\n",
       "       3.93182563, 3.95124372, 3.97029191, 3.98898405, 4.00733319,\n",
       "       4.02535169, 4.04305127, 4.06044301, 4.07753744, 4.09434456,\n",
       "       4.11087386, 4.12713439, 4.14313473, 4.15888308, 4.17438727,\n",
       "       4.18965474, 4.20469262, 4.21950771, 4.2341065 , 4.24849524,\n",
       "       4.26267988, 4.27666612, 4.29045944, 4.30406509, 4.31748811,\n",
       "       4.33073334, 4.34380542, 4.35670883, 4.36944785, 4.38202663,\n",
       "       4.39444915, 4.40671925, 4.41884061, 4.4308168 , 4.44265126,\n",
       "       4.4543473 , 4.46590812, 4.47733681, 4.48863637, 4.49980967,\n",
       "       4.51085951, 4.52178858, 4.53259949, 4.54329478, 4.55387689,\n",
       "       4.56434819, 4.57471098, 4.58496748, 4.59511985])"
      ]
     },
     "execution_count": 54,
     "metadata": {},
     "output_type": "execute_result"
    }
   ],
   "source": [
    "#need values for y = log(x)\n",
    "x = np.arange(1,100)\n",
    "y = np.log(x)\n",
    "y"
   ]
  },
  {
   "cell_type": "code",
   "execution_count": 55,
   "id": "df07c9d9",
   "metadata": {},
   "outputs": [
    {
     "data": {
      "text/plain": [
       "array([ 1,  2,  3,  4,  5,  6,  7,  8,  9, 10, 11, 12, 13, 14, 15, 16, 17,\n",
       "       18, 19, 20, 21, 22, 23, 24, 25, 26, 27, 28, 29, 30, 31, 32, 33, 34,\n",
       "       35, 36, 37, 38, 39, 40, 41, 42, 43, 44, 45, 46, 47, 48, 49, 50, 51,\n",
       "       52, 53, 54, 55, 56, 57, 58, 59, 60, 61, 62, 63, 64, 65, 66, 67, 68,\n",
       "       69, 70, 71, 72, 73, 74, 75, 76, 77, 78, 79, 80, 81, 82, 83, 84, 85,\n",
       "       86, 87, 88, 89, 90, 91, 92, 93, 94, 95, 96, 97, 98, 99])"
      ]
     },
     "execution_count": 55,
     "metadata": {},
     "output_type": "execute_result"
    }
   ],
   "source": [
    "x"
   ]
  },
  {
   "cell_type": "code",
   "execution_count": 56,
   "id": "90c18994",
   "metadata": {},
   "outputs": [
    {
     "data": {
      "text/plain": [
       "array([   2,    4,    8,   14,   22,   32,   44,   58,   74,   92,  112,\n",
       "        134,  158,  184,  212,  242,  274,  308,  344,  382,  422,  464,\n",
       "        508,  554,  602,  652,  704,  758,  814,  872,  932,  994, 1058,\n",
       "       1124, 1192, 1262, 1334, 1408, 1484, 1562, 1642, 1724, 1808, 1894,\n",
       "       1982, 2072, 2164, 2258, 2354, 2452, 2552, 2654, 2758, 2864, 2972,\n",
       "       3082, 3194, 3308, 3424, 3542, 3662, 3784, 3908, 4034, 4162, 4292,\n",
       "       4424, 4558, 4694, 4832, 4972, 5114, 5258, 5404, 5552, 5702, 5854,\n",
       "       6008, 6164, 6322, 6482, 6644, 6808, 6974, 7142, 7312, 7484, 7658,\n",
       "       7834, 8012, 8192, 8374, 8558, 8744, 8932, 9122, 9314, 9508, 9704])"
      ]
     },
     "execution_count": 56,
     "metadata": {},
     "output_type": "execute_result"
    }
   ],
   "source": [
    "x **2 - x + 2"
   ]
  },
  {
   "cell_type": "code",
   "execution_count": 57,
   "id": "4f2dc140",
   "metadata": {},
   "outputs": [],
   "source": [
    "import matplotlib.pyplot as plt"
   ]
  },
  {
   "cell_type": "code",
   "execution_count": 60,
   "id": "69f586ed",
   "metadata": {},
   "outputs": [
    {
     "data": {
      "image/png": "[encoded data removed]",
      "text/plain": [
       "<Figure size 432x288 with 1 Axes>"
      ]
     },
     "metadata": {
      "needs_background": "light"
     },
     "output_type": "display_data"
    }
   ],
   "source": [
    "y = x **2 - x + 2\n",
    "plt.plot(x,y);"
   ]
  },
  {
   "cell_type": "code",
   "execution_count": 61,
   "id": "549cee71",
   "metadata": {},
   "outputs": [
    {
     "data": {
      "text/plain": [
       "array([-1,  3,  7, 11, 15, 19, 23, 27, 31])"
      ]
     },
     "execution_count": 61,
     "metadata": {},
     "output_type": "execute_result"
    }
   ],
   "source": [
    "a - 5"
   ]
  },
  {
   "cell_type": "code",
   "execution_count": 62,
   "id": "fb684046",
   "metadata": {},
   "outputs": [
    {
     "data": {
      "text/plain": [
       "array([0, 0, 0, 0, 0, 0, 0, 0, 0])"
      ]
     },
     "execution_count": 62,
     "metadata": {},
     "output_type": "execute_result"
    }
   ],
   "source": [
    "a - a"
   ]
  },
  {
   "cell_type": "markdown",
   "id": "8b342fdf",
   "metadata": {},
   "source": [
    "## Arrays of Booleans == Beating Heart of Filtering / Transforming Arrays\n",
    "\n",
    "- This is how we can do loop-like stuff without loops\n",
    "- Called \"boolean masking\" / \"array filtering\" or \"indexing"
   ]
  },
  {
   "cell_type": "code",
   "execution_count": 65,
   "id": "bc033d6e",
   "metadata": {},
   "outputs": [
    {
     "data": {
      "text/plain": [
       "array([3, 5])"
      ]
     },
     "execution_count": 65,
     "metadata": {},
     "output_type": "execute_result"
    }
   ],
   "source": [
    "b = np.array([2, 3, 4, 5])\n",
    "should_include_elements = np.array([False, True, False, True])\n",
    "b[should_include_elements]"
   ]
  },
  {
   "cell_type": "code",
   "execution_count": null,
   "id": "e055aa4d",
   "metadata": {},
   "outputs": [],
   "source": [
    "# boolean on and off switches - show / don't show t/f"
   ]
  },
  {
   "cell_type": "code",
   "execution_count": 67,
   "id": "7c6aee73",
   "metadata": {},
   "outputs": [
    {
     "data": {
      "text/plain": [
       "array([-10,  -9,  -8,  -7,  -6,  -5,  -4,  -3,  -2,  -1,   0,   1,   2,\n",
       "         3,   4,   5,   6,   7,   8,   9])"
      ]
     },
     "execution_count": 67,
     "metadata": {},
     "output_type": "execute_result"
    }
   ],
   "source": [
    " x = np.arange(-10,10)\n",
    "x"
   ]
  },
  {
   "cell_type": "code",
   "execution_count": 69,
   "id": "6645acd8",
   "metadata": {},
   "outputs": [
    {
     "data": {
      "text/plain": [
       "array([False, False, False, False, False, False, False, False, False,\n",
       "       False, False,  True,  True,  True,  True,  True,  True,  True,\n",
       "        True,  True])"
      ]
     },
     "execution_count": 69,
     "metadata": {},
     "output_type": "execute_result"
    }
   ],
   "source": [
    "#Expressions that return t/f use as filter\n",
    "x > 0"
   ]
  },
  {
   "cell_type": "code",
   "execution_count": 70,
   "id": "e49e216f",
   "metadata": {},
   "outputs": [
    {
     "data": {
      "text/plain": [
       "array([1, 2, 3, 4, 5, 6, 7, 8, 9])"
      ]
     },
     "execution_count": 70,
     "metadata": {},
     "output_type": "execute_result"
    }
   ],
   "source": [
    "#Read as sql in head\n",
    "#selext x where x > 0\n",
    "x [x>0]"
   ]
  },
  {
   "cell_type": "code",
   "execution_count": 71,
   "id": "014eaa7f",
   "metadata": {},
   "outputs": [
    {
     "data": {
      "text/plain": [
       "array([3])"
      ]
     },
     "execution_count": 71,
     "metadata": {},
     "output_type": "execute_result"
    }
   ],
   "source": [
    "x[x==3]"
   ]
  },
  {
   "cell_type": "code",
   "execution_count": 72,
   "id": "0e7641e2",
   "metadata": {},
   "outputs": [
    {
     "data": {
      "text/plain": [
       "array([ True, False,  True, False,  True, False,  True, False,  True,\n",
       "       False,  True, False,  True, False,  True, False,  True, False,\n",
       "        True, False])"
      ]
     },
     "execution_count": 72,
     "metadata": {},
     "output_type": "execute_result"
    }
   ],
   "source": [
    "is_even = x % 2 ==0\n",
    "is_even"
   ]
  },
  {
   "cell_type": "code",
   "execution_count": 73,
   "id": "1ca76e94",
   "metadata": {},
   "outputs": [
    {
     "data": {
      "text/plain": [
       "array([-10,  -8,  -6,  -4,  -2,   0,   2,   4,   6,   8])"
      ]
     },
     "execution_count": 73,
     "metadata": {},
     "output_type": "execute_result"
    }
   ],
   "source": [
    "x[is_even]"
   ]
  },
  {
   "cell_type": "code",
   "execution_count": 74,
   "id": "1dbe75fe",
   "metadata": {},
   "outputs": [
    {
     "data": {
      "text/plain": [
       "array([  2,   4,   6,  24, 442,  10])"
      ]
     },
     "execution_count": 74,
     "metadata": {},
     "output_type": "execute_result"
    }
   ],
   "source": [
    "def remove_evens(x):\n",
    "    x = np.array(x)\n",
    "    return x[x % 2 ==0]\n",
    "\n",
    "y = remove_evens([2, 3, 4, 5, 6, 24, 442, 3, 3, 23, 23, 10])\n",
    "y"
   ]
  },
  {
   "cell_type": "code",
   "execution_count": null,
   "id": "c67d451e",
   "metadata": {},
   "outputs": [],
   "source": [
    "# What if we have compound logical cases\n",
    "# All positive, even numbers\n"
   ]
  },
  {
   "cell_type": "code",
   "execution_count": 77,
   "id": "43682044",
   "metadata": {},
   "outputs": [
    {
     "data": {
      "text/plain": [
       "array([-10,  -9,  -8,  -7,  -6,  -5,  -4,  -3,  -2,  -1,   0,   1,   2,\n",
       "         3,   4,   5,   6,   7,   8,   9])"
      ]
     },
     "execution_count": 77,
     "metadata": {},
     "output_type": "execute_result"
    }
   ],
   "source": [
    "x = np.arange(-10,10)\n",
    "x"
   ]
  },
  {
   "cell_type": "code",
   "execution_count": 78,
   "id": "e958730c",
   "metadata": {},
   "outputs": [
    {
     "data": {
      "text/plain": [
       "array([False, False, False, False, False, False, False, False, False,\n",
       "       False, False,  True,  True,  True,  True,  True,  True,  True,\n",
       "        True,  True])"
      ]
     },
     "execution_count": 78,
     "metadata": {},
     "output_type": "execute_result"
    }
   ],
   "source": [
    "x>0"
   ]
  },
  {
   "cell_type": "code",
   "execution_count": 79,
   "id": "cb802e7e",
   "metadata": {},
   "outputs": [
    {
     "data": {
      "text/plain": [
       "array([ True, False,  True, False,  True, False,  True, False,  True,\n",
       "       False,  True, False,  True, False,  True, False,  True, False,\n",
       "        True, False])"
      ]
     },
     "execution_count": 79,
     "metadata": {},
     "output_type": "execute_result"
    }
   ],
   "source": [
    "x % 2 ==0"
   ]
  },
  {
   "cell_type": "code",
   "execution_count": 81,
   "id": "9087aeb6",
   "metadata": {},
   "outputs": [
    {
     "data": {
      "text/plain": [
       "array([2, 4, 6, 8])"
      ]
     },
     "execution_count": 81,
     "metadata": {},
     "output_type": "execute_result"
    }
   ],
   "source": [
    "x[(x > 0) & (x %2 == 0)]"
   ]
  },
  {
   "cell_type": "code",
   "execution_count": 82,
   "id": "39b20a77",
   "metadata": {},
   "outputs": [
    {
     "data": {
      "text/plain": [
       "array([2, 4, 6, 8])"
      ]
     },
     "execution_count": 82,
     "metadata": {},
     "output_type": "execute_result"
    }
   ],
   "source": [
    "positives = x > 0\n",
    "evens = x % 2 ==0\n",
    "x[positives & evens]"
   ]
  },
  {
   "cell_type": "code",
   "execution_count": null,
   "id": "8dde9d47",
   "metadata": {},
   "outputs": [],
   "source": [
    "# | for or\n"
   ]
  },
  {
   "cell_type": "code",
   "execution_count": 83,
   "id": "00bab515",
   "metadata": {},
   "outputs": [],
   "source": [
    "def square_plus_two(x):\n",
    "    x = np.array(x)\n",
    "    return x**2 + 2"
   ]
  },
  {
   "cell_type": "code",
   "execution_count": 84,
   "id": "a2bbc6f6",
   "metadata": {},
   "outputs": [
    {
     "data": {
      "text/plain": [
       "array([ 3,  6, 11])"
      ]
     },
     "execution_count": 84,
     "metadata": {},
     "output_type": "execute_result"
    }
   ],
   "source": [
    "square_plus_two([1,2,3])"
   ]
  },
  {
   "cell_type": "markdown",
   "id": "3665099e",
   "metadata": {},
   "source": [
    "## Review of vectorization"
   ]
  },
  {
   "cell_type": "code",
   "execution_count": null,
   "id": "97b8c9cd",
   "metadata": {},
   "outputs": [],
   "source": []
  },
  {
   "cell_type": "code",
   "execution_count": null,
   "id": "7160dd8f",
   "metadata": {},
   "outputs": [],
   "source": []
  },
  {
   "cell_type": "code",
   "execution_count": null,
   "id": "5b356764",
   "metadata": {},
   "outputs": [],
   "source": []
  },
  {
   "cell_type": "code",
   "execution_count": null,
   "id": "fc2e1092",
   "metadata": {},
   "outputs": [],
   "source": []
  }
 ],
 "metadata": {
  "kernelspec": {
   "display_name": "Python 3",
   "language": "python",
   "name": "python3"
  },
  "language_info": {
   "codemirror_mode": {
    "name": "ipython",
    "version": 3
   },
   "file_extension": ".py",
   "mimetype": "text/x-python",
   "name": "python",
   "nbconvert_exporter": "python",
   "pygments_lexer": "ipython3",
   "version": "3.8.8"
  }
 },
 "nbformat": 4,
 "nbformat_minor": 5
}
