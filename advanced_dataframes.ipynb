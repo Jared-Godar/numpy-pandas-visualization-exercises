{
 "cells": [
  {
   "cell_type": "markdown",
   "id": "6110ab01",
   "metadata": {},
   "source": [
    "<h2 id=\"exercises-i\">Exercises I</h2>\n",
    "<p>Run <code>python -m pip install pymysql</code> from your terminal to install pymysql.</p>\n",
    "<p>Create a notebook or python script named <code>advanced_dataframes</code> to do your work in for these exercises.</p>\n"
   ]
  },
  {
   "cell_type": "markdown",
   "id": "1fd4cca1",
   "metadata": {},
   "source": [
    "1. Run <code>python -m pip install pymysql</code> from your terminal to install the mysql client (any folder is fine)</li>"
   ]
  },
  {
   "cell_type": "markdown",
   "id": "44e91a65",
   "metadata": {},
   "source": [
    "2. cd into your exercises folder for this module and run <code>echo env.py &gt;&gt; .gitignore</code></li>"
   ]
  },
  {
   "cell_type": "markdown",
   "id": "fed406db",
   "metadata": {},
   "source": [
    "3. <p>Create a function named <code>get_db_url</code>. It should accept a username, hostname, password, and database name and return a url connection string formatted like in the example at the start of this lesson.</p>"
   ]
  },
  {
   "cell_type": "code",
   "execution_count": 1,
   "id": "6d714dfd",
   "metadata": {},
   "outputs": [],
   "source": [
    "import pandas as pd\n",
    "import numpy as np"
   ]
  },
  {
   "cell_type": "code",
   "execution_count": 33,
   "id": "8e8f60aa",
   "metadata": {},
   "outputs": [],
   "source": [
    "def get_db_url(db_name):\n",
    "    from env import user, host, password\n",
    "    return f'mysql+pymysql://{user}:{password}@{host}/{db_name}'"
   ]
  },
  {
   "cell_type": "markdown",
   "id": "432d9d22",
   "metadata": {},
   "source": [
    "4. <p>Use your function to obtain a connection to the <code>employees</code> database.</p>"
   ]
  },
  {
   "cell_type": "code",
   "execution_count": 3,
   "id": "2458ac6d",
   "metadata": {},
   "outputs": [],
   "source": [
    "url = get_db_url('employees')"
   ]
  },
  {
   "cell_type": "code",
   "execution_count": 4,
   "id": "ad0a53e1",
   "metadata": {},
   "outputs": [
    {
     "data": {
      "text/html": [
       "<div>\n",
       "<style scoped>\n",
       "    .dataframe tbody tr th:only-of-type {\n",
       "        vertical-align: middle;\n",
       "    }\n",
       "\n",
       "    .dataframe tbody tr th {\n",
       "        vertical-align: top;\n",
       "    }\n",
       "\n",
       "    .dataframe thead th {\n",
       "        text-align: right;\n",
       "    }\n",
       "</style>\n",
       "<table border=\"1\" class=\"dataframe\">\n",
       "  <thead>\n",
       "    <tr style=\"text-align: right;\">\n",
       "      <th></th>\n",
       "      <th>emp_no</th>\n",
       "      <th>birth_date</th>\n",
       "      <th>first_name</th>\n",
       "      <th>last_name</th>\n",
       "      <th>gender</th>\n",
       "      <th>hire_date</th>\n",
       "    </tr>\n",
       "  </thead>\n",
       "  <tbody>\n",
       "    <tr>\n",
       "      <th>0</th>\n",
       "      <td>10001</td>\n",
       "      <td>1953-09-02</td>\n",
       "      <td>Georgi</td>\n",
       "      <td>Facello</td>\n",
       "      <td>M</td>\n",
       "      <td>1986-06-26</td>\n",
       "    </tr>\n",
       "    <tr>\n",
       "      <th>1</th>\n",
       "      <td>10002</td>\n",
       "      <td>1964-06-02</td>\n",
       "      <td>Bezalel</td>\n",
       "      <td>Simmel</td>\n",
       "      <td>F</td>\n",
       "      <td>1985-11-21</td>\n",
       "    </tr>\n",
       "    <tr>\n",
       "      <th>2</th>\n",
       "      <td>10003</td>\n",
       "      <td>1959-12-03</td>\n",
       "      <td>Parto</td>\n",
       "      <td>Bamford</td>\n",
       "      <td>M</td>\n",
       "      <td>1986-08-28</td>\n",
       "    </tr>\n",
       "    <tr>\n",
       "      <th>3</th>\n",
       "      <td>10004</td>\n",
       "      <td>1954-05-01</td>\n",
       "      <td>Chirstian</td>\n",
       "      <td>Koblick</td>\n",
       "      <td>M</td>\n",
       "      <td>1986-12-01</td>\n",
       "    </tr>\n",
       "    <tr>\n",
       "      <th>4</th>\n",
       "      <td>10005</td>\n",
       "      <td>1955-01-21</td>\n",
       "      <td>Kyoichi</td>\n",
       "      <td>Maliniak</td>\n",
       "      <td>M</td>\n",
       "      <td>1989-09-12</td>\n",
       "    </tr>\n",
       "    <tr>\n",
       "      <th>...</th>\n",
       "      <td>...</td>\n",
       "      <td>...</td>\n",
       "      <td>...</td>\n",
       "      <td>...</td>\n",
       "      <td>...</td>\n",
       "      <td>...</td>\n",
       "    </tr>\n",
       "    <tr>\n",
       "      <th>300019</th>\n",
       "      <td>499995</td>\n",
       "      <td>1958-09-24</td>\n",
       "      <td>Dekang</td>\n",
       "      <td>Lichtner</td>\n",
       "      <td>F</td>\n",
       "      <td>1993-01-12</td>\n",
       "    </tr>\n",
       "    <tr>\n",
       "      <th>300020</th>\n",
       "      <td>499996</td>\n",
       "      <td>1953-03-07</td>\n",
       "      <td>Zito</td>\n",
       "      <td>Baaz</td>\n",
       "      <td>M</td>\n",
       "      <td>1990-09-27</td>\n",
       "    </tr>\n",
       "    <tr>\n",
       "      <th>300021</th>\n",
       "      <td>499997</td>\n",
       "      <td>1961-08-03</td>\n",
       "      <td>Berhard</td>\n",
       "      <td>Lenart</td>\n",
       "      <td>M</td>\n",
       "      <td>1986-04-21</td>\n",
       "    </tr>\n",
       "    <tr>\n",
       "      <th>300022</th>\n",
       "      <td>499998</td>\n",
       "      <td>1956-09-05</td>\n",
       "      <td>Patricia</td>\n",
       "      <td>Breugel</td>\n",
       "      <td>M</td>\n",
       "      <td>1993-10-13</td>\n",
       "    </tr>\n",
       "    <tr>\n",
       "      <th>300023</th>\n",
       "      <td>499999</td>\n",
       "      <td>1958-05-01</td>\n",
       "      <td>Sachin</td>\n",
       "      <td>Tsukuda</td>\n",
       "      <td>M</td>\n",
       "      <td>1997-11-30</td>\n",
       "    </tr>\n",
       "  </tbody>\n",
       "</table>\n",
       "<p>300024 rows × 6 columns</p>\n",
       "</div>"
      ],
      "text/plain": [
       "        emp_no  birth_date first_name last_name gender   hire_date\n",
       "0        10001  1953-09-02     Georgi   Facello      M  1986-06-26\n",
       "1        10002  1964-06-02    Bezalel    Simmel      F  1985-11-21\n",
       "2        10003  1959-12-03      Parto   Bamford      M  1986-08-28\n",
       "3        10004  1954-05-01  Chirstian   Koblick      M  1986-12-01\n",
       "4        10005  1955-01-21    Kyoichi  Maliniak      M  1989-09-12\n",
       "...        ...         ...        ...       ...    ...         ...\n",
       "300019  499995  1958-09-24     Dekang  Lichtner      F  1993-01-12\n",
       "300020  499996  1953-03-07       Zito      Baaz      M  1990-09-27\n",
       "300021  499997  1961-08-03    Berhard    Lenart      M  1986-04-21\n",
       "300022  499998  1956-09-05   Patricia   Breugel      M  1993-10-13\n",
       "300023  499999  1958-05-01     Sachin   Tsukuda      M  1997-11-30\n",
       "\n",
       "[300024 rows x 6 columns]"
      ]
     },
     "execution_count": 4,
     "metadata": {},
     "output_type": "execute_result"
    }
   ],
   "source": [
    "employees = pd.read_sql('SELECT * FROM employees', url)\n",
    "employees"
   ]
  },
  {
   "cell_type": "markdown",
   "id": "05859f50",
   "metadata": {},
   "source": [
    "5. <p>Once you have successfully run a query:</p>\n",
    "<p>a. Intentionally make a typo in the database url. What kind of error message do you see?</p>"
   ]
  },
  {
   "cell_type": "markdown",
   "id": "aede9cce",
   "metadata": {},
   "source": [
    "<p>b. Intentionally make an error in your SQL query. What does the error message look like?</p>"
   ]
  },
  {
   "cell_type": "code",
   "execution_count": null,
   "id": "fbd5e5f8",
   "metadata": {},
   "outputs": [],
   "source": [
    "pd.read_sql('SELECT * FROM emploees LIMIT 5 OFFSET 50', url)"
   ]
  },
  {
   "cell_type": "markdown",
   "id": "5b137729",
   "metadata": {},
   "source": [
    "6. <p>Read the <code>employees</code> and <code>titles</code> tables into two separate DataFrames.</p>"
   ]
  },
  {
   "cell_type": "code",
   "execution_count": null,
   "id": "733a19ae",
   "metadata": {},
   "outputs": [],
   "source": [
    "employees = pd.read_sql('SELECT * FROM employees', url)"
   ]
  },
  {
   "cell_type": "code",
   "execution_count": null,
   "id": "5a8fa798",
   "metadata": {},
   "outputs": [],
   "source": [
    "employees"
   ]
  },
  {
   "cell_type": "code",
   "execution_count": 5,
   "id": "320013db",
   "metadata": {},
   "outputs": [
    {
     "data": {
      "text/plain": [
       "(300024, 6)"
      ]
     },
     "execution_count": 5,
     "metadata": {},
     "output_type": "execute_result"
    }
   ],
   "source": [
    "employees.shape"
   ]
  },
  {
   "cell_type": "code",
   "execution_count": 6,
   "id": "94668690",
   "metadata": {},
   "outputs": [],
   "source": [
    "def get_db_url(db_name):\n",
    "    from env import user, host, password\n",
    "    return f'mysql+pymysql://{user}:{password}@{host}/titles'"
   ]
  },
  {
   "cell_type": "code",
   "execution_count": 7,
   "id": "815189d9",
   "metadata": {},
   "outputs": [],
   "source": [
    "url2 = get_db_url('titles')"
   ]
  },
  {
   "cell_type": "markdown",
   "id": "d9b825bb",
   "metadata": {},
   "source": [
    "7. <p>How many rows and columns do you have in each DataFrame? Is that what you expected?</p>"
   ]
  },
  {
   "cell_type": "code",
   "execution_count": 8,
   "id": "bdf8fe3c",
   "metadata": {},
   "outputs": [
    {
     "data": {
      "text/html": [
       "<div>\n",
       "<style scoped>\n",
       "    .dataframe tbody tr th:only-of-type {\n",
       "        vertical-align: middle;\n",
       "    }\n",
       "\n",
       "    .dataframe tbody tr th {\n",
       "        vertical-align: top;\n",
       "    }\n",
       "\n",
       "    .dataframe thead th {\n",
       "        text-align: right;\n",
       "    }\n",
       "</style>\n",
       "<table border=\"1\" class=\"dataframe\">\n",
       "  <thead>\n",
       "    <tr style=\"text-align: right;\">\n",
       "      <th></th>\n",
       "      <th>title</th>\n",
       "      <th>dept_name</th>\n",
       "      <th>to_date</th>\n",
       "      <th>from_date</th>\n",
       "    </tr>\n",
       "  </thead>\n",
       "  <tbody>\n",
       "    <tr>\n",
       "      <th>0</th>\n",
       "      <td>Staff</td>\n",
       "      <td>Customer Service</td>\n",
       "      <td>1996-11-09</td>\n",
       "      <td>1990-01-22</td>\n",
       "    </tr>\n",
       "    <tr>\n",
       "      <th>1</th>\n",
       "      <td>Senior Staff</td>\n",
       "      <td>Customer Service</td>\n",
       "      <td>9999-01-01</td>\n",
       "      <td>1996-09-20</td>\n",
       "    </tr>\n",
       "    <tr>\n",
       "      <th>2</th>\n",
       "      <td>Staff</td>\n",
       "      <td>Customer Service</td>\n",
       "      <td>1996-09-20</td>\n",
       "      <td>1989-09-20</td>\n",
       "    </tr>\n",
       "    <tr>\n",
       "      <th>3</th>\n",
       "      <td>Senior Staff</td>\n",
       "      <td>Customer Service</td>\n",
       "      <td>9999-01-01</td>\n",
       "      <td>2000-05-04</td>\n",
       "    </tr>\n",
       "    <tr>\n",
       "      <th>4</th>\n",
       "      <td>Staff</td>\n",
       "      <td>Customer Service</td>\n",
       "      <td>2000-05-04</td>\n",
       "      <td>1992-05-04</td>\n",
       "    </tr>\n",
       "  </tbody>\n",
       "</table>\n",
       "</div>"
      ],
      "text/plain": [
       "          title         dept_name     to_date   from_date\n",
       "0         Staff  Customer Service  1996-11-09  1990-01-22\n",
       "1  Senior Staff  Customer Service  9999-01-01  1996-09-20\n",
       "2         Staff  Customer Service  1996-09-20  1989-09-20\n",
       "3  Senior Staff  Customer Service  9999-01-01  2000-05-04\n",
       "4         Staff  Customer Service  2000-05-04  1992-05-04"
      ]
     },
     "execution_count": 8,
     "metadata": {},
     "output_type": "execute_result"
    }
   ],
   "source": [
    "query = '''\n",
    "SELECT\n",
    "    t.title as title,\n",
    "    d.dept_name as dept_name,\n",
    "    t.to_date as to_date,\n",
    "    t.from_date as from_date\n",
    "FROM titles t\n",
    "JOIN dept_emp USING (emp_no)\n",
    "JOIN departments d USING (dept_no)\n",
    "'''\n",
    "\n",
    "title_dept = pd.read_sql(query, url)\n",
    "title_dept.head()"
   ]
  },
  {
   "cell_type": "markdown",
   "id": "1e66ceb6",
   "metadata": {},
   "source": [
    "8. <p>Display the summary statistics for each DataFrame.</p>\n"
   ]
  },
  {
   "cell_type": "code",
   "execution_count": null,
   "id": "5289ab16",
   "metadata": {},
   "outputs": [],
   "source": [
    "employees.describe()"
   ]
  },
  {
   "cell_type": "code",
   "execution_count": 9,
   "id": "0081da41",
   "metadata": {},
   "outputs": [
    {
     "data": {
      "text/plain": [
       "(489903, 4)"
      ]
     },
     "execution_count": 9,
     "metadata": {},
     "output_type": "execute_result"
    }
   ],
   "source": [
    "title_dept.shape"
   ]
  },
  {
   "cell_type": "code",
   "execution_count": 10,
   "id": "4c6e33d1",
   "metadata": {},
   "outputs": [
    {
     "data": {
      "text/plain": [
       "(300024, 6)"
      ]
     },
     "execution_count": 10,
     "metadata": {},
     "output_type": "execute_result"
    }
   ],
   "source": [
    "employees.shape"
   ]
  },
  {
   "cell_type": "code",
   "execution_count": 11,
   "id": "1986801d",
   "metadata": {},
   "outputs": [
    {
     "data": {
      "text/html": [
       "<div>\n",
       "<style scoped>\n",
       "    .dataframe tbody tr th:only-of-type {\n",
       "        vertical-align: middle;\n",
       "    }\n",
       "\n",
       "    .dataframe tbody tr th {\n",
       "        vertical-align: top;\n",
       "    }\n",
       "\n",
       "    .dataframe thead th {\n",
       "        text-align: right;\n",
       "    }\n",
       "</style>\n",
       "<table border=\"1\" class=\"dataframe\">\n",
       "  <thead>\n",
       "    <tr style=\"text-align: right;\">\n",
       "      <th></th>\n",
       "      <th>title</th>\n",
       "      <th>dept_name</th>\n",
       "      <th>to_date</th>\n",
       "      <th>from_date</th>\n",
       "    </tr>\n",
       "  </thead>\n",
       "  <tbody>\n",
       "    <tr>\n",
       "      <th>count</th>\n",
       "      <td>489903</td>\n",
       "      <td>489903</td>\n",
       "      <td>489903</td>\n",
       "      <td>489903</td>\n",
       "    </tr>\n",
       "    <tr>\n",
       "      <th>unique</th>\n",
       "      <td>7</td>\n",
       "      <td>9</td>\n",
       "      <td>5888</td>\n",
       "      <td>6393</td>\n",
       "    </tr>\n",
       "    <tr>\n",
       "      <th>top</th>\n",
       "      <td>Engineer</td>\n",
       "      <td>Development</td>\n",
       "      <td>9999-01-01</td>\n",
       "      <td>1996-04-19</td>\n",
       "    </tr>\n",
       "    <tr>\n",
       "      <th>freq</th>\n",
       "      <td>126984</td>\n",
       "      <td>125586</td>\n",
       "      <td>265332</td>\n",
       "      <td>148</td>\n",
       "    </tr>\n",
       "  </tbody>\n",
       "</table>\n",
       "</div>"
      ],
      "text/plain": [
       "           title    dept_name     to_date   from_date\n",
       "count     489903       489903      489903      489903\n",
       "unique         7            9        5888        6393\n",
       "top     Engineer  Development  9999-01-01  1996-04-19\n",
       "freq      126984       125586      265332         148"
      ]
     },
     "execution_count": 11,
     "metadata": {},
     "output_type": "execute_result"
    }
   ],
   "source": [
    "title_dept.describe()"
   ]
  },
  {
   "cell_type": "markdown",
   "id": "4a1c5899",
   "metadata": {},
   "source": [
    "9. <p>How many unique titles are in the <code>titles</code> DataFrame?</p>"
   ]
  },
  {
   "cell_type": "code",
   "execution_count": null,
   "id": "9210509a",
   "metadata": {},
   "outputs": [],
   "source": [
    "# 7"
   ]
  },
  {
   "cell_type": "markdown",
   "id": "aa0a4072",
   "metadata": {},
   "source": [
    "10. <p>What is the oldest date in the <code>to_date</code> column? </p>"
   ]
  },
  {
   "cell_type": "code",
   "execution_count": 12,
   "id": "89a7035a",
   "metadata": {},
   "outputs": [
    {
     "data": {
      "text/html": [
       "<div>\n",
       "<style scoped>\n",
       "    .dataframe tbody tr th:only-of-type {\n",
       "        vertical-align: middle;\n",
       "    }\n",
       "\n",
       "    .dataframe tbody tr th {\n",
       "        vertical-align: top;\n",
       "    }\n",
       "\n",
       "    .dataframe thead th {\n",
       "        text-align: right;\n",
       "    }\n",
       "</style>\n",
       "<table border=\"1\" class=\"dataframe\">\n",
       "  <thead>\n",
       "    <tr style=\"text-align: right;\">\n",
       "      <th></th>\n",
       "      <th>title</th>\n",
       "      <th>dept_name</th>\n",
       "      <th>to_date</th>\n",
       "      <th>from_date</th>\n",
       "    </tr>\n",
       "  </thead>\n",
       "  <tbody>\n",
       "    <tr>\n",
       "      <th>352131</th>\n",
       "      <td>Engineer</td>\n",
       "      <td>Quality Management</td>\n",
       "      <td>1985-03-01</td>\n",
       "      <td>1985-02-17</td>\n",
       "    </tr>\n",
       "  </tbody>\n",
       "</table>\n",
       "</div>"
      ],
      "text/plain": [
       "           title           dept_name     to_date   from_date\n",
       "352131  Engineer  Quality Management  1985-03-01  1985-02-17"
      ]
     },
     "execution_count": 12,
     "metadata": {},
     "output_type": "execute_result"
    }
   ],
   "source": [
    "title_dept.sort_values(by = 'to_date', ascending = True).head(1)"
   ]
  },
  {
   "cell_type": "code",
   "execution_count": 13,
   "id": "1ef8dae0",
   "metadata": {},
   "outputs": [
    {
     "data": {
      "text/html": [
       "<div>\n",
       "<style scoped>\n",
       "    .dataframe tbody tr th:only-of-type {\n",
       "        vertical-align: middle;\n",
       "    }\n",
       "\n",
       "    .dataframe tbody tr th {\n",
       "        vertical-align: top;\n",
       "    }\n",
       "\n",
       "    .dataframe thead th {\n",
       "        text-align: right;\n",
       "    }\n",
       "</style>\n",
       "<table border=\"1\" class=\"dataframe\">\n",
       "  <thead>\n",
       "    <tr style=\"text-align: right;\">\n",
       "      <th></th>\n",
       "      <th>title</th>\n",
       "      <th>dept_name</th>\n",
       "      <th>to_date</th>\n",
       "      <th>from_date</th>\n",
       "    </tr>\n",
       "  </thead>\n",
       "  <tbody>\n",
       "    <tr>\n",
       "      <th>352131</th>\n",
       "      <td>Engineer</td>\n",
       "      <td>Quality Management</td>\n",
       "      <td>1985-03-01</td>\n",
       "      <td>1985-02-17</td>\n",
       "    </tr>\n",
       "  </tbody>\n",
       "</table>\n",
       "</div>"
      ],
      "text/plain": [
       "           title           dept_name     to_date   from_date\n",
       "352131  Engineer  Quality Management  1985-03-01  1985-02-17"
      ]
     },
     "execution_count": 13,
     "metadata": {},
     "output_type": "execute_result"
    }
   ],
   "source": [
    "title_dept[title_dept.to_date == title_dept.to_date.min()]"
   ]
  },
  {
   "cell_type": "markdown",
   "id": "89b1d621",
   "metadata": {},
   "source": [
    "11. <p>What is the most recent date in the <code>to_date</code> column?</p>"
   ]
  },
  {
   "cell_type": "code",
   "execution_count": 14,
   "id": "89d859b1",
   "metadata": {},
   "outputs": [
    {
     "data": {
      "text/html": [
       "<div>\n",
       "<style scoped>\n",
       "    .dataframe tbody tr th:only-of-type {\n",
       "        vertical-align: middle;\n",
       "    }\n",
       "\n",
       "    .dataframe tbody tr th {\n",
       "        vertical-align: top;\n",
       "    }\n",
       "\n",
       "    .dataframe thead th {\n",
       "        text-align: right;\n",
       "    }\n",
       "</style>\n",
       "<table border=\"1\" class=\"dataframe\">\n",
       "  <thead>\n",
       "    <tr style=\"text-align: right;\">\n",
       "      <th></th>\n",
       "      <th>title</th>\n",
       "      <th>dept_name</th>\n",
       "      <th>to_date</th>\n",
       "      <th>from_date</th>\n",
       "    </tr>\n",
       "  </thead>\n",
       "  <tbody>\n",
       "    <tr>\n",
       "      <th>244951</th>\n",
       "      <td>Technique Leader</td>\n",
       "      <td>Production</td>\n",
       "      <td>9999-01-01</td>\n",
       "      <td>1997-12-18</td>\n",
       "    </tr>\n",
       "    <tr>\n",
       "      <th>229979</th>\n",
       "      <td>Senior Staff</td>\n",
       "      <td>Marketing</td>\n",
       "      <td>9999-01-01</td>\n",
       "      <td>1995-12-31</td>\n",
       "    </tr>\n",
       "    <tr>\n",
       "      <th>229990</th>\n",
       "      <td>Senior Staff</td>\n",
       "      <td>Marketing</td>\n",
       "      <td>9999-01-01</td>\n",
       "      <td>2001-09-20</td>\n",
       "    </tr>\n",
       "    <tr>\n",
       "      <th>229989</th>\n",
       "      <td>Staff</td>\n",
       "      <td>Marketing</td>\n",
       "      <td>9999-01-01</td>\n",
       "      <td>1994-03-02</td>\n",
       "    </tr>\n",
       "    <tr>\n",
       "      <th>229987</th>\n",
       "      <td>Senior Staff</td>\n",
       "      <td>Marketing</td>\n",
       "      <td>9999-01-01</td>\n",
       "      <td>1997-03-31</td>\n",
       "    </tr>\n",
       "    <tr>\n",
       "      <th>...</th>\n",
       "      <td>...</td>\n",
       "      <td>...</td>\n",
       "      <td>...</td>\n",
       "      <td>...</td>\n",
       "    </tr>\n",
       "    <tr>\n",
       "      <th>203490</th>\n",
       "      <td>Staff</td>\n",
       "      <td>Human Resources</td>\n",
       "      <td>1985-04-17</td>\n",
       "      <td>1985-04-14</td>\n",
       "    </tr>\n",
       "    <tr>\n",
       "      <th>45150</th>\n",
       "      <td>Senior Engineer</td>\n",
       "      <td>Development</td>\n",
       "      <td>1985-03-23</td>\n",
       "      <td>1985-02-10</td>\n",
       "    </tr>\n",
       "    <tr>\n",
       "      <th>405037</th>\n",
       "      <td>Staff</td>\n",
       "      <td>Research</td>\n",
       "      <td>1985-03-20</td>\n",
       "      <td>1985-02-26</td>\n",
       "    </tr>\n",
       "    <tr>\n",
       "      <th>150254</th>\n",
       "      <td>Engineer</td>\n",
       "      <td>Development</td>\n",
       "      <td>1985-03-11</td>\n",
       "      <td>1985-02-10</td>\n",
       "    </tr>\n",
       "    <tr>\n",
       "      <th>352131</th>\n",
       "      <td>Engineer</td>\n",
       "      <td>Quality Management</td>\n",
       "      <td>1985-03-01</td>\n",
       "      <td>1985-02-17</td>\n",
       "    </tr>\n",
       "  </tbody>\n",
       "</table>\n",
       "<p>489903 rows × 4 columns</p>\n",
       "</div>"
      ],
      "text/plain": [
       "                   title           dept_name     to_date   from_date\n",
       "244951  Technique Leader          Production  9999-01-01  1997-12-18\n",
       "229979      Senior Staff           Marketing  9999-01-01  1995-12-31\n",
       "229990      Senior Staff           Marketing  9999-01-01  2001-09-20\n",
       "229989             Staff           Marketing  9999-01-01  1994-03-02\n",
       "229987      Senior Staff           Marketing  9999-01-01  1997-03-31\n",
       "...                  ...                 ...         ...         ...\n",
       "203490             Staff     Human Resources  1985-04-17  1985-04-14\n",
       "45150    Senior Engineer         Development  1985-03-23  1985-02-10\n",
       "405037             Staff            Research  1985-03-20  1985-02-26\n",
       "150254          Engineer         Development  1985-03-11  1985-02-10\n",
       "352131          Engineer  Quality Management  1985-03-01  1985-02-17\n",
       "\n",
       "[489903 rows x 4 columns]"
      ]
     },
     "execution_count": 14,
     "metadata": {},
     "output_type": "execute_result"
    }
   ],
   "source": [
    "title_dept.sort_values(by = 'to_date', ascending = False)"
   ]
  },
  {
   "cell_type": "code",
   "execution_count": 15,
   "id": "c0a2c1bd",
   "metadata": {},
   "outputs": [
    {
     "data": {
      "text/html": [
       "<div>\n",
       "<style scoped>\n",
       "    .dataframe tbody tr th:only-of-type {\n",
       "        vertical-align: middle;\n",
       "    }\n",
       "\n",
       "    .dataframe tbody tr th {\n",
       "        vertical-align: top;\n",
       "    }\n",
       "\n",
       "    .dataframe thead th {\n",
       "        text-align: right;\n",
       "    }\n",
       "</style>\n",
       "<table border=\"1\" class=\"dataframe\">\n",
       "  <thead>\n",
       "    <tr style=\"text-align: right;\">\n",
       "      <th></th>\n",
       "      <th>title</th>\n",
       "      <th>dept_name</th>\n",
       "      <th>to_date</th>\n",
       "      <th>from_date</th>\n",
       "    </tr>\n",
       "  </thead>\n",
       "  <tbody>\n",
       "    <tr>\n",
       "      <th>1</th>\n",
       "      <td>Senior Staff</td>\n",
       "      <td>Customer Service</td>\n",
       "      <td>9999-01-01</td>\n",
       "      <td>1996-09-20</td>\n",
       "    </tr>\n",
       "    <tr>\n",
       "      <th>3</th>\n",
       "      <td>Senior Staff</td>\n",
       "      <td>Customer Service</td>\n",
       "      <td>9999-01-01</td>\n",
       "      <td>2000-05-04</td>\n",
       "    </tr>\n",
       "    <tr>\n",
       "      <th>5</th>\n",
       "      <td>Senior Staff</td>\n",
       "      <td>Customer Service</td>\n",
       "      <td>9999-01-01</td>\n",
       "      <td>1996-05-28</td>\n",
       "    </tr>\n",
       "    <tr>\n",
       "      <th>7</th>\n",
       "      <td>Senior Staff</td>\n",
       "      <td>Customer Service</td>\n",
       "      <td>9999-01-01</td>\n",
       "      <td>1993-09-02</td>\n",
       "    </tr>\n",
       "    <tr>\n",
       "      <th>11</th>\n",
       "      <td>Staff</td>\n",
       "      <td>Customer Service</td>\n",
       "      <td>9999-01-01</td>\n",
       "      <td>1998-05-01</td>\n",
       "    </tr>\n",
       "    <tr>\n",
       "      <th>...</th>\n",
       "      <td>...</td>\n",
       "      <td>...</td>\n",
       "      <td>...</td>\n",
       "      <td>...</td>\n",
       "    </tr>\n",
       "    <tr>\n",
       "      <th>489892</th>\n",
       "      <td>Senior Staff</td>\n",
       "      <td>Sales</td>\n",
       "      <td>9999-01-01</td>\n",
       "      <td>1990-06-13</td>\n",
       "    </tr>\n",
       "    <tr>\n",
       "      <th>489895</th>\n",
       "      <td>Senior Staff</td>\n",
       "      <td>Sales</td>\n",
       "      <td>9999-01-01</td>\n",
       "      <td>1988-12-26</td>\n",
       "    </tr>\n",
       "    <tr>\n",
       "      <th>489896</th>\n",
       "      <td>Senior Staff</td>\n",
       "      <td>Sales</td>\n",
       "      <td>9999-01-01</td>\n",
       "      <td>1999-02-11</td>\n",
       "    </tr>\n",
       "    <tr>\n",
       "      <th>489898</th>\n",
       "      <td>Senior Staff</td>\n",
       "      <td>Sales</td>\n",
       "      <td>9999-01-01</td>\n",
       "      <td>1992-08-11</td>\n",
       "    </tr>\n",
       "    <tr>\n",
       "      <th>489900</th>\n",
       "      <td>Staff</td>\n",
       "      <td>Sales</td>\n",
       "      <td>9999-01-01</td>\n",
       "      <td>1999-12-21</td>\n",
       "    </tr>\n",
       "  </tbody>\n",
       "</table>\n",
       "<p>265332 rows × 4 columns</p>\n",
       "</div>"
      ],
      "text/plain": [
       "               title         dept_name     to_date   from_date\n",
       "1       Senior Staff  Customer Service  9999-01-01  1996-09-20\n",
       "3       Senior Staff  Customer Service  9999-01-01  2000-05-04\n",
       "5       Senior Staff  Customer Service  9999-01-01  1996-05-28\n",
       "7       Senior Staff  Customer Service  9999-01-01  1993-09-02\n",
       "11             Staff  Customer Service  9999-01-01  1998-05-01\n",
       "...              ...               ...         ...         ...\n",
       "489892  Senior Staff             Sales  9999-01-01  1990-06-13\n",
       "489895  Senior Staff             Sales  9999-01-01  1988-12-26\n",
       "489896  Senior Staff             Sales  9999-01-01  1999-02-11\n",
       "489898  Senior Staff             Sales  9999-01-01  1992-08-11\n",
       "489900         Staff             Sales  9999-01-01  1999-12-21\n",
       "\n",
       "[265332 rows x 4 columns]"
      ]
     },
     "execution_count": 15,
     "metadata": {},
     "output_type": "execute_result"
    }
   ],
   "source": [
    "title_dept[title_dept.to_date == title_dept.to_date.max()]"
   ]
  },
  {
   "cell_type": "code",
   "execution_count": 20,
   "id": "ad1045d4",
   "metadata": {},
   "outputs": [
    {
     "data": {
      "text/html": [
       "<div>\n",
       "<style scoped>\n",
       "    .dataframe tbody tr th:only-of-type {\n",
       "        vertical-align: middle;\n",
       "    }\n",
       "\n",
       "    .dataframe tbody tr th {\n",
       "        vertical-align: top;\n",
       "    }\n",
       "\n",
       "    .dataframe thead th {\n",
       "        text-align: right;\n",
       "    }\n",
       "</style>\n",
       "<table border=\"1\" class=\"dataframe\">\n",
       "  <thead>\n",
       "    <tr style=\"text-align: right;\">\n",
       "      <th></th>\n",
       "      <th>emp_no</th>\n",
       "      <th>title</th>\n",
       "      <th>from_date</th>\n",
       "      <th>to_date</th>\n",
       "    </tr>\n",
       "  </thead>\n",
       "  <tbody>\n",
       "    <tr>\n",
       "      <th>0</th>\n",
       "      <td>10004</td>\n",
       "      <td>Engineer</td>\n",
       "      <td>1986-12-01</td>\n",
       "      <td>1995-12-01</td>\n",
       "    </tr>\n",
       "    <tr>\n",
       "      <th>1</th>\n",
       "      <td>10005</td>\n",
       "      <td>Staff</td>\n",
       "      <td>1989-09-12</td>\n",
       "      <td>1996-09-12</td>\n",
       "    </tr>\n",
       "    <tr>\n",
       "      <th>2</th>\n",
       "      <td>10007</td>\n",
       "      <td>Staff</td>\n",
       "      <td>1989-02-10</td>\n",
       "      <td>1996-02-11</td>\n",
       "    </tr>\n",
       "    <tr>\n",
       "      <th>3</th>\n",
       "      <td>10008</td>\n",
       "      <td>Assistant Engineer</td>\n",
       "      <td>1998-03-11</td>\n",
       "      <td>2000-07-31</td>\n",
       "    </tr>\n",
       "    <tr>\n",
       "      <th>4</th>\n",
       "      <td>10009</td>\n",
       "      <td>Assistant Engineer</td>\n",
       "      <td>1985-02-18</td>\n",
       "      <td>1990-02-18</td>\n",
       "    </tr>\n",
       "  </tbody>\n",
       "</table>\n",
       "</div>"
      ],
      "text/plain": [
       "   emp_no               title   from_date     to_date\n",
       "0   10004            Engineer  1986-12-01  1995-12-01\n",
       "1   10005               Staff  1989-09-12  1996-09-12\n",
       "2   10007               Staff  1989-02-10  1996-02-11\n",
       "3   10008  Assistant Engineer  1998-03-11  2000-07-31\n",
       "4   10009  Assistant Engineer  1985-02-18  1990-02-18"
      ]
     },
     "execution_count": 20,
     "metadata": {},
     "output_type": "execute_result"
    }
   ],
   "source": [
    "url = get_db_url(\"employees\")\n",
    "sql = '''\n",
    "SELECT * FROM titles where to_date != '9999-01-01'\n",
    "'''\n",
    "titles2 = pd.read_sql(sql, url)\n",
    "titles2.head()"
   ]
  },
  {
   "cell_type": "code",
   "execution_count": 16,
   "id": "b95ea770",
   "metadata": {},
   "outputs": [
    {
     "data": {
      "text/plain": [
       "title        Technique Leader\n",
       "dept_name               Sales\n",
       "to_date            2002-08-01\n",
       "from_date          2002-06-30\n",
       "dtype: object"
      ]
     },
     "execution_count": 16,
     "metadata": {},
     "output_type": "execute_result"
    }
   ],
   "source": [
    "title_dept[(title_dept.to_date.astype(str) < '9999-01-01')].max()"
   ]
  },
  {
   "cell_type": "code",
   "execution_count": 22,
   "id": "e103a90d",
   "metadata": {},
   "outputs": [
    {
     "data": {
      "text/plain": [
       "datetime.date(2002, 8, 1)"
      ]
     },
     "execution_count": 22,
     "metadata": {},
     "output_type": "execute_result"
    }
   ],
   "source": [
    "titles2.to_date.max()"
   ]
  },
  {
   "cell_type": "code",
   "execution_count": 25,
   "id": "c2b1b41d",
   "metadata": {},
   "outputs": [],
   "source": [
    "titles2.to_date = pd.to_datetime(titles2.to_date)"
   ]
  },
  {
   "cell_type": "code",
   "execution_count": 28,
   "id": "deb461f4",
   "metadata": {},
   "outputs": [
    {
     "data": {
      "text/html": [
       "<div>\n",
       "<style scoped>\n",
       "    .dataframe tbody tr th:only-of-type {\n",
       "        vertical-align: middle;\n",
       "    }\n",
       "\n",
       "    .dataframe tbody tr th {\n",
       "        vertical-align: top;\n",
       "    }\n",
       "\n",
       "    .dataframe thead th {\n",
       "        text-align: right;\n",
       "    }\n",
       "</style>\n",
       "<table border=\"1\" class=\"dataframe\">\n",
       "  <thead>\n",
       "    <tr style=\"text-align: right;\">\n",
       "      <th></th>\n",
       "      <th>emp_no</th>\n",
       "      <th>title</th>\n",
       "      <th>from_date</th>\n",
       "      <th>to_date</th>\n",
       "    </tr>\n",
       "  </thead>\n",
       "  <tbody>\n",
       "    <tr>\n",
       "      <th>7303</th>\n",
       "      <td>20869</td>\n",
       "      <td>Engineer</td>\n",
       "      <td>1985-02-17</td>\n",
       "      <td>1985-03-01</td>\n",
       "    </tr>\n",
       "    <tr>\n",
       "      <th>186225</th>\n",
       "      <td>474918</td>\n",
       "      <td>Engineer</td>\n",
       "      <td>1985-02-10</td>\n",
       "      <td>1985-03-11</td>\n",
       "    </tr>\n",
       "    <tr>\n",
       "      <th>158686</th>\n",
       "      <td>434232</td>\n",
       "      <td>Staff</td>\n",
       "      <td>1985-02-26</td>\n",
       "      <td>1985-03-20</td>\n",
       "    </tr>\n",
       "    <tr>\n",
       "      <th>16209</th>\n",
       "      <td>34059</td>\n",
       "      <td>Senior Engineer</td>\n",
       "      <td>1985-02-10</td>\n",
       "      <td>1985-03-23</td>\n",
       "    </tr>\n",
       "    <tr>\n",
       "      <th>127199</th>\n",
       "      <td>287732</td>\n",
       "      <td>Staff</td>\n",
       "      <td>1985-04-14</td>\n",
       "      <td>1985-04-17</td>\n",
       "    </tr>\n",
       "    <tr>\n",
       "      <th>...</th>\n",
       "      <td>...</td>\n",
       "      <td>...</td>\n",
       "      <td>...</td>\n",
       "      <td>...</td>\n",
       "    </tr>\n",
       "    <tr>\n",
       "      <th>95874</th>\n",
       "      <td>241410</td>\n",
       "      <td>Senior Engineer</td>\n",
       "      <td>2001-04-20</td>\n",
       "      <td>2002-08-01</td>\n",
       "    </tr>\n",
       "    <tr>\n",
       "      <th>65708</th>\n",
       "      <td>106707</td>\n",
       "      <td>Staff</td>\n",
       "      <td>1997-08-01</td>\n",
       "      <td>2002-08-01</td>\n",
       "    </tr>\n",
       "    <tr>\n",
       "      <th>119779</th>\n",
       "      <td>276731</td>\n",
       "      <td>Senior Engineer</td>\n",
       "      <td>1998-01-09</td>\n",
       "      <td>2002-08-01</td>\n",
       "    </tr>\n",
       "    <tr>\n",
       "      <th>108052</th>\n",
       "      <td>259430</td>\n",
       "      <td>Engineer</td>\n",
       "      <td>1993-08-01</td>\n",
       "      <td>2002-08-01</td>\n",
       "    </tr>\n",
       "    <tr>\n",
       "      <th>167151</th>\n",
       "      <td>446732</td>\n",
       "      <td>Senior Engineer</td>\n",
       "      <td>1992-11-10</td>\n",
       "      <td>2002-08-01</td>\n",
       "    </tr>\n",
       "  </tbody>\n",
       "</table>\n",
       "<p>203184 rows × 4 columns</p>\n",
       "</div>"
      ],
      "text/plain": [
       "        emp_no            title   from_date    to_date\n",
       "7303     20869         Engineer  1985-02-17 1985-03-01\n",
       "186225  474918         Engineer  1985-02-10 1985-03-11\n",
       "158686  434232            Staff  1985-02-26 1985-03-20\n",
       "16209    34059  Senior Engineer  1985-02-10 1985-03-23\n",
       "127199  287732            Staff  1985-04-14 1985-04-17\n",
       "...        ...              ...         ...        ...\n",
       "95874   241410  Senior Engineer  2001-04-20 2002-08-01\n",
       "65708   106707            Staff  1997-08-01 2002-08-01\n",
       "119779  276731  Senior Engineer  1998-01-09 2002-08-01\n",
       "108052  259430         Engineer  1993-08-01 2002-08-01\n",
       "167151  446732  Senior Engineer  1992-11-10 2002-08-01\n",
       "\n",
       "[203184 rows x 4 columns]"
      ]
     },
     "execution_count": 28,
     "metadata": {},
     "output_type": "execute_result"
    }
   ],
   "source": [
    "titles2.sort_values(by = 'to_date')"
   ]
  },
  {
   "cell_type": "code",
   "execution_count": null,
   "id": "80f22ef5",
   "metadata": {},
   "outputs": [],
   "source": []
  }
 ],
 "metadata": {
  "kernelspec": {
   "display_name": "Python 3",
   "language": "python",
   "name": "python3"
  },
  "language_info": {
   "codemirror_mode": {
    "name": "ipython",
    "version": 3
   },
   "file_extension": ".py",
   "mimetype": "text/x-python",
   "name": "python",
   "nbconvert_exporter": "python",
   "pygments_lexer": "ipython3",
   "version": "3.8.8"
  }
 },
 "nbformat": 4,
 "nbformat_minor": 5
}
